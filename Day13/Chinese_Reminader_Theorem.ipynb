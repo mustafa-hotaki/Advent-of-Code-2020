{
  "nbformat": 4,
  "nbformat_minor": 0,
  "metadata": {
    "colab": {
      "name": "Chinese_Reminader_Theorem.ipynb",
      "provenance": [],
      "collapsed_sections": []
    },
    "kernelspec": {
      "name": "python3",
      "display_name": "Python 3"
    }
  },
  "cells": [
    {
      "cell_type": "markdown",
      "metadata": {
        "id": "YYCpQYPjz37n"
      },
      "source": [
        "# Chinese Remainder Theorem\r\n",
        "In this notebook, I try to learn and implement routines for the Chinese Remainder Problem. Specifically, I will try to follow the [Wikipedia article](https://en.wikipedia.org/wiki/Chinese_remainder_theorem) on the topic and try to solve the problem in the Compuation section.\r\n",
        "\r\n",
        "Consider a system of congruences:\r\n",
        "\r\n",
        "$$\r\n",
        "\\begin{align} \r\n",
        " x &\\equiv a_1  \\pmod{n_1} \\\\\r\n",
        " &\\vdots             \\\\ \r\n",
        " x &\\equiv a_k \\pmod{n_k}, \\\\ \r\n",
        "\\end{align}\r\n",
        "$$\r\n",
        "\r\n",
        "where the $n_i$ are pairwise coprime, and let $N=n_1 n_2\\cdots n_k.$ In this section several methods are described for computing the unique solution for $x$, such that $0 \\le x < N,$ and these methods are applied on the example:\r\n",
        "\r\n",
        "Example:\r\n",
        "\r\n",
        "$$\r\n",
        "\\begin{align}\r\n",
        " x &\\equiv 0 \\pmod 3 \\\\\r\n",
        " x &\\equiv 3 \\pmod 4 \\\\\r\n",
        " x &\\equiv 4 \\pmod 5.\r\n",
        "\\end{align}\r\n",
        " $$\r\n",
        "\r\n",
        "**Congruence** is defined as:\r\n",
        "\r\n",
        "For a given positive integer $n$, two integers $a$ and $b$ are called '''congruent modulo $n$''', written: \r\n",
        "\r\n",
        "$$\r\n",
        "a \\equiv b \\pmod{n}\r\n",
        "$$\r\n",
        "\r\n",
        "if $a - b$ is divisible by $n$ (or equivalently if $a$ and $b$ have the same remainder when divided by $n$).\r\n",
        "\r\n",
        "\r\n"
      ]
    },
    {
      "cell_type": "markdown",
      "metadata": {
        "id": "e8wEfXKj1arp"
      },
      "source": [
        "# Systematic search\r\n",
        "It is easy to check whether a value of $x$ is a solution: it suffices to compute the remainder of the Euclidean division of $x$ by each $n_i$. Thus, to find the solution, it suffices to check successively the integers from $0$ to $N$ until finding the solution."
      ]
    },
    {
      "cell_type": "code",
      "metadata": {
        "colab": {
          "base_uri": "https://localhost:8080/"
        },
        "id": "6SUWMF9K1VLa",
        "outputId": "c6f35bb5-2b23-4216-ff34-f77acbdb19e5"
      },
      "source": [
        "from functools import reduce\r\n",
        "\r\n",
        "# Example -> 39\r\n",
        "a_s = [0, 3, 4]\r\n",
        "n_s = [3, 4, 5]\r\n",
        "\r\n",
        "# Example -> 301\r\n",
        "#a_s = [1, 1, 1, 0]\r\n",
        "#n_s = [3, 4, 5, 7] \r\n",
        "\r\n",
        "N = reduce(lambda x, y: x *y, n_s)\r\n",
        "\r\n",
        "for x_cand in range(0, N + 1):\r\n",
        "  remainders_count = 0\r\n",
        "  for i, (a, n) in enumerate(zip(a_s, n_s)):\r\n",
        "    if(x_cand % n == a):\r\n",
        "      remainders_count += 1\r\n",
        "    else: break # no need to check more if one fails\r\n",
        "\r\n",
        "  if(remainders_count == len(n_s)):\r\n",
        "    print(\"Found x that satisfies the problem: \", x_cand)\r\n",
        "    break\r\n"
      ],
      "execution_count": 1,
      "outputs": [
        {
          "output_type": "stream",
          "text": [
            "Found x that satisfies the problem:  39\n"
          ],
          "name": "stdout"
        }
      ]
    },
    {
      "cell_type": "markdown",
      "metadata": {
        "id": "kH0MunX57b5u"
      },
      "source": [
        "Although very simple, this method is very inefficient. For the simple example considered here, $40$ integers (including $0$) have to be checked for finding the solution, which is $39$. This is an exponential time algorithm, as the size of the input is, up to a constant factor, the number of digits of $n$, and the average number of operations is of the order of $n$.\r\n",
        "\r\n",
        "Therefore, this method is rarely used, neither for hand-written computation nor on computers."
      ]
    },
    {
      "cell_type": "markdown",
      "metadata": {
        "id": "cD1QCUhi6tfO"
      },
      "source": [
        "# Search by sieving\r\n",
        "\r\n",
        "The search of the solution may be made dramatically faster by sieving. For this method, we suppose, without loss of generality, that $0\\le a_i < n_i$ (if it were not the case, it would suffice to replace each $a_i$ by the remainder of its division by $n_i$). This implies that the solution belongs to the arithmetic progression: \r\n",
        "\r\n",
        "$$\r\n",
        "a_1, a_1 + n_1, a_1+2n_1, \\ldots\r\n",
        "$$\r\n",
        "\r\n",
        "By testing the values of these numbers modulo $n_2,$ one eventually finds a solution $x_2$ of the two first congruences. Then the solution belongs to the arithmetic progression: \r\n",
        "\r\n",
        "$$\r\n",
        "x_2, x_2 + n_1n_2, x_2+2n_1n_2, \\ldots\r\n",
        "$$\r\n",
        "\r\n",
        "\r\n",
        "Testing the values of these numbers modulo $n_3,$, and continuing until every modulus has been tested gives eventually the solution.\r\n",
        "\r\n",
        "\r\n",
        "This method is faster if the moduli have been ordered by decreasing value, that is if $ n_{1}>n_{2}>\\cdots >n_{k}.$ For the example, this gives the following computation. We consider first the numbers that are congruent to 4 modulo 5 (the largest modulus), which are\r\n",
        "\r\n",
        " 4, 9 = 4 + 5, \r\n",
        " 14 = 9 + 5, ... \r\n",
        " \r\n",
        "For each of them, compute the remainder by 4 (the second largest modulus) until getting a number congruent to 3 modulo 4. Then one can proceed by adding 20 = 5×4 at each step, and computing only the remainders by 3. This gives\r\n",
        "\r\n",
        "4 mod 4 → 0. Continue\r\n",
        "\r\n",
        "4 + 5 = 9 mod 4 →1. Continue\r\n",
        "\r\n",
        "9 + 5 = 14 mod 4 → 2. Continue\r\n",
        "\r\n",
        "14 + 5 = 19 mod 4 → 3. OK, continue by considering remainders modulo 3 and adding 5×4 = 20 each time\r\n",
        "\r\n",
        "19 mod 3 → 1. Continue\r\n",
        "\r\n",
        "19 + 20 = 39 mod 3 → 0. OK, this is the result.\r\n",
        "\r\n",
        "This method works well for hand-written computation with a product of moduli that is not too big. However, it is much slower than other methods, for very large products of moduli. Although dramatically faster than the systematic search, this method also has an exponential time complexity and is therefore not used on computers."
      ]
    },
    {
      "cell_type": "code",
      "metadata": {
        "colab": {
          "base_uri": "https://localhost:8080/"
        },
        "id": "XY-NXKsF7KfJ",
        "outputId": "8d2573ef-2cc8-4ab4-c273-e37561605c2c"
      },
      "source": [
        "from functools import reduce\r\n",
        "\r\n",
        "# Example -> 39\r\n",
        "a_s = [0, 3, 4]\r\n",
        "n_s = [3, 4, 5]\r\n",
        "\r\n",
        "# Example -> 301\r\n",
        "#a_s = [1, 1, 1, 0]\r\n",
        "#n_s = [3, 4, 5, 7]\r\n",
        "\r\n",
        "running_product = 1 \r\n",
        "previous_solution = a_s[0]\r\n",
        "for k, (a, n) in enumerate(zip(a_s[:-1], n_s[:-1])):\r\n",
        "  next_a = a_s[k + 1]\r\n",
        "  next_n = n_s[k + 1]\r\n",
        "\r\n",
        "  running_product *= n # Will hold n_1, n_1 * n_2, n_1*n_2*n_3, for iterations, k = 0, 1, 2...\r\n",
        "  \r\n",
        "  print('k:', k, 'a:', a, 'n:', n, 'next_n:', next_n, 'running_product', running_product)\r\n",
        "  i = 0\r\n",
        "  while(True):\r\n",
        "    candidate = previous_solution + i * running_product\r\n",
        "    remainder = candidate % next_n\r\n",
        "\r\n",
        "    #print('candidate ({}) mod ({}) = remainder ({})'.format(candidate, next_n, remainder))\r\n",
        "    if(remainder == next_a):\r\n",
        "      previous_solution = candidate\r\n",
        "      print('Found', candidate)\r\n",
        "      break\r\n",
        "\r\n",
        "    i += 1\r\n"
      ],
      "execution_count": 2,
      "outputs": [
        {
          "output_type": "stream",
          "text": [
            "k: 0 a: 0 n: 3 next_n: 4 running_product 3\n",
            "Found 3\n",
            "k: 1 a: 3 n: 4 next_n: 5 running_product 12\n",
            "Found 39\n"
          ],
          "name": "stdout"
        }
      ]
    },
    {
      "cell_type": "markdown",
      "metadata": {
        "id": "Rys16pA8bZCY"
      },
      "source": [
        "# Advent of Code 2020 - Day 13 - Part 2\r\n",
        "\r\n",
        "Now that we have implemented an efficient method (compared to brute-force search) for computing a solution, we can check if we can use CRT to solve this problem.\r\n",
        "\r\n"
      ]
    },
    {
      "cell_type": "code",
      "metadata": {
        "colab": {
          "base_uri": "https://localhost:8080/"
        },
        "id": "6hKt7ra3bcAl",
        "outputId": "c38f9173-f574-4a14-822a-e057782d4a61"
      },
      "source": [
        "f = open(\"inputs_day_13.txt\", \"r\")\r\n",
        "inputs_day_13 = []\r\n",
        "for line in f:\r\n",
        "  line_formatted = line.strip()\r\n",
        "  #print(laine_formatted)\r\n",
        "  inputs_day_13.append(line_formatted)\r\n",
        "print(inputs_day_13)\r\n",
        "print(len(inputs_day_13))"
      ],
      "execution_count": 3,
      "outputs": [
        {
          "output_type": "stream",
          "text": [
            "['1002461', '29,x,x,x,x,x,x,x,x,x,x,x,x,x,x,x,x,x,x,41,x,x,x,x,x,x,x,x,x,521,x,x,x,x,x,x,x,23,x,x,x,x,13,x,x,x,17,x,x,x,x,x,x,x,x,x,x,x,x,x,601,x,x,x,x,x,37,x,x,x,x,x,x,x,x,x,x,x,x,19']\n",
            "2\n"
          ],
          "name": "stdout"
        }
      ]
    },
    {
      "cell_type": "code",
      "metadata": {
        "colab": {
          "base_uri": "https://localhost:8080/"
        },
        "id": "_8lpaTHlb3rp",
        "outputId": "61f47906-18a2-4606-fd75-d9ef6ee308bf"
      },
      "source": [
        "bus_ids_all = [bus_id for bus_id in inputs_day_13[1].split(',')]\r\n",
        "offsets = {}\r\n",
        "for i, bus_id in enumerate(bus_ids_all):\r\n",
        "  if(bus_id != 'x'):\r\n",
        "    offsets[int(bus_id)] = i\r\n",
        "print('offsets', offsets)\r\n",
        "bus_ids = [int(bus_id) for bus_id in bus_ids_all if bus_id != 'x']\r\n",
        "#bus_ids.sort(reverse=True)\r\n",
        "indexes = [offsets[bus_id] for bus_id in bus_ids]\r\n",
        "print('bus_ids', bus_ids)\r\n",
        "print('indexes', indexes)"
      ],
      "execution_count": 4,
      "outputs": [
        {
          "output_type": "stream",
          "text": [
            "offsets {29: 0, 41: 19, 521: 29, 23: 37, 13: 42, 17: 46, 601: 60, 37: 66, 19: 79}\n",
            "bus_ids [29, 41, 521, 23, 13, 17, 601, 37, 19]\n",
            "indexes [0, 19, 29, 37, 42, 46, 60, 66, 79]\n"
          ],
          "name": "stdout"
        }
      ]
    },
    {
      "cell_type": "markdown",
      "metadata": {
        "id": "0Ufd9XmpcFZv"
      },
      "source": [
        "Looking at the above, we can write a system of equations:\r\n",
        "\r\n",
        "\r\n",
        "$$\r\n",
        "(t + 0) \\mod 29 = 0 \\\\\r\n",
        "(t + 19) \\mod 41 = 0 \\\\\r\n",
        "(t + 29) \\mod 521 = 0 \\\\\r\n",
        "(t + 37) \\mod 13 = 0 \\\\\r\n",
        "(t + 42) \\mod 17 = 0 \\\\\r\n",
        "(t + 46) \\mod 37 = 0 \\\\\r\n",
        "(t + 60) \\mod 601 = 0 \\\\\r\n",
        "(t + 66) \\mod 37 = 0 \\\\\r\n",
        "(t + 79) \\mod 19 = 0 \\\\\r\n",
        "$$\r\n",
        "\r\n",
        "**(Cheating)**\r\n",
        "\r\n",
        "An equation solver such as Wolfram Alpha is able to [solve](https://www.wolframalpha.com/input/?i=solve+%28t+%2B+0%29+mod+29+%3D+0%3B+%28t+%2B+19%29+mod+41+%3D+0%3B+%28t+%2B+29%29+mod+521+%3D+0%3B+%28t+%2B+37%29+mod+23+%3D+0%3B+%28t+%2B+42%29+mod+13+%3D+0%3B+%28t+%2B+46%29+mod+17+%3D+0%3B+%28t+%2B+60%29+mod+601+%3D+0%3B+%28t+%2B+66%29+mod+37%3D+0%3B%28t+%2B+79%29+mod+19+%3D+0%3B) this problem:\r\n",
        "\r\n",
        "$$\r\n",
        "t = 1330360937940281 n + 725850285300475, n \\in \\mathbb{Z}\r\n",
        "$$\r\n",
        "\r\n",
        "**Using CRT**\r\n",
        "\r\n",
        "Could we cast the problem as system of congruences?\r\n",
        "\r\n",
        "Consulting the definition of congruence, we can get:\r\n",
        "\r\n",
        "$$\r\n",
        "(a-b) \\mod n = 0\r\n",
        "$$\r\n",
        "\r\n",
        "This is (almost) in the same for as the CRT statement.\r\n",
        "\r\n",
        "$$\r\n",
        "t \\equiv -0 \\pmod{29} \\\\\r\n",
        "t \\equiv -19 \\pmod{41}\\\\\r\n",
        "t \\equiv -29 \\pmod{521}\\\\\r\n",
        "t \\equiv -37 \\pmod{13}\\\\\r\n",
        "t \\equiv -42 \\pmod{17} \\\\\r\n",
        "t \\equiv -46 \\pmod{37} \\\\\r\n",
        "t \\equiv -60 \\pmod{601} \\\\\r\n",
        "t \\equiv -66 \\pmod{37} \\\\\r\n",
        "t \\equiv -79 \\pmod{19} \\\\\r\n",
        "$$\r\n",
        "\r\n",
        "It does not exactly match the CRT statement that all $a_k$ be positive. However, we can find positive integers that give the same remainders. We replace a negative value $a_k$ with $a_k \\mod n_k$.\r\n",
        "\r\n",
        "\r\n",
        "$$\r\n",
        "t \\equiv 0 \\pmod{29} \\\\\r\n",
        "t \\equiv 22 \\pmod{41}\\\\\r\n",
        "t \\equiv 492 \\pmod{521}\\\\\r\n",
        "t \\equiv 521 \\pmod{13}\\\\\r\n",
        "t \\equiv 23 \\pmod{17} \\\\\r\n",
        "t \\equiv 13 \\pmod{37} \\\\\r\n",
        "t \\equiv 17 \\pmod{601} \\\\\r\n",
        "t \\equiv 601 \\pmod{37} \\\\\r\n",
        "t \\equiv 37 \\pmod{19} \\\\\r\n",
        "$$\r\n",
        "\r\n"
      ]
    },
    {
      "cell_type": "code",
      "metadata": {
        "colab": {
          "base_uri": "https://localhost:8080/"
        },
        "id": "thwyiJQ67Q4d",
        "outputId": "ebe01ac1-a5a1-4a96-db04-ad26097d164e"
      },
      "source": [
        "a_s = [-index % bus_id for index, bus_id in zip(indexes, bus_ids)]\r\n",
        "n_s = bus_ids\r\n",
        "print('a_s', a_s)\r\n",
        "print('n_s', n_s)"
      ],
      "execution_count": 5,
      "outputs": [
        {
          "output_type": "stream",
          "text": [
            "a_s [0, 22, 492, 9, 10, 5, 541, 8, 16]\n",
            "n_s [29, 41, 521, 23, 13, 17, 601, 37, 19]\n"
          ],
          "name": "stdout"
        }
      ]
    },
    {
      "cell_type": "code",
      "metadata": {
        "colab": {
          "base_uri": "https://localhost:8080/"
        },
        "id": "dwGUNAQC36kU",
        "outputId": "f1a98616-a689-49b3-edc0-fb88ab8d8935"
      },
      "source": [
        "import time\r\n",
        "from functools import reduce\r\n",
        "\r\n",
        "start_time = time.time()\r\n",
        "\r\n",
        "running_product = 1 \r\n",
        "previous_solution = a_s[0]\r\n",
        "count = 0\r\n",
        "for k, (a, n) in enumerate(zip(a_s[:-1], n_s[:-1])):\r\n",
        "  next_a = a_s[k + 1]\r\n",
        "  next_n = n_s[k + 1]\r\n",
        "\r\n",
        "  running_product *= n # Will hold n_1, n_1 * n_2, n_1*n_2*n_3, for iterations, k = 0, 1, 2...\r\n",
        "  \r\n",
        "  print('k:', k, 'a:', a, 'n:', n, 'next_n:', next_n, 'running_product', running_product)\r\n",
        "  i = 0\r\n",
        "  while(True):\r\n",
        "    candidate = previous_solution + i * running_product\r\n",
        "    remainder = candidate % next_n\r\n",
        "    count += 1\r\n",
        "    #print('candidate ({}) mod ({}) = remainder ({})'.format(candidate, next_n, remainder))\r\n",
        "    if(remainder == next_a):\r\n",
        "      previous_solution = candidate\r\n",
        "      print('Found', candidate)\r\n",
        "      break\r\n",
        "\r\n",
        "    i += 1\r\n",
        "\r\n",
        "print(\"\\nExecution completed in {}s seconds.\".format(time.time() - start_time))"
      ],
      "execution_count": 10,
      "outputs": [
        {
          "output_type": "stream",
          "text": [
            "k: 0 a: 0 n: 29 next_n: 41 running_product 29\n",
            "Found 145\n",
            "k: 1 a: 22 n: 41 next_n: 521 running_product 1189\n",
            "Found 302151\n",
            "k: 2 a: 492 n: 521 next_n: 23 running_product 619469\n",
            "Found 10833124\n",
            "k: 3 a: 9 n: 23 next_n: 13 running_product 14247787\n",
            "Found 139063207\n",
            "k: 4 a: 10 n: 13 next_n: 17 running_product 185221231\n",
            "Found 1065169362\n",
            "k: 5 a: 5 n: 17 next_n: 601 running_product 3148760927\n",
            "Found 1059048840834\n",
            "k: 6 a: 541 n: 601 next_n: 37 running_product 1892405317127\n",
            "Found 25660317963485\n",
            "k: 7 a: 8 n: 37 next_n: 19 running_product 70018996733699\n",
            "Found 725850285300475\n",
            "\n",
            "Execution completed in 0.005329132080078125s seconds.\n"
          ],
          "name": "stdout"
        }
      ]
    },
    {
      "cell_type": "code",
      "metadata": {
        "colab": {
          "base_uri": "https://localhost:8080/"
        },
        "id": "uO7SAdQlPhyD",
        "outputId": "d9f5462d-cb00-4085-e4e5-c6876be38f10"
      },
      "source": [
        "offsets"
      ],
      "execution_count": 15,
      "outputs": [
        {
          "output_type": "execute_result",
          "data": {
            "text/plain": [
              "{13: 42, 17: 46, 19: 79, 23: 37, 29: 0, 37: 66, 41: 19, 521: 29, 601: 60}"
            ]
          },
          "metadata": {
            "tags": []
          },
          "execution_count": 15
        }
      ]
    },
    {
      "cell_type": "markdown",
      "metadata": {
        "id": "M9UINUia-4ud"
      },
      "source": [
        "We get the correct answer $725850285300475$ (725 trillion 850 billion 285 million 300 thousand 475), which we found with Wolfram Alpha. The search methods were easy enough to implement, but I need to study the CRT more carefully. I think it may be a good gateway into number theory."
      ]
    },
    {
      "cell_type": "code",
      "metadata": {
        "id": "EfwRMTVtPrFK"
      },
      "source": [
        ""
      ],
      "execution_count": null,
      "outputs": []
    }
  ]
}