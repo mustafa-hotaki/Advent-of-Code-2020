{
  "nbformat": 4,
  "nbformat_minor": 0,
  "metadata": {
    "colab": {
      "name": "Day1.ipynb",
      "provenance": [],
      "collapsed_sections": [],
      "toc_visible": true
    },
    "kernelspec": {
      "name": "python3",
      "display_name": "Python 3"
    }
  },
  "cells": [
    {
      "cell_type": "markdown",
      "metadata": {
        "id": "rEBM8osEoWzv"
      },
      "source": [
        "# Advent of Code - 2020 - Day 1\r\n",
        "\r\n",
        "Both parts can be done by finding [combinations](https://en.wikipedia.org/wiki/Combination) of the numbers and checking if they sum to 2020. The process can be made more efficient by reducing the search space."
      ]
    },
    {
      "cell_type": "code",
      "metadata": {
        "colab": {
          "base_uri": "https://localhost:8080/"
        },
        "id": "qpQvAm8NoXNK",
        "outputId": "4cd8b884-f79a-4f6b-e79d-2f73c431b2c0"
      },
      "source": [
        "data = []\r\n",
        "with open(\"inputs_day_1.txt\", \"r\") as f:\r\n",
        "  for x in f:\r\n",
        "    data.append(int(x))\r\n",
        "print('First 10 data points:', data[:10])\r\n",
        "print('Number of data points:', len(data))"
      ],
      "execution_count": 7,
      "outputs": [
        {
          "output_type": "stream",
          "text": [
            "First 10 data points: [1630, 1801, 1917, 1958, 1953, 1521, 1990, 1959, 1543, 1798]\n",
            "Number of data points: 200\n"
          ],
          "name": "stdout"
        }
      ]
    },
    {
      "cell_type": "markdown",
      "metadata": {
        "id": "ss_TYcYToz0G"
      },
      "source": [
        "## Part 1"
      ]
    },
    {
      "cell_type": "code",
      "metadata": {
        "colab": {
          "base_uri": "https://localhost:8080/"
        },
        "id": "p6mfPQrLo0Nn",
        "outputId": "a8e10cbf-82c1-480d-80c9-9f57902748a5"
      },
      "source": [
        "import time\r\n",
        "from itertools import combinations  \r\n",
        "\r\n",
        "start_time = time.time()\r\n",
        "\r\n",
        "# There are (200 choose 2) = 19900 combinations\r\n",
        "combs = combinations(data, 2)  \r\n",
        "  \r\n",
        "for i, j in list(combs):\r\n",
        "    if(i + j == 2020):\r\n",
        "      print('{0} + {1} = {2}, {0} * {1} = {3}'.format(i, j, i + j, i * j))\r\n",
        "      break\r\n",
        "\r\n",
        "print(\"\\nExecution completed in {} seconds.\".format(time.time() - start_time))"
      ],
      "execution_count": 24,
      "outputs": [
        {
          "output_type": "stream",
          "text": [
            "586 + 1434 = 2020, 586 * 1434 = 840324\n",
            "\n",
            "Execution completed in 0.0040683746337890625 seconds.\n"
          ],
          "name": "stdout"
        }
      ]
    },
    {
      "cell_type": "code",
      "metadata": {
        "colab": {
          "base_uri": "https://localhost:8080/"
        },
        "id": "NOhHzxrNp7KO",
        "outputId": "94877e98-91aa-42ee-d550-3f2fe6b3cac3"
      },
      "source": [
        "import time\r\n",
        "\r\n",
        "# Alternate, faster solution\r\n",
        "start_time = time.time()\r\n",
        "\r\n",
        "for i in data:\r\n",
        "  j = 2020 - i\r\n",
        "  if(j in data): # Essentially, another loop\r\n",
        "    print('{0} + {1} = {2}, {0} * {1} = {3}'.format(i, j, i + j, i * j))\r\n",
        "    break\r\n",
        "\r\n",
        "print(\"\\nExecution completed in {} seconds.\".format(time.time() - start_time))"
      ],
      "execution_count": 25,
      "outputs": [
        {
          "output_type": "stream",
          "text": [
            "586 + 1434 = 2020, 586 * 1434 = 840324\n",
            "\n",
            "Execution completed in 0.00093841552734375 seconds.\n"
          ],
          "name": "stdout"
        }
      ]
    },
    {
      "cell_type": "markdown",
      "metadata": {
        "id": "FR7hQxXMpA8x"
      },
      "source": [
        "## Part 2"
      ]
    },
    {
      "cell_type": "code",
      "metadata": {
        "colab": {
          "base_uri": "https://localhost:8080/"
        },
        "id": "TgbDuYl7pHag",
        "outputId": "67198b1f-01a4-461d-f8b6-7b5637abcdc5"
      },
      "source": [
        "import time\r\n",
        "from itertools import combinations  \r\n",
        "\r\n",
        "start_time = time.time()\r\n",
        "\r\n",
        "# There are (200 choose 3) = 1313400 combinations\r\n",
        "combs = combinations(data, 3)  \r\n",
        "  \r\n",
        "for i, j, k in list(combs):\r\n",
        "    if(i + j + k == 2020):\r\n",
        "      print('{0} + {1} + {2} = {3}, {0} * {1} * {2} = {4}'.format(i, j, k, i + j + k, i * j))\r\n",
        "      break\r\n",
        "\r\n",
        "print(\"\\nExecution completed in {} seconds.\".format(time.time() - start_time))"
      ],
      "execution_count": 28,
      "outputs": [
        {
          "output_type": "stream",
          "text": [
            "910 + 903 + 207 = 2020, 910 * 903 * 207 = 821730\n",
            "\n",
            "Execution completed in 0.26543307304382324 seconds.\n"
          ],
          "name": "stdout"
        }
      ]
    }
  ]
}