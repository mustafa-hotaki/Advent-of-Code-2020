{
  "nbformat": 4,
  "nbformat_minor": 0,
  "metadata": {
    "colab": {
      "name": "Day24.ipynb",
      "provenance": [],
      "collapsed_sections": []
    },
    "kernelspec": {
      "name": "python3",
      "display_name": "Python 3"
    }
  },
  "cells": [
    {
      "cell_type": "markdown",
      "metadata": {
        "id": "0bUeMB3bJLBg"
      },
      "source": [
        "# Advent of Code 2020 - Day 24\r\n",
        "\r\n",
        "I used a graph in my first attempt, but it quickly became a nightmare since it required adding edges between all neighbors. This solution takes advantage of the regularity of the [hexagonal tiling](https://en.wikipedia.org/wiki/Hexagonal_tiling). I keep track of tiles in a hash map with keys being a coordinate $(x, y)$. I assume a shift to the right with each decreasing $y$ e.g., the tile at the location $(0, 0$)'s neighbor to the southeast is in location $(0, -1)$."
      ]
    },
    {
      "cell_type": "code",
      "metadata": {
        "colab": {
          "base_uri": "https://localhost:8080/"
        },
        "id": "7W3rGom7JLGs",
        "outputId": "9a2a38c7-991e-443e-8921-7e7b91462916"
      },
      "source": [
        "data = []\r\n",
        "with open('inputs_day_24.txt', 'r') as f:\r\n",
        "  for line in f:\r\n",
        "    data.append(line.strip())\r\n",
        "\r\n",
        "print(len(data))"
      ],
      "execution_count": 1,
      "outputs": [
        {
          "output_type": "stream",
          "text": [
            "430\n"
          ],
          "name": "stdout"
        }
      ]
    },
    {
      "cell_type": "code",
      "metadata": {
        "id": "_IHguu8fQ9Vi"
      },
      "source": [
        "def Parse_Instruction(line):\r\n",
        "  instruction = []\r\n",
        "  cursor = 0\r\n",
        "  while(cursor < len(line)):\r\n",
        "    step = ''\r\n",
        "    if(line[cursor] == 's' or line[cursor] == 'n'): # se, sw, ne, nw\r\n",
        "      step = line[cursor : cursor + 2]\r\n",
        "      cursor += 2\r\n",
        "\r\n",
        "    elif(line[cursor] == 'e' or line[cursor] == 'w'): # e\r\n",
        "      step = line[cursor]\r\n",
        "      cursor += 1\r\n",
        "\r\n",
        "    instruction.append(step)\r\n",
        "  return instruction\r\n",
        "\r\n",
        "instructions = [Parse_Instruction(line) for line in data]"
      ],
      "execution_count": 2,
      "outputs": []
    },
    {
      "cell_type": "markdown",
      "metadata": {
        "id": "gA8A9x7qQndI"
      },
      "source": [
        "## Part 1"
      ]
    },
    {
      "cell_type": "code",
      "metadata": {
        "id": "IWZGT3S3YNFh",
        "colab": {
          "base_uri": "https://localhost:8080/"
        },
        "outputId": "f95b21ae-09e4-41d5-f787-bd6d76cb56e2"
      },
      "source": [
        "\r\n",
        "Center = (0, 0)\r\n",
        "Tile_Map = {Center : 'White'} # Assume we shift left for decreasing y\r\n",
        "\r\n",
        "for i, instruction in enumerate(instructions):\r\n",
        "  current = Center\r\n",
        "  for j, step in enumerate(instruction):\r\n",
        "    new = None\r\n",
        "    if(step == 'e'):\r\n",
        "      new = (current[0] + 1, current[1])\r\n",
        "    elif(step == 'se'):\r\n",
        "      new = (current[0], current[1] - 1)\r\n",
        "    elif(step == 'sw'):\r\n",
        "      new = (current[0] - 1, current[1] - 1)\r\n",
        "    elif(step == 'w'):\r\n",
        "      new = (current[0] - 1, current[1])\r\n",
        "    elif(step == 'nw'):\r\n",
        "      new = (current[0], current[1] + 1)\r\n",
        "    elif(step == 'ne'): \r\n",
        "      new = (current[0] + 1, current[1] + 1)\r\n",
        "    else:\r\n",
        "      raise('Oops')\r\n",
        "\r\n",
        "    # Add new tile\r\n",
        "    if(not new in Tile_Map.keys()):\r\n",
        "        Tile_Map[new] = 'White'\r\n",
        "\r\n",
        "    # Update current\r\n",
        "    current = new\r\n",
        "    \r\n",
        "    # Flip one found the tile\r\n",
        "    if(j == len(instruction) - 1):\r\n",
        "      if(Tile_Map[current] == 'White'): Tile_Map[current] = 'Black'\r\n",
        "      else: Tile_Map[current] = 'White'\r\n",
        "    \r\n",
        "print('Number of black tiles:', len([color for color in list(Tile_Map.values()) if color == 'Black']))"
      ],
      "execution_count": 3,
      "outputs": [
        {
          "output_type": "stream",
          "text": [
            "Number of black tiles: 388\n"
          ],
          "name": "stdout"
        }
      ]
    },
    {
      "cell_type": "markdown",
      "metadata": {
        "id": "HYCODPmMiH5v"
      },
      "source": [
        "## Part 2"
      ]
    },
    {
      "cell_type": "code",
      "metadata": {
        "id": "FFoc1rLNiMxj"
      },
      "source": [
        "def get_tile_neighbors(tile):\r\n",
        "  e = (tile[0] + 1, tile[1])\r\n",
        "  se = (tile[0], tile[1] - 1)\r\n",
        "  sw = (tile[0] - 1, tile[1] - 1)\r\n",
        "  w = (tile[0] - 1, tile[1])\r\n",
        "  nw = (tile[0], tile[1] + 1)\r\n",
        "  ne = (tile[0] + 1, tile[1] + 1)\r\n",
        "\r\n",
        "  return e, se, sw, w, nw, ne\r\n"
      ],
      "execution_count": 4,
      "outputs": []
    },
    {
      "cell_type": "code",
      "metadata": {
        "colab": {
          "base_uri": "https://localhost:8080/"
        },
        "id": "9T3q8I8Xiz3A",
        "outputId": "50223ee9-3261-4ab6-cf51-bcef2ad01119"
      },
      "source": [
        "import copy\r\n",
        "\r\n",
        "Tile_Map_Prev = copy.deepcopy(Tile_Map)\r\n",
        "\r\n",
        "for day in range(100):\r\n",
        "  Tile_Map_New = copy.deepcopy(Tile_Map_Prev)\r\n",
        "\r\n",
        "  # Black to white\r\n",
        "  for tile in Tile_Map_Prev:\r\n",
        "    tile_neighbors = get_tile_neighbors(tile)\r\n",
        "    black_counter = 0\r\n",
        "    for tile_neighbor in tile_neighbors:\r\n",
        "      if(tile_neighbor in Tile_Map_Prev.keys()):\r\n",
        "        if(Tile_Map_Prev[tile_neighbor] == 'Black'): \r\n",
        "          black_counter += 1\r\n",
        "\r\n",
        "    if(Tile_Map_Prev[tile] == 'Black'):\r\n",
        "      if(black_counter == 0 or black_counter > 2):\r\n",
        "        Tile_Map_New[tile] = 'White'\r\n",
        "\r\n",
        "  # White to black is a bit more complicated, given that we don't keep track of all white tiles\r\n",
        "  # Need to grab black tiles, for each, find its white neighbors,\r\n",
        "  # For each white neighbor, check if it has exactly two black neighbors\r\n",
        "  # If so, make the white neighbor black\r\n",
        "  for tile in Tile_Map_Prev:\r\n",
        "    if(Tile_Map_Prev[tile] == 'Black'):\r\n",
        "      black_tile_neighbors = get_tile_neighbors(tile)\r\n",
        "      for black_tile_neighbor in black_tile_neighbors:\r\n",
        "        is_white = False\r\n",
        "        if(black_tile_neighbor in Tile_Map_Prev):\r\n",
        "          if(Tile_Map_Prev[black_tile_neighbor] == 'White'):\r\n",
        "            is_white = True\r\n",
        "        else: \r\n",
        "          is_white = True # If not in list, must be white\r\n",
        "        \r\n",
        "        if(is_white):\r\n",
        "          black_tile_white_neighbor_neighbors = get_tile_neighbors(black_tile_neighbor)\r\n",
        "          black_counter = 0\r\n",
        "          for black_tile_white_neighbor_neighbor in black_tile_white_neighbor_neighbors:\r\n",
        "            if(black_tile_white_neighbor_neighbor in Tile_Map_Prev.keys()):\r\n",
        "              if(Tile_Map_Prev[black_tile_white_neighbor_neighbor] == 'Black'): \r\n",
        "                black_counter += 1\r\n",
        "\r\n",
        "          if(black_counter == 2):\r\n",
        "            Tile_Map_New[black_tile_neighbor] = 'Black'\r\n",
        "\r\n",
        "  num_black_new = len([color for color in list(Tile_Map_New.values()) if color == 'Black'])\r\n",
        "  print('Day {}: {}'.format(day + 1, num_black_new))\r\n",
        "\r\n",
        "  Tile_Map_Prev = Tile_Map_New"
      ],
      "execution_count": 5,
      "outputs": [
        {
          "output_type": "stream",
          "text": [
            "Day 1: 294\n",
            "Day 2: 329\n",
            "Day 3: 357\n",
            "Day 4: 387\n",
            "Day 5: 356\n",
            "Day 6: 395\n",
            "Day 7: 387\n",
            "Day 8: 461\n",
            "Day 9: 468\n",
            "Day 10: 462\n",
            "Day 11: 495\n",
            "Day 12: 511\n",
            "Day 13: 535\n",
            "Day 14: 577\n",
            "Day 15: 567\n",
            "Day 16: 619\n",
            "Day 17: 609\n",
            "Day 18: 671\n",
            "Day 19: 677\n",
            "Day 20: 682\n",
            "Day 21: 720\n",
            "Day 22: 762\n",
            "Day 23: 821\n",
            "Day 24: 772\n",
            "Day 25: 813\n",
            "Day 26: 858\n",
            "Day 27: 856\n",
            "Day 28: 896\n",
            "Day 29: 907\n",
            "Day 30: 902\n",
            "Day 31: 1033\n",
            "Day 32: 1051\n",
            "Day 33: 1061\n",
            "Day 34: 1011\n",
            "Day 35: 1085\n",
            "Day 36: 1125\n",
            "Day 37: 1225\n",
            "Day 38: 1222\n",
            "Day 39: 1259\n",
            "Day 40: 1268\n",
            "Day 41: 1321\n",
            "Day 42: 1341\n",
            "Day 43: 1341\n",
            "Day 44: 1429\n",
            "Day 45: 1417\n",
            "Day 46: 1509\n",
            "Day 47: 1519\n",
            "Day 48: 1651\n",
            "Day 49: 1588\n",
            "Day 50: 1643\n",
            "Day 51: 1585\n",
            "Day 52: 1719\n",
            "Day 53: 1804\n",
            "Day 54: 1746\n",
            "Day 55: 1842\n",
            "Day 56: 1804\n",
            "Day 57: 1949\n",
            "Day 58: 1975\n",
            "Day 59: 2000\n",
            "Day 60: 2050\n",
            "Day 61: 2070\n",
            "Day 62: 2076\n",
            "Day 63: 2179\n",
            "Day 64: 2099\n",
            "Day 65: 2302\n",
            "Day 66: 2261\n",
            "Day 67: 2320\n",
            "Day 68: 2411\n",
            "Day 69: 2540\n",
            "Day 70: 2482\n",
            "Day 71: 2520\n",
            "Day 72: 2575\n",
            "Day 73: 2662\n",
            "Day 74: 2557\n",
            "Day 75: 2736\n",
            "Day 76: 2701\n",
            "Day 77: 2863\n",
            "Day 78: 2817\n",
            "Day 79: 3025\n",
            "Day 80: 2847\n",
            "Day 81: 2901\n",
            "Day 82: 3034\n",
            "Day 83: 3089\n",
            "Day 84: 3065\n",
            "Day 85: 3173\n",
            "Day 86: 3239\n",
            "Day 87: 3302\n",
            "Day 88: 3323\n",
            "Day 89: 3373\n",
            "Day 90: 3307\n",
            "Day 91: 3532\n",
            "Day 92: 3634\n",
            "Day 93: 3567\n",
            "Day 94: 3683\n",
            "Day 95: 3722\n",
            "Day 96: 3715\n",
            "Day 97: 3809\n",
            "Day 98: 3828\n",
            "Day 99: 4041\n",
            "Day 100: 4002\n"
          ],
          "name": "stdout"
        }
      ]
    },
    {
      "cell_type": "code",
      "metadata": {
        "id": "mrnG-YIURokY"
      },
      "source": [
        ""
      ],
      "execution_count": 5,
      "outputs": []
    }
  ]
}