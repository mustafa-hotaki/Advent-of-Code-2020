{
  "nbformat": 4,
  "nbformat_minor": 0,
  "metadata": {
    "colab": {
      "name": "Day24.ipynb",
      "provenance": [],
      "collapsed_sections": [],
      "toc_visible": true
    },
    "kernelspec": {
      "name": "python3",
      "display_name": "Python 3"
    }
  },
  "cells": [
    {
      "cell_type": "markdown",
      "metadata": {
        "id": "0bUeMB3bJLBg"
      },
      "source": [
        "# Advent of Code 2020 - Day 24\r\n",
        "\r\n",
        "I used a graph in my first attempt, but it quickly became a nightmare since it required adding edges between all neighbors. This solution takes advantage of the regularity of the [hexagonal tiling](https://en.wikipedia.org/wiki/Hexagonal_tiling). I keep track of tiles in a hash map with keys being a coordinate $(x, y)$. I assume a shift to the right with each decreasing $y$ e.g., the tile at the location $(0, 0$)'s neighbor to the southeast is in location $(0, -1)$."
      ]
    },
    {
      "cell_type": "code",
      "metadata": {
        "colab": {
          "base_uri": "https://localhost:8080/"
        },
        "id": "7W3rGom7JLGs",
        "outputId": "d4813131-18ae-400d-e01e-9d1630c41624"
      },
      "source": [
        "data = []\r\n",
        "with open('inputs_day_24.txt', 'r') as f:\r\n",
        "  for line in f:\r\n",
        "    data.append(line.strip())\r\n",
        "\r\n",
        "print(len(data))"
      ],
      "execution_count": 1,
      "outputs": [
        {
          "output_type": "stream",
          "text": [
            "430\n"
          ],
          "name": "stdout"
        }
      ]
    },
    {
      "cell_type": "code",
      "metadata": {
        "id": "-Z0t8mFHMKbm"
      },
      "source": [
        "# A little clunky, but it works\r\n",
        "def Parse_Instruction(line):\r\n",
        "  instructions = []\r\n",
        "  cursor = 0\r\n",
        "  while(cursor < len(line)):\r\n",
        "    instruction = ''\r\n",
        "    #print(line, cursor)\r\n",
        "    if(line[cursor] == 's'): # se, sw\r\n",
        "      instruction = 's'\r\n",
        "      cursor += 1\r\n",
        "      if(cursor < len(line)):\r\n",
        "        if(line[cursor] == 'w' or line[cursor] == 'e'):\r\n",
        "          instruction += line[cursor]\r\n",
        "          cursor += 1\r\n",
        "\r\n",
        "    elif(line[cursor] == 'n'): # ne, nw\r\n",
        "      instruction = 'n'\r\n",
        "      cursor += 1\r\n",
        "      if(cursor < len(line)):\r\n",
        "        if(line[cursor] == 'w' or line[cursor] == 'e'):\r\n",
        "          instruction += line[cursor]\r\n",
        "          cursor += 1\r\n",
        "\r\n",
        "    elif(line[cursor] == 'e'): # e\r\n",
        "      instruction = 'e'\r\n",
        "      cursor += 1\r\n",
        "\r\n",
        "    elif(line[cursor] == 'w'): # w\r\n",
        "      instruction = 'w'\r\n",
        "      cursor += 1\r\n",
        "\r\n",
        "    instructions.append(instruction)\r\n",
        "  return instructions\r\n",
        "\r\n",
        "instructions = [Parse_Instruction(line) for line in data]"
      ],
      "execution_count": 2,
      "outputs": []
    },
    {
      "cell_type": "code",
      "metadata": {
        "id": "IWZGT3S3YNFh",
        "colab": {
          "base_uri": "https://localhost:8080/"
        },
        "outputId": "ef16b4bc-a112-4502-c830-6ca650c19a70"
      },
      "source": [
        "instruction = instructions[0]\r\n",
        "\r\n",
        "Center = (0, 0)\r\n",
        "Tile_Map = {Center : 'White'} # Assume we shift left for decreasing y\r\n",
        "\r\n",
        "for i, instruction in enumerate(instructions):\r\n",
        "  current = Center\r\n",
        "  for j, step in enumerate(instruction):\r\n",
        "    new = None\r\n",
        "    if(step == 'e'):\r\n",
        "      new = (current[0] + 1, current[1])\r\n",
        "    if(step == 'se'): # by default\r\n",
        "      new = (current[0], current[1] - 1)\r\n",
        "    if(step == 'sw'): # shift right to compensate for default shift to left\r\n",
        "      new = (current[0] - 1, current[1] - 1)\r\n",
        "    if(step == 'w'):\r\n",
        "      new = (current[0] - 1, current[1])\r\n",
        "    if(step == 'nw'):\r\n",
        "      new = (current[0], current[1] + 1)\r\n",
        "    if(step == 'ne'): \r\n",
        "      new = (current[0] + 1, current[1] + 1)\r\n",
        "\r\n",
        "    # Add new tile\r\n",
        "    if(not new in Tile_Map.keys()):\r\n",
        "        Tile_Map[new] = 'White'\r\n",
        "\r\n",
        "    # Update current\r\n",
        "    current = new\r\n",
        "    \r\n",
        "    # Flip one found the tile\r\n",
        "    if(j == len(instruction) - 1):\r\n",
        "      if(Tile_Map[current] == 'White'): Tile_Map[current] = 'Black'\r\n",
        "      else: Tile_Map[current] = 'White'\r\n",
        "    \r\n",
        "print(len([color for color in list(Tile_Map.values()) if color == 'Black']))"
      ],
      "execution_count": 3,
      "outputs": [
        {
          "output_type": "stream",
          "text": [
            "388\n"
          ],
          "name": "stdout"
        }
      ]
    },
    {
      "cell_type": "markdown",
      "metadata": {
        "id": "HYCODPmMiH5v"
      },
      "source": [
        "## Part 2"
      ]
    },
    {
      "cell_type": "code",
      "metadata": {
        "id": "FFoc1rLNiMxj"
      },
      "source": [
        "def get_tile_neighbors(tile):\r\n",
        "  e = (tile[0] + 1, tile[1])\r\n",
        "  se = (tile[0], tile[1] - 1)\r\n",
        "  sw = (tile[0] - 1, tile[1] - 1)\r\n",
        "  w = (tile[0] - 1, tile[1])\r\n",
        "  nw = (tile[0], tile[1] + 1)\r\n",
        "  ne = (tile[0] + 1, tile[1] + 1)\r\n",
        "\r\n",
        "  return e, se, sw, w, nw, ne\r\n"
      ],
      "execution_count": 4,
      "outputs": []
    },
    {
      "cell_type": "code",
      "metadata": {
        "colab": {
          "base_uri": "https://localhost:8080/"
        },
        "id": "9T3q8I8Xiz3A",
        "outputId": "c7ff9552-2ace-46a1-9787-7d37a5fb100c"
      },
      "source": [
        "import copy\r\n",
        "\r\n",
        "Tile_Map_Prev = copy.deepcopy(Tile_Map)\r\n",
        "\r\n",
        "for day in range(100):\r\n",
        "  #print(Tile_Map_Prev)\r\n",
        "  Tile_Map_New = copy.deepcopy(Tile_Map_Prev)\r\n",
        "\r\n",
        "  # Black to white\r\n",
        "  for tile in Tile_Map_Prev:\r\n",
        "    tile_neighbors = get_tile_neighbors(tile)\r\n",
        "    black_counter = 0\r\n",
        "    for tile_neighbor in tile_neighbors:\r\n",
        "      if(tile_neighbor in Tile_Map_Prev.keys()):\r\n",
        "        if(Tile_Map_Prev[tile_neighbor] == 'Black'): \r\n",
        "          black_counter += 1\r\n",
        "      #else:\r\n",
        "      #  Tile_Map_Prev[tile_neighbor] = 'White' # Create a new one\r\n",
        "\r\n",
        "    if(Tile_Map_Prev[tile] == 'Black'):\r\n",
        "      if(black_counter == 0 or black_counter > 2):\r\n",
        "        Tile_Map_New[tile] = 'White'\r\n",
        "\r\n",
        "\r\n",
        "  # White to black is a bit more complicated. \r\n",
        "  # Need to grab black tiles, for each, find its white neighbors,\r\n",
        "  # for each white neighbor, check if it has exactly two black neighbors\r\n",
        "  # if it does, make the white neighbor black\r\n",
        "  for tile in Tile_Map_Prev:\r\n",
        "    if(Tile_Map_Prev[tile] == 'Black'):\r\n",
        "      black_tile_neighbors = get_tile_neighbors(tile)\r\n",
        "      for black_tile_neighbor in black_tile_neighbors:\r\n",
        "        is_white = False\r\n",
        "        if(black_tile_neighbor in Tile_Map_Prev):\r\n",
        "          if(Tile_Map_Prev[black_tile_neighbor] == 'White'):\r\n",
        "            is_white = True\r\n",
        "        else: \r\n",
        "          is_white = True # If not in list, must be white\r\n",
        "        \r\n",
        "        if(is_white):\r\n",
        "          black_tile_white_neighbor_neighbors = get_tile_neighbors(black_tile_neighbor)\r\n",
        "          black_counter = 0\r\n",
        "          for black_tile_white_neighbor_neighbor in black_tile_white_neighbor_neighbors:\r\n",
        "            if(black_tile_white_neighbor_neighbor in Tile_Map_Prev.keys()):\r\n",
        "              if(Tile_Map_Prev[black_tile_white_neighbor_neighbor] == 'Black'): \r\n",
        "                black_counter += 1\r\n",
        "\r\n",
        "          if(black_counter == 2):\r\n",
        "            Tile_Map_New[black_tile_neighbor] = 'Black'\r\n",
        "\r\n",
        "\r\n",
        "\r\n",
        "  #print(Tile_Map_New)\r\n",
        "  num_black_prev = len([color for color in list(Tile_Map_Prev.values()) if color == 'Black'])\r\n",
        "  num_black_new = len([color for color in list(Tile_Map_New.values()) if color == 'Black'])\r\n",
        "  print('Day {}: {} to {}'.format(day + 1, num_black_prev, num_black_new))\r\n",
        "\r\n",
        "  Tile_Map_Prev = Tile_Map_New\r\n",
        "\r\n"
      ],
      "execution_count": 5,
      "outputs": [
        {
          "output_type": "stream",
          "text": [
            "Day 1: 388 to 294\n",
            "Day 2: 294 to 329\n",
            "Day 3: 329 to 357\n",
            "Day 4: 357 to 387\n",
            "Day 5: 387 to 356\n",
            "Day 6: 356 to 395\n",
            "Day 7: 395 to 387\n",
            "Day 8: 387 to 461\n",
            "Day 9: 461 to 468\n",
            "Day 10: 468 to 462\n",
            "Day 11: 462 to 495\n",
            "Day 12: 495 to 511\n",
            "Day 13: 511 to 535\n",
            "Day 14: 535 to 577\n",
            "Day 15: 577 to 567\n",
            "Day 16: 567 to 619\n",
            "Day 17: 619 to 609\n",
            "Day 18: 609 to 671\n",
            "Day 19: 671 to 677\n",
            "Day 20: 677 to 682\n",
            "Day 21: 682 to 720\n",
            "Day 22: 720 to 762\n",
            "Day 23: 762 to 821\n",
            "Day 24: 821 to 772\n",
            "Day 25: 772 to 813\n",
            "Day 26: 813 to 858\n",
            "Day 27: 858 to 856\n",
            "Day 28: 856 to 896\n",
            "Day 29: 896 to 907\n",
            "Day 30: 907 to 902\n",
            "Day 31: 902 to 1033\n",
            "Day 32: 1033 to 1051\n",
            "Day 33: 1051 to 1061\n",
            "Day 34: 1061 to 1011\n",
            "Day 35: 1011 to 1085\n",
            "Day 36: 1085 to 1125\n",
            "Day 37: 1125 to 1225\n",
            "Day 38: 1225 to 1222\n",
            "Day 39: 1222 to 1259\n",
            "Day 40: 1259 to 1268\n",
            "Day 41: 1268 to 1321\n",
            "Day 42: 1321 to 1341\n",
            "Day 43: 1341 to 1341\n",
            "Day 44: 1341 to 1429\n",
            "Day 45: 1429 to 1417\n",
            "Day 46: 1417 to 1509\n",
            "Day 47: 1509 to 1519\n",
            "Day 48: 1519 to 1651\n",
            "Day 49: 1651 to 1588\n",
            "Day 50: 1588 to 1643\n",
            "Day 51: 1643 to 1585\n",
            "Day 52: 1585 to 1719\n",
            "Day 53: 1719 to 1804\n",
            "Day 54: 1804 to 1746\n",
            "Day 55: 1746 to 1842\n",
            "Day 56: 1842 to 1804\n",
            "Day 57: 1804 to 1949\n",
            "Day 58: 1949 to 1975\n",
            "Day 59: 1975 to 2000\n",
            "Day 60: 2000 to 2050\n",
            "Day 61: 2050 to 2070\n",
            "Day 62: 2070 to 2076\n",
            "Day 63: 2076 to 2179\n",
            "Day 64: 2179 to 2099\n",
            "Day 65: 2099 to 2302\n",
            "Day 66: 2302 to 2261\n",
            "Day 67: 2261 to 2320\n",
            "Day 68: 2320 to 2411\n",
            "Day 69: 2411 to 2540\n",
            "Day 70: 2540 to 2482\n",
            "Day 71: 2482 to 2520\n",
            "Day 72: 2520 to 2575\n",
            "Day 73: 2575 to 2662\n",
            "Day 74: 2662 to 2557\n",
            "Day 75: 2557 to 2736\n",
            "Day 76: 2736 to 2701\n",
            "Day 77: 2701 to 2863\n",
            "Day 78: 2863 to 2817\n",
            "Day 79: 2817 to 3025\n",
            "Day 80: 3025 to 2847\n",
            "Day 81: 2847 to 2901\n",
            "Day 82: 2901 to 3034\n",
            "Day 83: 3034 to 3089\n",
            "Day 84: 3089 to 3065\n",
            "Day 85: 3065 to 3173\n",
            "Day 86: 3173 to 3239\n",
            "Day 87: 3239 to 3302\n",
            "Day 88: 3302 to 3323\n",
            "Day 89: 3323 to 3373\n",
            "Day 90: 3373 to 3307\n",
            "Day 91: 3307 to 3532\n",
            "Day 92: 3532 to 3634\n",
            "Day 93: 3634 to 3567\n",
            "Day 94: 3567 to 3683\n",
            "Day 95: 3683 to 3722\n",
            "Day 96: 3722 to 3715\n",
            "Day 97: 3715 to 3809\n",
            "Day 98: 3809 to 3828\n",
            "Day 99: 3828 to 4041\n",
            "Day 100: 4041 to 4002\n"
          ],
          "name": "stdout"
        }
      ]
    }
  ]
}