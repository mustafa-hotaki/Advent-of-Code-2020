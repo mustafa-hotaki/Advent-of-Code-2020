{
  "nbformat": 4,
  "nbformat_minor": 0,
  "metadata": {
    "colab": {
      "name": "Day15.ipynb",
      "provenance": [],
      "collapsed_sections": []
    },
    "kernelspec": {
      "name": "python3",
      "display_name": "Python 3"
    }
  },
  "cells": [
    {
      "cell_type": "markdown",
      "metadata": {
        "id": "kCA21b1-G5Cx"
      },
      "source": [
        "# Advent of Code - 2020 - Day 15"
      ]
    },
    {
      "cell_type": "code",
      "metadata": {
        "colab": {
          "base_uri": "https://localhost:8080/"
        },
        "id": "XKEmRFPKG6r_",
        "outputId": "abfbba36-91d1-4db4-d899-c02b3e5c2510"
      },
      "source": [
        "data = []\r\n",
        "with open(\"inputs_day_15.txt\", \"r\") as f:\r\n",
        "  data = f.readlines()\r\n",
        "\r\n",
        "numbers = data[0].split(',')\r\n",
        "numbers = [int(n) for n in numbers]\r\n",
        "print(numbers)"
      ],
      "execution_count": 1,
      "outputs": [
        {
          "output_type": "stream",
          "text": [
            "[14, 8, 16, 0, 1, 17]\n"
          ],
          "name": "stdout"
        }
      ]
    },
    {
      "cell_type": "code",
      "metadata": {
        "colab": {
          "base_uri": "https://localhost:8080/"
        },
        "id": "Vic0FjPTH4zC",
        "outputId": "13e62feb-3b5d-4f43-eae9-e10aeaa39908"
      },
      "source": [
        "import time\r\n",
        "\r\n",
        "start_time = time.time()\r\n",
        "\r\n",
        "numbers_book = {}\r\n",
        "\r\n",
        "# Initialize\r\n",
        "for i, number in enumerate(numbers):\r\n",
        "    numbers_book[number] = [1, [None, i + 1]]\r\n",
        "  \r\n",
        "spoken_last = numbers[-1]\r\n",
        "for i in range(len(numbers), 30000000): # Start with the last spoken\r\n",
        "  #print('i:', i, 'spoken_last:', spoken_last)\r\n",
        "\r\n",
        "  # If Last time was the first time spoken_last was spoken\r\n",
        "  if(numbers_book[spoken_last][0] == 1):\r\n",
        "    numbers_book[0][0] += 1\r\n",
        "    last_two_times = numbers_book[0][1]\r\n",
        "    numbers_book[0][1] = [last_two_times[1], i + 1]\r\n",
        "    spoken_last = 0\r\n",
        "\r\n",
        "  else: # Last time was not the first time spoken_last was spoken\r\n",
        "    #print(numbers_book)\r\n",
        "    diff = numbers_book[spoken_last][1][1] - numbers_book[spoken_last][1][0]\r\n",
        "    try:\r\n",
        "      numbers_book[diff][0] += 1\r\n",
        "      last_two_times = numbers_book[diff][1]\r\n",
        "      numbers_book[diff][1] = [last_two_times[1], i + 1]\r\n",
        "    except:\r\n",
        "      numbers_book[diff] = [1, [None, i + 1]]\r\n",
        "    spoken_last = diff\r\n",
        "\r\n",
        "print(spoken_last)\r\n",
        "print(\"\\nExecution completed in {}s seconds.\".format(time.time() - start_time))"
      ],
      "execution_count": 2,
      "outputs": [
        {
          "output_type": "stream",
          "text": [
            "505\n",
            "\n",
            "Execution completed in 114.88462233543396s seconds.\n"
          ],
          "name": "stdout"
        }
      ]
    },
    {
      "cell_type": "markdown",
      "metadata": {
        "id": "6kdhIDrfSGIw"
      },
      "source": [
        "It ain't pretty or fast, but it'll do. Can probaby make faster by using more efficient syntax, but I cannot think of any algorithmic improvements. Need to look into the Van Eck's sequence."
      ]
    },
    {
      "cell_type": "code",
      "metadata": {
        "id": "qZJBIabQUtHD"
      },
      "source": [
        ""
      ],
      "execution_count": null,
      "outputs": []
    }
  ]
}