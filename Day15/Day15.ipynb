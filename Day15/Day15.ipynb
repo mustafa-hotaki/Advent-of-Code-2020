{
  "nbformat": 4,
  "nbformat_minor": 0,
  "metadata": {
    "colab": {
      "name": "Day15.ipynb",
      "provenance": [],
      "collapsed_sections": [],
      "toc_visible": true
    },
    "kernelspec": {
      "name": "python3",
      "display_name": "Python 3"
    }
  },
  "cells": [
    {
      "cell_type": "markdown",
      "metadata": {
        "id": "kCA21b1-G5Cx"
      },
      "source": [
        "# Advent of Code - 2020 - Day 15\r\n",
        "\r\n",
        "I have rewritten my solution to this problem and lowered the execution time for Part 2 from over an hour to (consistenly) about ~12 seconds."
      ]
    },
    {
      "cell_type": "code",
      "metadata": {
        "colab": {
          "base_uri": "https://localhost:8080/"
        },
        "id": "vnwiP2EabIPk",
        "outputId": "e80cd171-4466-4968-8924-d642042e8c98"
      },
      "source": [
        "data = []\r\n",
        "with open(\"inputs_day_15.txt\", \"r\") as f:\r\n",
        "  data = f.readlines()\r\n",
        "\r\n",
        "first_elements = [int(n) for n in data[0].split(',')]\r\n",
        "print(first_elements)"
      ],
      "execution_count": 1,
      "outputs": [
        {
          "output_type": "stream",
          "text": [
            "[14, 8, 16, 0, 1, 17]\n"
          ],
          "name": "stdout"
        }
      ]
    },
    {
      "cell_type": "markdown",
      "metadata": {
        "id": "pqUWgjuOLV45"
      },
      "source": [
        "We can define the $n$th element of the sequence as $a_n$ for all $n \\geq 1$ . The first $m$ elements are given to us.\r\n",
        "\r\n",
        "For $n > m$, the value of $a_n$ is determined by the previous pattern. This is naturally expressed in terms of a recurrence:\r\n",
        "\r\n",
        "$$\r\n",
        "\r\n",
        "a_n = \r\n",
        "\r\n",
        "\\begin{cases} \r\n",
        "0 \\quad \\text{if}\\quad a_{n-1} \\not\\in \\{a_1,...a_{n-2}\\}  \\\\\r\n",
        "(n - 1) - \\mathcal{L}(a_{n-1}) \\quad\\text{otherwise}\\\\\r\n",
        "\\end{cases}\r\n",
        "$$ \r\n",
        "\r\n",
        "where \r\n",
        "\r\n",
        "$$\r\n",
        "\\mathcal{L}(a_{n}) \r\n",
        "$$\r\n",
        "\r\n",
        "is a function that returns the index of last occurence of $a_{n}$ in the sequence $a_1, \\cdots, a_{n-1}$. We can see that this recurrence is more simply expressed in terms of $a_{n+1}$ rather than $a_n$. Substituting $n+1$ for $n$:\r\n",
        "\r\n",
        "\r\n",
        "$$\r\n",
        "a_{n+1} = \r\n",
        "\r\n",
        "\\begin{cases} \r\n",
        "0 \\quad \\text{if}\\quad a_n \\not\\in \\{a_1,...a_{n-1}\\}  \\\\\r\n",
        "n - \\mathcal{L}(a_{n}) \\quad\\text{otherwise}\\\\\r\n",
        "\\end{cases}\r\n",
        "$$ \r\n",
        "\r\n",
        "This is now defined for all $n \\geq m$. This guides us towards a much simpler implementation."
      ]
    },
    {
      "cell_type": "code",
      "metadata": {
        "id": "KF-sF4eEY5iv"
      },
      "source": [
        "# Return the nth element in the sequence starting at index 1\r\n",
        "def aoc_sequence(first_elements, n):\r\n",
        "\r\n",
        "  if(n <= len(first_elements)):\r\n",
        "    return first_elements[n - 1]\r\n",
        "  else:\r\n",
        "    last_index_prior_to_just_before = {key : i + 1 for i, key in enumerate(first_elements[:-1])} # Do not save for last element\r\n",
        "    previous = first_elements[-1]\r\n",
        "    for i in range(len(first_elements), n):\r\n",
        "      if previous not in last_index_prior_to_just_before.keys():\r\n",
        "        current = 0\r\n",
        "      else :\r\n",
        "        current = i - last_index_prior_to_just_before[previous]\r\n",
        "      last_index_prior_to_just_before[previous] = i\r\n",
        "      previous = current\r\n",
        "\r\n",
        "    return current\r\n"
      ],
      "execution_count": 2,
      "outputs": []
    },
    {
      "cell_type": "markdown",
      "metadata": {
        "id": "Z7frPzmlaafq"
      },
      "source": [
        "## Part 1"
      ]
    },
    {
      "cell_type": "code",
      "metadata": {
        "colab": {
          "base_uri": "https://localhost:8080/"
        },
        "id": "I2up3EDCZ8dr",
        "outputId": "a5511617-2bb6-408d-f562-a5500e67ed9d"
      },
      "source": [
        "import time\r\n",
        "\r\n",
        "start_time = time.time()\r\n",
        "\r\n",
        "element = aoc_sequence(first_elements, 2020)\r\n",
        "\r\n",
        "end_time = time.time()\r\n",
        "\r\n",
        "print(\"The 2020th element is:\", element)\r\n",
        "print(\"\\nExecution completed in {} seconds.\".format(end_time - start_time))"
      ],
      "execution_count": 3,
      "outputs": [
        {
          "output_type": "stream",
          "text": [
            "The 2020th element is: 240\n",
            "\n",
            "Execution completed in 0.00042819976806640625 seconds.\n"
          ],
          "name": "stdout"
        }
      ]
    },
    {
      "cell_type": "markdown",
      "metadata": {
        "id": "l1QpOg-EbYD9"
      },
      "source": [
        "## Part 2"
      ]
    },
    {
      "cell_type": "code",
      "metadata": {
        "colab": {
          "base_uri": "https://localhost:8080/"
        },
        "id": "zooJSPnvbYO-",
        "outputId": "98f9ff84-0c6f-4f80-aa84-e2c903c49895"
      },
      "source": [
        "import time\r\n",
        "\r\n",
        "start_time = time.time()\r\n",
        "\r\n",
        "element = aoc_sequence(first_elements, 30000000)\r\n",
        "\r\n",
        "end_time = time.time()\r\n",
        "\r\n",
        "print(\"The 30000000th element is:\", element)\r\n",
        "print(\"\\nExecution completed in {} seconds.\".format(end_time - start_time))"
      ],
      "execution_count": 4,
      "outputs": [
        {
          "output_type": "stream",
          "text": [
            "The 30000000th element is: 505\n",
            "\n",
            "Execution completed in 12.381908655166626 seconds.\n"
          ],
          "name": "stdout"
        }
      ]
    }
  ]
}