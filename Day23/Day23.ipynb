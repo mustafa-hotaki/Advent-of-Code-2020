{
  "nbformat": 4,
  "nbformat_minor": 0,
  "metadata": {
    "colab": {
      "name": "Day23.ipynb",
      "provenance": []
    },
    "kernelspec": {
      "name": "python3",
      "display_name": "Python 3"
    }
  },
  "cells": [
    {
      "cell_type": "markdown",
      "metadata": {
        "id": "evOesuCd79mf"
      },
      "source": [
        "# Advent of Code 2020 - Day 23\r\n",
        "\r\n",
        "My original solution (using lists) for Part 1 was *embarrassingly* bad. I have since consolidated Part 1 and 2 into a single solution."
      ]
    },
    {
      "cell_type": "code",
      "metadata": {
        "colab": {
          "base_uri": "https://localhost:8080/"
        },
        "id": "p8ZIBRVX7-PB",
        "outputId": "33cd669e-4ada-4056-e36d-4a30c2aaedad"
      },
      "source": [
        "cups_raw = '739862541'\r\n",
        "cups = [int(cup) for cup in cups_raw]\r\n",
        "cups"
      ],
      "execution_count": 76,
      "outputs": [
        {
          "output_type": "execute_result",
          "data": {
            "text/plain": [
              "[7, 3, 9, 8, 6, 2, 5, 4, 1]"
            ]
          },
          "metadata": {
            "tags": []
          },
          "execution_count": 76
        }
      ]
    },
    {
      "cell_type": "code",
      "metadata": {
        "id": "HerzTw_OEM8U"
      },
      "source": [
        "# Node class \r\n",
        "class Node: \r\n",
        "    def __init__(self, data): \r\n",
        "        self.data = data\r\n",
        "        self.next = None "
      ],
      "execution_count": 77,
      "outputs": []
    },
    {
      "cell_type": "code",
      "metadata": {
        "id": "UpQ_YNROGvg1"
      },
      "source": [
        "def apply_move(Node_Map, current, minimum_cup, maximum_cup):\r\n",
        "\r\n",
        "  #print('\\ncups:', end=' ')\r\n",
        "  '''\r\n",
        "  i_node = current\r\n",
        "  while(i_node):\r\n",
        "    if(i_node == current):\r\n",
        "      print('('+ str(i_node.data) + ')', end=' ')\r\n",
        "    else:\r\n",
        "      print(i_node.data, end=' ')\r\n",
        "    i_node = i_node.next\r\n",
        "    if(i_node == current):\r\n",
        "      break\r\n",
        "  '''\r\n",
        "\r\n",
        "  a = current.next\r\n",
        "  b = current.next.next\r\n",
        "  c = current.next.next.next\r\n",
        "\r\n",
        "  pick_up = [a.data, b.data, c.data]\r\n",
        "\r\n",
        "  #pick_up_str = [str(cup) for cup in pick_up]\r\n",
        "  #print('\\npick up:', ', '.join(pick_up_str))\r\n",
        "\r\n",
        "  destination = current.data - 1\r\n",
        "  #print('original destination', destination)\r\n",
        "  if(destination in pick_up):\r\n",
        "    while(True):\r\n",
        "      destination -= 1\r\n",
        "      if(destination not in pick_up):\r\n",
        "        break\r\n",
        "  \r\n",
        "  #print('destination after loop', destination)\r\n",
        "\r\n",
        "  if(destination < minimum_cup):\r\n",
        "    #print('destination < minimum_cup')\r\n",
        "    destination = maximum_cup\r\n",
        "    if(maximum_cup in pick_up):\r\n",
        "      while(True):\r\n",
        "        destination -= 1\r\n",
        "        if(destination not in pick_up):\r\n",
        "          break\r\n",
        "\r\n",
        "  #print('destination', destination)\r\n",
        "\r\n",
        "  # Remove chain of 3 nodes after current\r\n",
        "  # Chain is no longer in Linked List\r\n",
        "  current.next = c.next\r\n",
        "  c.next = None\r\n",
        "  \r\n",
        "  # Grab the destination node in linked list\r\n",
        "  dest_node = Node_Map[destination]\r\n",
        "  #print('dest_node.data', dest_node.data)\r\n",
        "  c.next = dest_node.next\r\n",
        "\r\n",
        "  # insert picked up nodes after destination\r\n",
        "  dest_node.next = a\r\n",
        "  \r\n",
        "  current = current.next\r\n",
        "  \r\n",
        "  return current\r\n"
      ],
      "execution_count": 78,
      "outputs": []
    },
    {
      "cell_type": "markdown",
      "metadata": {
        "id": "F1aCVgItCdXG"
      },
      "source": [
        "# Part 1"
      ]
    },
    {
      "cell_type": "code",
      "metadata": {
        "id": "aNw2BYaAEWcR"
      },
      "source": [
        "# Create a linked list strcuture and a hash map with reference to each node\r\n",
        "Node_Map = {} # This will allow O(n) gets of nodes in linked list\r\n",
        "\r\n",
        "# Create the first node\r\n",
        "first_node = Node(cups[0])\r\n",
        "Node_Map[cups[0]] = first_node\r\n",
        "\r\n",
        "# Create all nodes up to but not including the last one\r\n",
        "prev = first_node\r\n",
        "for i, cup in enumerate(cups[:-1]):\r\n",
        "  if(i > 0): # Skip the first cup\r\n",
        "    new_node = Node(cup)\r\n",
        "    Node_Map[cup] = new_node\r\n",
        "    prev.next = new_node\r\n",
        "    prev = new_node\r\n",
        "\r\n",
        "# Create the last node\r\n",
        "last_node = Node(cups[-1])\r\n",
        "Node_Map[cups[-1]] = last_node\r\n",
        "\r\n",
        "# Link the last node back to the first one\r\n",
        "prev.next = last_node\r\n",
        "last_node.next = first_node\r\n",
        "\r\n",
        "# Run 100 Moves\r\n",
        "minimum_cup = min(cups)\r\n",
        "maximum_cup = max(cups)\r\n",
        "current_node = first_node\r\n",
        "\r\n",
        "for i in range(100):\r\n",
        "  #print('\\n-- move {} --'.format(i + 1))\r\n",
        "  current_node = apply_move(Node_Map, current_node, minimum_cup, maximum_cup)"
      ],
      "execution_count": 67,
      "outputs": []
    },
    {
      "cell_type": "code",
      "metadata": {
        "colab": {
          "base_uri": "https://localhost:8080/"
        },
        "id": "yOkVqMYNGBvf",
        "outputId": "5efa4115-e769-42ed-9755-0604ed28f574"
      },
      "source": [
        "i_node = Node_Map[1]\r\n",
        "res = ''\r\n",
        "while(True):\r\n",
        "  res += str(i_node.next.data)\r\n",
        "  i_node = i_node.next\r\n",
        "  if(i_node.next == Node_Map[1]):\r\n",
        "    break\r\n",
        "\r\n",
        "print(res)"
      ],
      "execution_count": 75,
      "outputs": [
        {
          "output_type": "stream",
          "text": [
            "94238657\n"
          ],
          "name": "stdout"
        }
      ]
    },
    {
      "cell_type": "markdown",
      "metadata": {
        "id": "LNXZDevtwu4a"
      },
      "source": [
        "# Part 2"
      ]
    },
    {
      "cell_type": "code",
      "metadata": {
        "id": "5C7iOV1SxAEW",
        "colab": {
          "base_uri": "https://localhost:8080/"
        },
        "outputId": "94e0de2d-50b9-43da-d9d5-e11c0958541a"
      },
      "source": [
        "one_million = 1000000\r\n",
        "one_millions_cups = cups + [i for i in range(max(cups) + 1, max(cups)  + 1 + one_million - len(cups))]\r\n",
        "\r\n",
        "# Create a linked list strcuture and a hash map with reference to each node\r\n",
        "\r\n",
        "Node_Map = {} # This will allow O(n) gets of nodes in linked list\r\n",
        "\r\n",
        "# Create the first node\r\n",
        "first_node = Node(one_millions_cups[0])\r\n",
        "Node_Map[one_millions_cups[0]] = first_node\r\n",
        "\r\n",
        "# Create all nodes up to but not including the last one\r\n",
        "prev = first_node\r\n",
        "for i, cup in enumerate(one_millions_cups[:-1]):\r\n",
        "  if(i > 0): # Skip the first cup\r\n",
        "    new_node = Node(cup)\r\n",
        "    Node_Map[cup] = new_node\r\n",
        "    prev.next = new_node\r\n",
        "    prev = new_node\r\n",
        "\r\n",
        "# Create the last node\r\n",
        "last_node = Node(one_millions_cups[-1])\r\n",
        "Node_Map[one_millions_cups[-1]] = last_node\r\n",
        "\r\n",
        "# Link the last node back to the first one\r\n",
        "prev.next = last_node\r\n",
        "last_node.next = first_node\r\n",
        "\r\n",
        "# Run 10000000 Moves\r\n",
        "minimum_cup = min(cups)\r\n",
        "maximum_cup = max(one_millions_cups)\r\n",
        "current_node = first_node\r\n",
        "\r\n",
        "for i in range(one_million * 10):\r\n",
        "  if(i % one_million == 0): print(i)\r\n",
        "  current_node = apply_move(Node_Map, current_node, minimum_cup, maximum_cup)\r\n"
      ],
      "execution_count": 86,
      "outputs": [
        {
          "output_type": "stream",
          "text": [
            "0\n",
            "1000000\n",
            "2000000\n",
            "3000000\n",
            "4000000\n",
            "5000000\n",
            "6000000\n",
            "7000000\n",
            "8000000\n",
            "9000000\n"
          ],
          "name": "stdout"
        }
      ]
    },
    {
      "cell_type": "code",
      "metadata": {
        "colab": {
          "base_uri": "https://localhost:8080/"
        },
        "id": "VomntEYsHJYe",
        "outputId": "9aeff917-d48c-4629-bff4-b41e6143c2f9"
      },
      "source": [
        "res = Node_Map[1].next.data * Node_Map[1].next.next.data\r\n",
        "print(res)"
      ],
      "execution_count": 87,
      "outputs": [
        {
          "output_type": "stream",
          "text": [
            "3072905352\n"
          ],
          "name": "stdout"
        }
      ]
    },
    {
      "cell_type": "code",
      "metadata": {
        "id": "4mvZmikzH2_B"
      },
      "source": [
        ""
      ],
      "execution_count": null,
      "outputs": []
    }
  ]
}