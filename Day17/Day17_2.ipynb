{
  "nbformat": 4,
  "nbformat_minor": 0,
  "metadata": {
    "colab": {
      "name": "Day17_2.ipynb",
      "provenance": [],
      "collapsed_sections": []
    },
    "kernelspec": {
      "name": "python3",
      "display_name": "Python 3"
    }
  },
  "cells": [
    {
      "cell_type": "markdown",
      "metadata": {
        "id": "uGU8t6IDxV7O"
      },
      "source": [
        "# Advent of Code 2020 - Day 17\r\n",
        "\r\n",
        "This took much longer than it should have due to the misleading example."
      ]
    },
    {
      "cell_type": "code",
      "metadata": {
        "colab": {
          "base_uri": "https://localhost:8080/"
        },
        "id": "9GUdg1d0xWEP",
        "outputId": "284880ab-f188-46c5-cb22-3370319312e6"
      },
      "source": [
        "data = []\r\n",
        "with open(\"inputs_day_17.txt\", \"r\") as f:\r\n",
        "  for line in f:\r\n",
        "    data.append(line.strip())\r\n",
        "data"
      ],
      "execution_count": 1,
      "outputs": [
        {
          "output_type": "execute_result",
          "data": {
            "text/plain": [
              "['.#.', '..#', '###']"
            ]
          },
          "metadata": {
            "tags": []
          },
          "execution_count": 1
        }
      ]
    },
    {
      "cell_type": "code",
      "metadata": {
        "id": "pm4GeJjXGW85"
      },
      "source": [
        "data_slice = [[d for d in row] for row in data]\r\n",
        "dimension_size = len(data_slice)"
      ],
      "execution_count": 2,
      "outputs": []
    },
    {
      "cell_type": "markdown",
      "metadata": {
        "id": "dkcBQJNoywAl"
      },
      "source": [
        "# Finding Neighbors of a Cube\r\n",
        "\r\n",
        "Give the coordinates denoting a cube location $(i, j, k, ...)$, we want to find the coordinates of all neigboring location, where a neighbor is defined to be the cooridnates where any coordinate differ from the original by at most $1$. So, the possibilities for the first position will be $i - 1, i, i +1$. It is easy to see that there are:\r\n",
        "\r\n",
        "$$\r\n",
        "3 ^ {\\text{Number of Cooridnates}} - 1\r\n",
        "$$\r\n",
        "\r\n",
        "The neighbors can be found with recursion."
      ]
    },
    {
      "cell_type": "code",
      "metadata": {
        "id": "RBTiIwCkzVmR"
      },
      "source": [
        "# Helper (src: https://code.activestate.com/recipes/579098-pick-all-combinations-of-items-in-buckets/)\r\n",
        "\r\n",
        "def of_bucket(lst, depth = 0) :\r\n",
        "\t\"\"\" return all combinations of items in buckets \"\"\"\r\n",
        "\tfor item in lst[0] :\r\n",
        "\t\tif len(lst) > 1 :\r\n",
        "\t\t\tfor result in of_bucket(lst[1:], depth + 1) :\r\n",
        "\t\t\t\tyield [item, ] + result\r\n",
        "\t\telse :\r\n",
        "\t\t\tyield [item,]"
      ],
      "execution_count": 3,
      "outputs": []
    },
    {
      "cell_type": "code",
      "metadata": {
        "colab": {
          "base_uri": "https://localhost:8080/"
        },
        "id": "BlEksbxHJxPF",
        "outputId": "d73f2835-5523-4c03-89b2-e41c1d0c5749"
      },
      "source": [
        "# Find neighbors of a cube\r\n",
        "# Give a cube location (i, j, k, ...), it returns a list of all locations \r\n",
        "# where any of their coordinates differ by at most 1.\r\n",
        "def find_cube_neighbors(cube):\r\n",
        "\r\n",
        "  possibilites = [[coord - 1, coord, coord + 1] for coord in cube]\r\n",
        "  neighbor_locations = []\r\n",
        "  for n, combination in enumerate(of_bucket(possibilites)):\r\n",
        "    if(tuple(combination) != cube):\r\n",
        "      neighbor_locations.append(tuple(combination))\r\n",
        "\r\n",
        "  return neighbor_locations\r\n",
        "\r\n",
        "cube = (0, 1, 2, 3)\r\n",
        "neighbors = find_cube_neighbors(cube)\r\n",
        "print(neighbors)\r\n",
        "print(len(neighbors))\r\n",
        "#neighbor_locations"
      ],
      "execution_count": 4,
      "outputs": [
        {
          "output_type": "stream",
          "text": [
            "[(-1, 0, 1, 2), (-1, 0, 1, 3), (-1, 0, 1, 4), (-1, 0, 2, 2), (-1, 0, 2, 3), (-1, 0, 2, 4), (-1, 0, 3, 2), (-1, 0, 3, 3), (-1, 0, 3, 4), (-1, 1, 1, 2), (-1, 1, 1, 3), (-1, 1, 1, 4), (-1, 1, 2, 2), (-1, 1, 2, 3), (-1, 1, 2, 4), (-1, 1, 3, 2), (-1, 1, 3, 3), (-1, 1, 3, 4), (-1, 2, 1, 2), (-1, 2, 1, 3), (-1, 2, 1, 4), (-1, 2, 2, 2), (-1, 2, 2, 3), (-1, 2, 2, 4), (-1, 2, 3, 2), (-1, 2, 3, 3), (-1, 2, 3, 4), (0, 0, 1, 2), (0, 0, 1, 3), (0, 0, 1, 4), (0, 0, 2, 2), (0, 0, 2, 3), (0, 0, 2, 4), (0, 0, 3, 2), (0, 0, 3, 3), (0, 0, 3, 4), (0, 1, 1, 2), (0, 1, 1, 3), (0, 1, 1, 4), (0, 1, 2, 2), (0, 1, 2, 4), (0, 1, 3, 2), (0, 1, 3, 3), (0, 1, 3, 4), (0, 2, 1, 2), (0, 2, 1, 3), (0, 2, 1, 4), (0, 2, 2, 2), (0, 2, 2, 3), (0, 2, 2, 4), (0, 2, 3, 2), (0, 2, 3, 3), (0, 2, 3, 4), (1, 0, 1, 2), (1, 0, 1, 3), (1, 0, 1, 4), (1, 0, 2, 2), (1, 0, 2, 3), (1, 0, 2, 4), (1, 0, 3, 2), (1, 0, 3, 3), (1, 0, 3, 4), (1, 1, 1, 2), (1, 1, 1, 3), (1, 1, 1, 4), (1, 1, 2, 2), (1, 1, 2, 3), (1, 1, 2, 4), (1, 1, 3, 2), (1, 1, 3, 3), (1, 1, 3, 4), (1, 2, 1, 2), (1, 2, 1, 3), (1, 2, 1, 4), (1, 2, 2, 2), (1, 2, 2, 3), (1, 2, 2, 4), (1, 2, 3, 2), (1, 2, 3, 3), (1, 2, 3, 4)]\n",
            "80\n"
          ],
          "name": "stdout"
        }
      ]
    },
    {
      "cell_type": "code",
      "metadata": {
        "id": "yznu5Dk9SBd2"
      },
      "source": [
        "def find_neighbor_locations_in_common(cube_locations):\r\n",
        "  #print('find_neighbor_locations_in_common\\n', cube_locations)\r\n",
        "\r\n",
        "  # Grab neighbors for all cubes\r\n",
        "  neighbor_locations = [] # will be a list of lists\r\n",
        "  for cube_location in cube_locations:\r\n",
        "    cube_neighbors = find_cube_neighbors(cube_location)\r\n",
        "    neighbor_locations.append(cube_neighbors)\r\n",
        "\r\n",
        "  # Find what they have in common\r\n",
        "  common = list(set(neighbor_locations[0]).intersection(*neighbor_locations[:1]))\r\n",
        "  #print('found in common\\n', common)\r\n",
        "  return common\r\n"
      ],
      "execution_count": 5,
      "outputs": []
    },
    {
      "cell_type": "code",
      "metadata": {
        "id": "spxVgaNaWI6H"
      },
      "source": [
        "# Given a list of cubes, return a list of active ones\r\n",
        "def active_cube_locations_in_list(cube_locations):\r\n",
        "  active_cubes_in_list = []\r\n",
        "  for cube in cube_locations:\r\n",
        "    if cube in active_cubes:\r\n",
        "      active_cubes_in_list.append(cube)\r\n",
        "  return active_cubes_in_list\r\n",
        "\r\n",
        "# Given a list of cubes, return a list of inactive ones\r\n",
        "def inactive_cube_locations_in_list(cube_locations):\r\n",
        "  in_active_cubes_in_list = []\r\n",
        "  for cube in cube_locations:\r\n",
        "    if not cube in active_cubes:\r\n",
        "      in_active_cubes_in_list.append(cube)\r\n",
        "  return in_active_cubes_in_list"
      ],
      "execution_count": 6,
      "outputs": []
    },
    {
      "cell_type": "code",
      "metadata": {
        "id": "yjo1uRdIRGdm"
      },
      "source": [
        "from collections import Counter\r\n",
        "\r\n",
        "# Given a list of active cubes, find cube locations to acivtate\r\n",
        "# based on the rule that inactive cube must have exactly 3 active neighbors\r\n",
        "def find_inactive_cubes_to_activate(active_cubes):\r\n",
        "\r\n",
        "  inactive_neighbors_of_active_cubes = []\r\n",
        "  for active_cube in active_cubes:\r\n",
        "    neighbors_of_active_cube = find_cube_neighbors(active_cube)\r\n",
        "    inactive_neighbors_of_active_cubes += inactive_cube_locations_in_list(neighbors_of_active_cube)\r\n",
        "\r\n",
        "  counts = Counter(inactive_neighbors_of_active_cubes)\r\n",
        "  cubes_to_activate = [key for key in counts if counts[key] == 3]\r\n",
        "  return cubes_to_activate\r\n",
        "\r\n"
      ],
      "execution_count": 7,
      "outputs": []
    },
    {
      "cell_type": "code",
      "metadata": {
        "id": "YBs6fz5SYCZl"
      },
      "source": [
        "# Given an active cube location, decide whether to keep activated or deactiavte\r\n",
        "def active_cube_activate_decision(active_cube):\r\n",
        "  neighbors = find_cube_neighbors(active_cube)\r\n",
        "  active_neighbors = active_cube_locations_in_list(neighbors)\r\n",
        "  active_count = len(active_neighbors)\r\n",
        "  return (active_count == 2 or active_count == 3)\r\n"
      ],
      "execution_count": 8,
      "outputs": []
    },
    {
      "cell_type": "code",
      "metadata": {
        "id": "lAfod6tXkL3C"
      },
      "source": [
        "def print_slice_from_3d(z, active_cubes):\r\n",
        "  for j in range(-dimension_size, dimension_size * 2 + 1):\r\n",
        "    for k in range(-dimension_size, dimension_size * 2 + 1):\r\n",
        "      if((z, j, k) in active_cubes):\r\n",
        "        print('#', end = '')\r\n",
        "      else:\r\n",
        "        print('.', end = '')\r\n",
        "    print()\r\n",
        "\r\n",
        "def print_slice_from_4d(z, w, active_cubes):\r\n",
        "  for j in range(-dimension_size, dimension_size * 2 + 1):\r\n",
        "    for k in range(-dimension_size, dimension_size * 2 + 1):\r\n",
        "      if((z, w, j, k) in active_cubes):\r\n",
        "        print('#', end = '')\r\n",
        "      else:\r\n",
        "        print('.', end = '')\r\n",
        "    print()\r\n"
      ],
      "execution_count": 9,
      "outputs": []
    },
    {
      "cell_type": "markdown",
      "metadata": {
        "id": "zh4vwcm2dIU8"
      },
      "source": [
        "## Part 1"
      ]
    },
    {
      "cell_type": "code",
      "metadata": {
        "colab": {
          "base_uri": "https://localhost:8080/"
        },
        "id": "Y4NYjzCVTWkI",
        "outputId": "9c774efc-81c7-4a66-f355-ef8c2b2a7f37"
      },
      "source": [
        "import copy\r\n",
        "\r\n",
        "active_cubes = []\r\n",
        "\r\n",
        "# Initialize the grid\r\n",
        "for i, row in enumerate(data_slice):\r\n",
        "  for j, cube in enumerate(row):\r\n",
        "    if(cube == '#'):\r\n",
        "     active_cubes.append((0, i, j))\r\n",
        "\r\n",
        "print_slice_from_3d(0, active_cubes)\r\n",
        "\r\n",
        "# Run 6 cycles of the rules\r\n",
        "for i in range(6):\r\n",
        "  #print('active_cubes', active_cubes)\r\n",
        "  active_cubes_new = copy.copy(active_cubes)\r\n",
        "\r\n",
        "  for active_cube in active_cubes:\r\n",
        "    if(not active_cube_activate_decision(active_cube)): # inactive\r\n",
        "      active_cubes_new.remove(active_cube)\r\n",
        "\r\n",
        "  inactive_cubes_to_activate = find_inactive_cubes_to_activate(active_cubes)\r\n",
        "  active_cubes_new += inactive_cubes_to_activate\r\n",
        "  active_cubes_new = list(set(active_cubes_new))\r\n",
        "\r\n",
        "  #print('active_cubes_new', active_cubes_new)\r\n",
        "  print()\r\n",
        "  print_slice_from_3d(0, active_cubes_new)\r\n",
        "\r\n",
        "  active_cubes = active_cubes_new\r\n",
        "\r\n",
        "print(len(active_cubes))"
      ],
      "execution_count": 10,
      "outputs": [
        {
          "output_type": "stream",
          "text": [
            "..........\n",
            "..........\n",
            "..........\n",
            "....#.....\n",
            ".....#....\n",
            "...###....\n",
            "..........\n",
            "..........\n",
            "..........\n",
            "..........\n",
            "\n",
            "..........\n",
            "..........\n",
            "..........\n",
            "..........\n",
            "...#.#....\n",
            "....##....\n",
            "....#.....\n",
            "..........\n",
            "..........\n",
            "..........\n",
            "\n",
            "..........\n",
            "..........\n",
            "..........\n",
            "..##......\n",
            "..##......\n",
            "..#.......\n",
            "......#...\n",
            "...###....\n",
            "..........\n",
            "..........\n",
            "\n",
            "..........\n",
            "..........\n",
            "....#.....\n",
            "..........\n",
            ".#........\n",
            "..........\n",
            "......##..\n",
            "..##.#....\n",
            "....#.....\n",
            "..........\n",
            "\n",
            "..........\n",
            "...##.....\n",
            ".....#....\n",
            "##...#....\n",
            "###.......\n",
            "#.......#.\n",
            ".#......#.\n",
            ".#........\n",
            "......#...\n",
            "...###....\n",
            "\n",
            "..........\n",
            "..#.......\n",
            "..........\n",
            "#.........\n",
            "....#..#..\n",
            "..........\n",
            "........#.\n",
            ".#....#.#.\n",
            ".#..####..\n",
            "..####....\n",
            "\n",
            "..........\n",
            ".##.......\n",
            "#.#.......\n",
            ".#.#####..\n",
            "..........\n",
            "#....#....\n",
            ".....##...\n",
            ".#........\n",
            ".........#\n",
            "..........\n",
            "112\n"
          ],
          "name": "stdout"
        }
      ]
    },
    {
      "cell_type": "markdown",
      "metadata": {
        "id": "9_VvYkquTXMo"
      },
      "source": [
        "## Part 2"
      ]
    },
    {
      "cell_type": "code",
      "metadata": {
        "colab": {
          "base_uri": "https://localhost:8080/"
        },
        "id": "CNQQxf3lZTMs",
        "outputId": "253c2cf9-b72b-4c13-f169-27123c222993"
      },
      "source": [
        "import copy\r\n",
        "\r\n",
        "active_cubes = []\r\n",
        "\r\n",
        "# Initialize the grid\r\n",
        "for i, row in enumerate(data_slice):\r\n",
        "  for j, cube in enumerate(row):\r\n",
        "    if(cube == '#'):\r\n",
        "     active_cubes.append((0, 0, i, j))\r\n",
        "\r\n",
        "print_slice_from_4d(0, 0, active_cubes)\r\n",
        "\r\n",
        "# Run 6 cycles of the rules\r\n",
        "for i in range(6):\r\n",
        "  #print('active_cubes', active_cubes)\r\n",
        "  active_cubes_new = copy.copy(active_cubes)\r\n",
        "\r\n",
        "  for active_cube in active_cubes:\r\n",
        "    if(not active_cube_activate_decision(active_cube)): # inactive\r\n",
        "      active_cubes_new.remove(active_cube)\r\n",
        "\r\n",
        "  inactive_cubes_to_activate = find_inactive_cubes_to_activate(active_cubes)\r\n",
        "  active_cubes_new += inactive_cubes_to_activate\r\n",
        "  active_cubes_new = list(set(active_cubes_new))\r\n",
        "\r\n",
        "  #print('active_cubes_new', active_cubes_new)\r\n",
        "  print()\r\n",
        "  print_slice_from_4d(0, 0, active_cubes_new)\r\n",
        "\r\n",
        "  active_cubes = active_cubes_new\r\n",
        "\r\n",
        "print(len(active_cubes))"
      ],
      "execution_count": 11,
      "outputs": [
        {
          "output_type": "stream",
          "text": [
            "..........\n",
            "..........\n",
            "..........\n",
            "....#.....\n",
            ".....#....\n",
            "...###....\n",
            "..........\n",
            "..........\n",
            "..........\n",
            "..........\n",
            "\n",
            "..........\n",
            "..........\n",
            "..........\n",
            "..........\n",
            "...#.#....\n",
            "....##....\n",
            "....#.....\n",
            "..........\n",
            "..........\n",
            "..........\n",
            "\n",
            "..........\n",
            "..........\n",
            "..........\n",
            "..........\n",
            "..........\n",
            "..........\n",
            "..........\n",
            "..........\n",
            "..........\n",
            "..........\n",
            "\n",
            "..........\n",
            "..........\n",
            "..........\n",
            "..........\n",
            "..........\n",
            "..........\n",
            "..........\n",
            "..........\n",
            "..........\n",
            "..........\n",
            "\n",
            "..........\n",
            "..........\n",
            "..........\n",
            "..........\n",
            "..........\n",
            "..........\n",
            "..........\n",
            "..........\n",
            "..........\n",
            "..........\n",
            "\n",
            "..........\n",
            "..........\n",
            "..........\n",
            "..........\n",
            "..........\n",
            "..........\n",
            "..........\n",
            "..........\n",
            "..........\n",
            "..........\n",
            "\n",
            "..........\n",
            "..........\n",
            "..........\n",
            "..........\n",
            "..........\n",
            "..........\n",
            "..........\n",
            "..........\n",
            "..........\n",
            "..........\n",
            "848\n"
          ],
          "name": "stdout"
        }
      ]
    }
  ]
}