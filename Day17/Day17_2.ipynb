{
  "nbformat": 4,
  "nbformat_minor": 0,
  "metadata": {
    "colab": {
      "name": "Day17_2.ipynb",
      "provenance": [],
      "collapsed_sections": []
    },
    "kernelspec": {
      "name": "python3",
      "display_name": "Python 3"
    }
  },
  "cells": [
    {
      "cell_type": "markdown",
      "metadata": {
        "id": "uGU8t6IDxV7O"
      },
      "source": [
        "# Advent of Code 2020 - Day 17\r\n",
        "\r\n",
        "This took much longer than it should have due to the misleading example."
      ]
    },
    {
      "cell_type": "code",
      "metadata": {
        "colab": {
          "base_uri": "https://localhost:8080/"
        },
        "id": "9GUdg1d0xWEP",
        "outputId": "0ea289c5-7858-4c12-d02f-8d9ba90be000"
      },
      "source": [
        "data = []\r\n",
        "with open(\"inputs_day_17.txt\", \"r\") as f:\r\n",
        "  for line in f:\r\n",
        "    data.append(line.strip())\r\n",
        "data"
      ],
      "execution_count": 1,
      "outputs": [
        {
          "output_type": "execute_result",
          "data": {
            "text/plain": [
              "['...###.#',\n",
              " '#.#.##..',\n",
              " '.##.##..',\n",
              " '..##...#',\n",
              " '.###.##.',\n",
              " '.#..##..',\n",
              " '.....###',\n",
              " '.####..#']"
            ]
          },
          "metadata": {
            "tags": []
          },
          "execution_count": 1
        }
      ]
    },
    {
      "cell_type": "code",
      "metadata": {
        "id": "pm4GeJjXGW85"
      },
      "source": [
        "data_slice = [[d for d in row] for row in data]\r\n",
        "dimension_size = len(data_slice)"
      ],
      "execution_count": 2,
      "outputs": []
    },
    {
      "cell_type": "code",
      "metadata": {
        "colab": {
          "base_uri": "https://localhost:8080/"
        },
        "id": "VB6gfVQ0oL35",
        "outputId": "a34709a0-c81d-4feb-d7b7-c3a062002f5b"
      },
      "source": [
        "data_slice"
      ],
      "execution_count": 3,
      "outputs": [
        {
          "output_type": "execute_result",
          "data": {
            "text/plain": [
              "[['.', '.', '.', '#', '#', '#', '.', '#'],\n",
              " ['#', '.', '#', '.', '#', '#', '.', '.'],\n",
              " ['.', '#', '#', '.', '#', '#', '.', '.'],\n",
              " ['.', '.', '#', '#', '.', '.', '.', '#'],\n",
              " ['.', '#', '#', '#', '.', '#', '#', '.'],\n",
              " ['.', '#', '.', '.', '#', '#', '.', '.'],\n",
              " ['.', '.', '.', '.', '.', '#', '#', '#'],\n",
              " ['.', '#', '#', '#', '#', '.', '.', '#']]"
            ]
          },
          "metadata": {
            "tags": []
          },
          "execution_count": 3
        }
      ]
    },
    {
      "cell_type": "markdown",
      "metadata": {
        "id": "dkcBQJNoywAl"
      },
      "source": [
        "# Finding Neighbors of a Cube\r\n",
        "\r\n",
        "Give the coordinates denoting a cube location $(i, j, k, ...)$, we want to find the coordinates of all neigboring location, where a neighbor is defined to be the cooridnates where any coordinate differ from the original by at most $1$. So, the possibilities for the first position will be $i - 1, i, i +1$. It is easy to see that there are:\r\n",
        "\r\n",
        "$$\r\n",
        "3 ^ {\\text{Number of Cooridnates}} - 1\r\n",
        "$$\r\n",
        "\r\n",
        "The neighbors can be found with recursion."
      ]
    },
    {
      "cell_type": "code",
      "metadata": {
        "id": "BlEksbxHJxPF"
      },
      "source": [
        "# Find neighbors of a cube\r\n",
        "# Give a cube location (i, j, k, ...), it returns a list of all locations \r\n",
        "# where any of their coordinates differ by at most 1.\r\n",
        "def find_cube_neighbors(cube):\r\n",
        "\r\n",
        "  # Helper (src: https://code.activestate.com/recipes/579098-pick-all-combinations-of-items-in-buckets/)\r\n",
        "  def of_bucket(lst, depth = 0):\r\n",
        "    \"\"\" return all combinations of items in buckets \"\"\"\r\n",
        "    for item in lst[0] :\r\n",
        "      if len(lst) > 1 :\r\n",
        "        for result in of_bucket(lst[1:], depth + 1):\r\n",
        "          yield [item, ] + result\r\n",
        "      else:\r\n",
        "        yield [item,]\r\n",
        "\r\n",
        "  possibilites = [[coord - 1, coord, coord + 1] for coord in cube]\r\n",
        "  neighbor_locations = []\r\n",
        "  for n, combination in enumerate(of_bucket(possibilites)):\r\n",
        "    if(tuple(combination) != cube):\r\n",
        "      neighbor_locations.append(tuple(combination))\r\n",
        "\r\n",
        "  return neighbor_locations"
      ],
      "execution_count": 12,
      "outputs": []
    },
    {
      "cell_type": "markdown",
      "metadata": {
        "id": "UyuSzMEKnxhe"
      },
      "source": [
        "## Rule 1"
      ]
    },
    {
      "cell_type": "code",
      "metadata": {
        "id": "BKI76UU0nxKY"
      },
      "source": [
        "# Given a list of active cubes, find cube locations to deacivtate\r\n",
        "# Based on the rule that an active cube must have exectly 2 or 3 active neighbors to remain active\r\n",
        "def find_active_cubes_to_deactivate(active_cubes):\r\n",
        "  cubes_to_deactivate = []\r\n",
        "  for active_cube in active_cubes:\r\n",
        "    neighbors = find_cube_neighbors(active_cube)\r\n",
        "    active_neighbors = [cube for cube in neighbors if cube in active_cubes]\r\n",
        "    active_count = len(active_neighbors)\r\n",
        "    if(not(active_count == 2 or active_count == 3)):\r\n",
        "      cubes_to_deactivate.append(active_cube)\r\n",
        "  return cubes_to_deactivate"
      ],
      "execution_count": 6,
      "outputs": []
    },
    {
      "cell_type": "markdown",
      "metadata": {
        "id": "S1TBBid9nzHR"
      },
      "source": [
        "## Rule 2"
      ]
    },
    {
      "cell_type": "code",
      "metadata": {
        "id": "yjo1uRdIRGdm"
      },
      "source": [
        "from collections import Counter\r\n",
        "\r\n",
        "# Given a list of active cubes, find cube locations to acivtate\r\n",
        "# Based on the rule that inactive cubes must have exactly 3 active neighbors\r\n",
        "def find_inactive_cubes_to_activate(active_cubes):\r\n",
        "\r\n",
        "  inactive_neighbors_of_active_cubes = []\r\n",
        "  for active_cube in active_cubes:\r\n",
        "    neighbors_of_active_cube = find_cube_neighbors(active_cube)\r\n",
        "    inactive_neighbors_of_active_cube = [cube for cube in neighbors_of_active_cube if not cube in active_cubes]\r\n",
        "    inactive_neighbors_of_active_cubes += inactive_neighbors_of_active_cube\r\n",
        "\r\n",
        "  counts = Counter(inactive_neighbors_of_active_cubes)\r\n",
        "  cubes_to_activate = [key for key in counts if counts[key] == 3]\r\n",
        "  return cubes_to_activate"
      ],
      "execution_count": 14,
      "outputs": []
    },
    {
      "cell_type": "markdown",
      "metadata": {
        "id": "I6pWngLkn6Bt"
      },
      "source": [
        "## Helpers"
      ]
    },
    {
      "cell_type": "code",
      "metadata": {
        "id": "lR3-m9tGoBm9"
      },
      "source": [
        "def print_slice_from_3d(z, active_cubes):\r\n",
        "  for j in range(-dimension_size, dimension_size * 2 + 1):\r\n",
        "    for k in range(-dimension_size, dimension_size * 2 + 1):\r\n",
        "      if((z, j, k) in active_cubes):\r\n",
        "        print('#', end = '')\r\n",
        "      else:\r\n",
        "        print('.', end = '')\r\n",
        "    print()"
      ],
      "execution_count": 15,
      "outputs": []
    },
    {
      "cell_type": "markdown",
      "metadata": {
        "id": "zh4vwcm2dIU8"
      },
      "source": [
        "## Part 1"
      ]
    },
    {
      "cell_type": "code",
      "metadata": {
        "colab": {
          "base_uri": "https://localhost:8080/"
        },
        "id": "Y4NYjzCVTWkI",
        "outputId": "cf1771e4-eda6-4014-8551-6ef25390b3b6"
      },
      "source": [
        "import copy\r\n",
        "\r\n",
        "active_cubes = []\r\n",
        "\r\n",
        "# Initialize the grid\r\n",
        "for i, row in enumerate(data_slice):\r\n",
        "  for j, cube in enumerate(row):\r\n",
        "    if(cube == '#'):\r\n",
        "     active_cubes.append((0, i, j))\r\n",
        "\r\n",
        "print_slice_from_3d(0, active_cubes)\r\n",
        "\r\n",
        "# Run 6 cycles of the rules\r\n",
        "for i in range(6):\r\n",
        "  #print('active_cubes', active_cubes)\r\n",
        "  active_cubes_new = copy.copy(active_cubes)\r\n",
        "\r\n",
        "  active_cubes_deactivate = find_active_cubes_to_deactivate(active_cubes)\r\n",
        "  for active_cube in active_cubes_deactivate:\r\n",
        "    active_cubes_new.remove(active_cube)\r\n",
        "\r\n",
        "  inactive_cubes_to_activate = find_inactive_cubes_to_activate(active_cubes)\r\n",
        "  for inactive_cube in inactive_cubes_to_activate:\r\n",
        "    active_cubes_new.append(inactive_cube)\r\n",
        "\r\n",
        "\r\n",
        "  #print('active_cubes_new', active_cubes_new)\r\n",
        "  print()\r\n",
        "  print_slice_from_3d(0, active_cubes_new)\r\n",
        "\r\n",
        "  active_cubes = active_cubes_new\r\n",
        "\r\n",
        "print(len(active_cubes))"
      ],
      "execution_count": 16,
      "outputs": [
        {
          "output_type": "stream",
          "text": [
            ".........................\n",
            ".........................\n",
            ".........................\n",
            ".........................\n",
            ".........................\n",
            ".........................\n",
            ".........................\n",
            ".........................\n",
            "...........###.#.........\n",
            "........#.#.##...........\n",
            ".........##.##...........\n",
            "..........##...#.........\n",
            ".........###.##..........\n",
            ".........#..##...........\n",
            ".............###.........\n",
            ".........####..#.........\n",
            ".........................\n",
            ".........................\n",
            ".........................\n",
            ".........................\n",
            ".........................\n",
            ".........................\n",
            ".........................\n",
            ".........................\n",
            ".........................\n",
            "\n",
            ".........................\n",
            ".........................\n",
            ".........................\n",
            ".........................\n",
            ".........................\n",
            ".........................\n",
            ".........................\n",
            "............#............\n",
            "...........#.##..........\n",
            "..........#..............\n",
            ".............##..........\n",
            ".........................\n",
            ".........#...##..........\n",
            ".........#.#...#.........\n",
            ".........#.....#.........\n",
            "..........####.#.........\n",
            "..........##.............\n",
            ".........................\n",
            ".........................\n",
            ".........................\n",
            ".........................\n",
            ".........................\n",
            ".........................\n",
            ".........................\n",
            ".........................\n",
            "\n",
            ".........................\n",
            ".........................\n",
            ".........................\n",
            ".........................\n",
            ".........................\n",
            ".........................\n",
            "...........###...........\n",
            "...............#.........\n",
            "..............##.........\n",
            "............#............\n",
            ".............###.........\n",
            ".........................\n",
            ".........#.#....#........\n",
            "...........#.............\n",
            ".........................\n",
            "........#................\n",
            "...............##........\n",
            ".........#..#............\n",
            ".........................\n",
            ".........................\n",
            ".........................\n",
            ".........................\n",
            ".........................\n",
            ".........................\n",
            ".........................\n",
            "\n",
            ".........................\n",
            ".........................\n",
            ".........................\n",
            ".........................\n",
            ".........................\n",
            "............#............\n",
            "..........#....#.........\n",
            "..........#..............\n",
            ".........................\n",
            "...........#.............\n",
            "...........#....#........\n",
            "...........#.............\n",
            ".........................\n",
            "...............##........\n",
            "...........#.............\n",
            ".........................\n",
            "............##.##........\n",
            ".........................\n",
            ".........................\n",
            ".........................\n",
            ".........................\n",
            ".........................\n",
            ".........................\n",
            ".........................\n",
            ".........................\n",
            "\n",
            ".........................\n",
            ".........................\n",
            ".........................\n",
            ".........................\n",
            "...........###...........\n",
            "............#.##.........\n",
            "..........#...##.........\n",
            "..........#...##.........\n",
            ".........................\n",
            "...........#.............\n",
            ".........................\n",
            ".................#.......\n",
            "..............#..#.......\n",
            ".........................\n",
            "..............#..#.......\n",
            ".........................\n",
            "............##.###.......\n",
            ".................#.......\n",
            ".........................\n",
            ".........................\n",
            ".........................\n",
            ".........................\n",
            ".........................\n",
            ".........................\n",
            ".........................\n",
            "\n",
            ".........................\n",
            ".........................\n",
            ".........................\n",
            "............#............\n",
            "..........#..............\n",
            ".........#...............\n",
            "................#........\n",
            "..........#..............\n",
            ".........#..#...#........\n",
            "...........#.............\n",
            "...........#....#........\n",
            ".............##..#.......\n",
            ".............##..#.......\n",
            ".........................\n",
            ".........................\n",
            "...........#..#..........\n",
            ".........................\n",
            ".........................\n",
            "................##.......\n",
            ".........................\n",
            ".........................\n",
            ".........................\n",
            ".........................\n",
            ".........................\n",
            ".........................\n",
            "\n",
            ".........................\n",
            ".........................\n",
            "...........###...........\n",
            "............##...........\n",
            "............##...........\n",
            "........##.....###.......\n",
            "...............###.......\n",
            ".........................\n",
            "...........##...#........\n",
            "...........#.............\n",
            "...........#....#.#......\n",
            "...........#.............\n",
            ".........................\n",
            "............#............\n",
            "...............#.........\n",
            "..........###............\n",
            ".........................\n",
            ".........................\n",
            ".................##......\n",
            ".........................\n",
            ".........................\n",
            ".........................\n",
            ".........................\n",
            ".........................\n",
            ".........................\n",
            "362\n"
          ],
          "name": "stdout"
        }
      ]
    },
    {
      "cell_type": "markdown",
      "metadata": {
        "id": "9_VvYkquTXMo"
      },
      "source": [
        "## Part 2"
      ]
    },
    {
      "cell_type": "code",
      "metadata": {
        "colab": {
          "base_uri": "https://localhost:8080/"
        },
        "id": "CNQQxf3lZTMs",
        "outputId": "affa281c-7d8b-48f5-a5b7-bd1bc029a41a"
      },
      "source": [
        "import copy\r\n",
        "\r\n",
        "active_cubes = []\r\n",
        "\r\n",
        "# Initialize the grid\r\n",
        "for i, row in enumerate(data_slice):\r\n",
        "  for j, cube in enumerate(row):\r\n",
        "    if(cube == '#'):\r\n",
        "     active_cubes.append((0, 0, i, j))\r\n",
        "\r\n",
        "# Run 6 application of the rules\r\n",
        "for i in range(6):\r\n",
        "\r\n",
        "  active_cubes_new = copy.copy(active_cubes)\r\n",
        "\r\n",
        "  active_cubes_deactivate = find_active_cubes_to_deactivate(active_cubes)\r\n",
        "  for active_cube in active_cubes_deactivate:\r\n",
        "    active_cubes_new.remove(active_cube)\r\n",
        "\r\n",
        "  inactive_cubes_to_activate = find_inactive_cubes_to_activate(active_cubes)\r\n",
        "  for inactive_cube in inactive_cubes_to_activate:\r\n",
        "    active_cubes_new.append(inactive_cube)\r\n",
        "\r\n",
        "  active_cubes = active_cubes_new\r\n",
        "\r\n",
        "print(len(active_cubes))"
      ],
      "execution_count": 10,
      "outputs": [
        {
          "output_type": "stream",
          "text": [
            "1980\n"
          ],
          "name": "stdout"
        }
      ]
    },
    {
      "cell_type": "code",
      "metadata": {
        "id": "17nC1I54axAC"
      },
      "source": [
        ""
      ],
      "execution_count": 10,
      "outputs": []
    }
  ]
}