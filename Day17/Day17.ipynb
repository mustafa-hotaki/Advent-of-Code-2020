{
  "nbformat": 4,
  "nbformat_minor": 0,
  "metadata": {
    "colab": {
      "name": "Day17_2.ipynb",
      "provenance": [],
      "collapsed_sections": []
    },
    "kernelspec": {
      "name": "python3",
      "display_name": "Python 3"
    }
  },
  "cells": [
    {
      "cell_type": "markdown",
      "metadata": {
        "id": "uGU8t6IDxV7O"
      },
      "source": [
        "# Advent of Code 2020 - Day 17\r\n",
        "\r\n",
        "This took much longer than it should have due to the misleading example."
      ]
    },
    {
      "cell_type": "code",
      "metadata": {
        "colab": {
          "base_uri": "https://localhost:8080/"
        },
        "id": "9GUdg1d0xWEP",
        "outputId": "025e4c2d-ebc4-45f8-ecfb-e96d29479d3d"
      },
      "source": [
        "data = []\r\n",
        "with open(\"inputs_day_17.txt\", \"r\") as f:\r\n",
        "  for line in f:\r\n",
        "    data.append(list(line.strip()))\r\n",
        "data"
      ],
      "execution_count": 1,
      "outputs": [
        {
          "output_type": "execute_result",
          "data": {
            "text/plain": [
              "[['.', '.', '.', '#', '#', '#', '.', '#'],\n",
              " ['#', '.', '#', '.', '#', '#', '.', '.'],\n",
              " ['.', '#', '#', '.', '#', '#', '.', '.'],\n",
              " ['.', '.', '#', '#', '.', '.', '.', '#'],\n",
              " ['.', '#', '#', '#', '.', '#', '#', '.'],\n",
              " ['.', '#', '.', '.', '#', '#', '.', '.'],\n",
              " ['.', '.', '.', '.', '.', '#', '#', '#'],\n",
              " ['.', '#', '#', '#', '#', '.', '.', '#']]"
            ]
          },
          "metadata": {
            "tags": []
          },
          "execution_count": 1
        }
      ]
    },
    {
      "cell_type": "code",
      "metadata": {
        "id": "pm4GeJjXGW85"
      },
      "source": [
        "# Global\r\n",
        "INPUT_SLICE_SIZE = len(data)"
      ],
      "execution_count": 2,
      "outputs": []
    },
    {
      "cell_type": "markdown",
      "metadata": {
        "id": "dkcBQJNoywAl"
      },
      "source": [
        "# Finding Neighbors of a Cube\r\n",
        "\r\n",
        "Given the coordinates denoting a cube location $(x_1, x_2, x_3, \\cdots, x_N)$ in $N$-demensional hyperspace, we want to find the coordinates of all its *neighbors*. A *neighbor* is defined to be the cooridnates where any of their coordinates differ by at most $1$. So, the possibilities for the $n$th coordinate of a neighbor of the cube are $x_n - 1, x_n, x_n + 1$. It is easy to see that there are:\r\n",
        "\r\n",
        "$$\r\n",
        "3 ^ {N} - 1\r\n",
        "$$\r\n",
        "\r\n",
        "Neighbors. The neighbors can be found with recursion by generting all combinations of items from *buckets* of possibilities corresponding to each location. We exclude the original cube from this list."
      ]
    },
    {
      "cell_type": "code",
      "metadata": {
        "id": "BlEksbxHJxPF"
      },
      "source": [
        "# Find neighbors of a cube\r\n",
        "# Give a cube location (i, j, k, ...), it returns a list of all locations \r\n",
        "# where any of their coordinates differ by at most 1.\r\n",
        "def find_cube_neighbors(cube):\r\n",
        "\r\n",
        "  def of_bucket(buckets):\r\n",
        "    for bucket_item in buckets[0]:\r\n",
        "      if len(buckets) > 1 :\r\n",
        "        for result in of_bucket(buckets[1:]):\r\n",
        "          yield [bucket_item] + result\r\n",
        "      else:\r\n",
        "        yield [bucket_item]\r\n",
        "\r\n",
        "  buckets = [[coord - 1, coord, coord + 1] for coord in cube]\r\n",
        "  neighbor_locations = [tuple(comb) for comb in of_bucket(buckets) if tuple(comb) != cube]\r\n",
        "\r\n",
        "  return neighbor_locations"
      ],
      "execution_count": 3,
      "outputs": []
    },
    {
      "cell_type": "markdown",
      "metadata": {
        "id": "UyuSzMEKnxhe"
      },
      "source": [
        "## Rule 1"
      ]
    },
    {
      "cell_type": "code",
      "metadata": {
        "id": "BKI76UU0nxKY"
      },
      "source": [
        "# Given a list of active cubes, find cube locations to deacivtate\r\n",
        "# Based on the rule that an active cube must have exectly 2 or 3 active neighbors to remain active\r\n",
        "def find_active_cubes_to_deactivate(active_cubes):\r\n",
        "\r\n",
        "  cubes_to_deactivate = set()\r\n",
        "  for active_cube in active_cubes:\r\n",
        "    neighbors = find_cube_neighbors(active_cube)\r\n",
        "    active_neighbors = [cube for cube in neighbors if cube in active_cubes]\r\n",
        "    active_count = len(active_neighbors)\r\n",
        "    if(not(active_count == 2 or active_count == 3)):\r\n",
        "      cubes_to_deactivate.add(active_cube)\r\n",
        "  return cubes_to_deactivate"
      ],
      "execution_count": 4,
      "outputs": []
    },
    {
      "cell_type": "markdown",
      "metadata": {
        "id": "S1TBBid9nzHR"
      },
      "source": [
        "## Rule 2"
      ]
    },
    {
      "cell_type": "code",
      "metadata": {
        "id": "yjo1uRdIRGdm"
      },
      "source": [
        "from collections import Counter\r\n",
        "\r\n",
        "# Given a list of active cubes, find cube locations to acivtate\r\n",
        "# Based on the rule that inactive cubes must have exactly 3 active neighbors\r\n",
        "def find_inactive_cubes_to_activate(active_cubes):\r\n",
        "\r\n",
        "  inactive_neighbors_of_active_cubes = []\r\n",
        "  for active_cube in active_cubes:\r\n",
        "    neighbors_of_active_cube = find_cube_neighbors(active_cube)\r\n",
        "    inactive_neighbors_of_active_cube = [cube for cube in neighbors_of_active_cube if not cube in active_cubes]\r\n",
        "    inactive_neighbors_of_active_cubes += inactive_neighbors_of_active_cube\r\n",
        "\r\n",
        "  counts = Counter(inactive_neighbors_of_active_cubes)\r\n",
        "  cubes_to_activate = [key for key in counts if counts[key] == 3]\r\n",
        "  return set(cubes_to_activate)"
      ],
      "execution_count": 5,
      "outputs": []
    },
    {
      "cell_type": "markdown",
      "metadata": {
        "id": "I6pWngLkn6Bt"
      },
      "source": [
        "## Helpers"
      ]
    },
    {
      "cell_type": "code",
      "metadata": {
        "id": "lR3-m9tGoBm9"
      },
      "source": [
        "def print_slice_from_3d(z, active_cubes):\r\n",
        "  for j in range(-INPUT_SLICE_SIZE, INPUT_SLICE_SIZE * 2 + 1):\r\n",
        "    for k in range(-INPUT_SLICE_SIZE, INPUT_SLICE_SIZE * 2 + 1):\r\n",
        "      if((z, j, k) in active_cubes):\r\n",
        "        print('#', end = '')\r\n",
        "      else:\r\n",
        "        print('.', end = '')\r\n",
        "    print()"
      ],
      "execution_count": 6,
      "outputs": []
    },
    {
      "cell_type": "markdown",
      "metadata": {
        "id": "zh4vwcm2dIU8"
      },
      "source": [
        "## Part 1"
      ]
    },
    {
      "cell_type": "code",
      "metadata": {
        "colab": {
          "base_uri": "https://localhost:8080/"
        },
        "id": "Y4NYjzCVTWkI",
        "outputId": "a32cc455-0e69-4316-a599-fc882a316cfc"
      },
      "source": [
        "import copy\r\n",
        "\r\n",
        "active_cubes = set()\r\n",
        "\r\n",
        "# Initialize the grid\r\n",
        "for i, row in enumerate(data):\r\n",
        "  for j, cube in enumerate(row):\r\n",
        "    if(cube == '#'):\r\n",
        "     active_cubes.add((0, i, j))\r\n",
        "\r\n",
        "print_slice_from_3d(0, active_cubes)\r\n",
        "\r\n",
        "# Run 6 application of the rules\r\n",
        "for i in range(6):\r\n",
        "  #print('active_cubes', active_cubes)\r\n",
        "  active_cubes_new = copy.copy(active_cubes)\r\n",
        "\r\n",
        "  active_cubes_to_deactivate = find_active_cubes_to_deactivate(active_cubes)\r\n",
        "  for active_cube in active_cubes_to_deactivate:\r\n",
        "    active_cubes_new.remove(active_cube)\r\n",
        "\r\n",
        "  inactive_cubes_to_activate = find_inactive_cubes_to_activate(active_cubes)\r\n",
        "  for inactive_cube in inactive_cubes_to_activate:\r\n",
        "    active_cubes_new.add(inactive_cube)\r\n",
        "\r\n",
        "\r\n",
        "  print()\r\n",
        "  print_slice_from_3d(0, active_cubes_new)\r\n",
        "\r\n",
        "  active_cubes = active_cubes_new\r\n",
        "\r\n",
        "print(len(active_cubes))"
      ],
      "execution_count": 7,
      "outputs": [
        {
          "output_type": "stream",
          "text": [
            ".........................\n",
            ".........................\n",
            ".........................\n",
            ".........................\n",
            ".........................\n",
            ".........................\n",
            ".........................\n",
            ".........................\n",
            "...........###.#.........\n",
            "........#.#.##...........\n",
            ".........##.##...........\n",
            "..........##...#.........\n",
            ".........###.##..........\n",
            ".........#..##...........\n",
            ".............###.........\n",
            ".........####..#.........\n",
            ".........................\n",
            ".........................\n",
            ".........................\n",
            ".........................\n",
            ".........................\n",
            ".........................\n",
            ".........................\n",
            ".........................\n",
            ".........................\n",
            "\n",
            ".........................\n",
            ".........................\n",
            ".........................\n",
            ".........................\n",
            ".........................\n",
            ".........................\n",
            ".........................\n",
            "............#............\n",
            "...........#.##..........\n",
            "..........#..............\n",
            ".............##..........\n",
            ".........................\n",
            ".........#...##..........\n",
            ".........#.#...#.........\n",
            ".........#.....#.........\n",
            "..........####.#.........\n",
            "..........##.............\n",
            ".........................\n",
            ".........................\n",
            ".........................\n",
            ".........................\n",
            ".........................\n",
            ".........................\n",
            ".........................\n",
            ".........................\n",
            "\n",
            ".........................\n",
            ".........................\n",
            ".........................\n",
            ".........................\n",
            ".........................\n",
            ".........................\n",
            "...........###...........\n",
            "...............#.........\n",
            "..............##.........\n",
            "............#............\n",
            ".............###.........\n",
            ".........................\n",
            ".........#.#....#........\n",
            "...........#.............\n",
            ".........................\n",
            "........#................\n",
            "...............##........\n",
            ".........#..#............\n",
            ".........................\n",
            ".........................\n",
            ".........................\n",
            ".........................\n",
            ".........................\n",
            ".........................\n",
            ".........................\n",
            "\n",
            ".........................\n",
            ".........................\n",
            ".........................\n",
            ".........................\n",
            ".........................\n",
            "............#............\n",
            "..........#....#.........\n",
            "..........#..............\n",
            ".........................\n",
            "...........#.............\n",
            "...........#....#........\n",
            "...........#.............\n",
            ".........................\n",
            "...............##........\n",
            "...........#.............\n",
            ".........................\n",
            "............##.##........\n",
            ".........................\n",
            ".........................\n",
            ".........................\n",
            ".........................\n",
            ".........................\n",
            ".........................\n",
            ".........................\n",
            ".........................\n",
            "\n",
            ".........................\n",
            ".........................\n",
            ".........................\n",
            ".........................\n",
            "...........###...........\n",
            "............#.##.........\n",
            "..........#...##.........\n",
            "..........#...##.........\n",
            ".........................\n",
            "...........#.............\n",
            ".........................\n",
            ".................#.......\n",
            "..............#..#.......\n",
            ".........................\n",
            "..............#..#.......\n",
            ".........................\n",
            "............##.###.......\n",
            ".................#.......\n",
            ".........................\n",
            ".........................\n",
            ".........................\n",
            ".........................\n",
            ".........................\n",
            ".........................\n",
            ".........................\n",
            "\n",
            ".........................\n",
            ".........................\n",
            ".........................\n",
            "............#............\n",
            "..........#..............\n",
            ".........#...............\n",
            "................#........\n",
            "..........#..............\n",
            ".........#..#...#........\n",
            "...........#.............\n",
            "...........#....#........\n",
            ".............##..#.......\n",
            ".............##..#.......\n",
            ".........................\n",
            ".........................\n",
            "...........#..#..........\n",
            ".........................\n",
            ".........................\n",
            "................##.......\n",
            ".........................\n",
            ".........................\n",
            ".........................\n",
            ".........................\n",
            ".........................\n",
            ".........................\n",
            "\n",
            ".........................\n",
            ".........................\n",
            "...........###...........\n",
            "............##...........\n",
            "............##...........\n",
            "........##.....###.......\n",
            "...............###.......\n",
            ".........................\n",
            "...........##...#........\n",
            "...........#.............\n",
            "...........#....#.#......\n",
            "...........#.............\n",
            ".........................\n",
            "............#............\n",
            "...............#.........\n",
            "..........###............\n",
            ".........................\n",
            ".........................\n",
            ".................##......\n",
            ".........................\n",
            ".........................\n",
            ".........................\n",
            ".........................\n",
            ".........................\n",
            ".........................\n",
            "362\n"
          ],
          "name": "stdout"
        }
      ]
    },
    {
      "cell_type": "markdown",
      "metadata": {
        "id": "9_VvYkquTXMo"
      },
      "source": [
        "## Part 2"
      ]
    },
    {
      "cell_type": "code",
      "metadata": {
        "colab": {
          "base_uri": "https://localhost:8080/"
        },
        "id": "CNQQxf3lZTMs",
        "outputId": "68dd44ed-ad4f-49e3-f3d8-057c3858a047"
      },
      "source": [
        "import copy\r\n",
        "\r\n",
        "active_cubes = set()\r\n",
        "\r\n",
        "# Initialize the grid\r\n",
        "for i, row in enumerate(data):\r\n",
        "  for j, cube in enumerate(row):\r\n",
        "    if(cube == '#'):\r\n",
        "     active_cubes.add((0, 0, i, j))\r\n",
        "\r\n",
        "# Run 6 application of the rules\r\n",
        "for i in range(6):\r\n",
        "\r\n",
        "  active_cubes_new = copy.copy(active_cubes)\r\n",
        "\r\n",
        "  active_cubes_to_deactivate = find_active_cubes_to_deactivate(active_cubes)\r\n",
        "  for active_cube in active_cubes_to_deactivate:\r\n",
        "    active_cubes_new.remove(active_cube)\r\n",
        "\r\n",
        "  inactive_cubes_to_activate = find_inactive_cubes_to_activate(active_cubes)\r\n",
        "  for inactive_cube in inactive_cubes_to_activate:\r\n",
        "    active_cubes_new.add(inactive_cube)\r\n",
        "\r\n",
        "  active_cubes = active_cubes_new\r\n",
        "\r\n",
        "print(len(active_cubes))"
      ],
      "execution_count": 8,
      "outputs": [
        {
          "output_type": "stream",
          "text": [
            "1980\n"
          ],
          "name": "stdout"
        }
      ]
    },
    {
      "cell_type": "code",
      "metadata": {
        "id": "0jPzfOc5wpyS"
      },
      "source": [
        ""
      ],
      "execution_count": 8,
      "outputs": []
    }
  ]
}