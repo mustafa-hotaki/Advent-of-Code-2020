{
  "nbformat": 4,
  "nbformat_minor": 0,
  "metadata": {
    "colab": {
      "name": "Day12.ipynb",
      "provenance": [],
      "collapsed_sections": []
    },
    "kernelspec": {
      "name": "python3",
      "display_name": "Python 3"
    }
  },
  "cells": [
    {
      "cell_type": "markdown",
      "metadata": {
        "id": "zGu6KMErSfFP"
      },
      "source": [
        "**Day 12**\r\n",
        "\r\n",
        "Read and parse input."
      ]
    },
    {
      "cell_type": "code",
      "metadata": {
        "colab": {
          "base_uri": "https://localhost:8080/"
        },
        "id": "hU69MDcwSfMM",
        "outputId": "66a153c9-061d-4fb9-de72-c1cfbc82d5c8"
      },
      "source": [
        "f = open(\"inputs_day_12.txt\", \"r\")\r\n",
        "inputs_day_12 = []\r\n",
        "for line in f:\r\n",
        "  line_formatted = line.strip()\r\n",
        "  a = line_formatted[0]\r\n",
        "  v = int(line_formatted[1:])\r\n",
        "  #print(line_formatted)\r\n",
        "  inputs_day_12.append((a, v))\r\n",
        "print(inputs_day_12)\r\n",
        "print(len(inputs_day_12))"
      ],
      "execution_count": 1,
      "outputs": [
        {
          "output_type": "stream",
          "text": [
            "[('F', 35), ('L', 90), ('S', 5), ('F', 4), ('R', 90), ('F', 46), ('W', 3), ('N', 1), ('L', 90), ('F', 13), ('S', 5), ('E', 5), ('R', 180), ('S', 1), ('F', 39), ('N', 2), ('R', 90), ('S', 1), ('F', 94), ('R', 90), ('F', 55), ('L', 90), ('S', 2), ('R', 90), ('W', 3), ('S', 5), ('E', 3), ('R', 180), ('S', 4), ('L', 90), ('F', 40), ('N', 5), ('W', 5), ('N', 3), ('F', 88), ('L', 90), ('W', 3), ('F', 12), ('W', 1), ('N', 1), ('F', 65), ('L', 90), ('E', 1), ('N', 1), ('L', 270), ('E', 3), ('F', 67), ('R', 90), ('R', 180), ('N', 3), ('W', 5), ('N', 4), ('R', 90), ('F', 48), ('R', 180), ('F', 50), ('E', 3), ('S', 4), ('F', 50), ('N', 4), ('L', 90), ('N', 5), ('F', 26), ('L', 90), ('F', 21), ('N', 5), ('L', 90), ('R', 90), ('F', 13), ('R', 90), ('S', 2), ('E', 4), ('F', 33), ('N', 5), ('R', 90), ('F', 78), ('L', 180), ('N', 3), ('E', 5), ('N', 4), ('L', 180), ('N', 3), ('F', 12), ('E', 4), ('L', 90), ('N', 2), ('F', 32), ('L', 270), ('F', 13), ('L', 90), ('S', 5), ('F', 100), ('N', 4), ('W', 4), ('L', 270), ('N', 1), ('L', 90), ('E', 5), ('F', 30), ('W', 3), ('S', 3), ('E', 4), ('F', 38), ('E', 3), ('E', 2), ('L', 90), ('N', 1), ('L', 180), ('F', 89), ('E', 1), ('R', 90), ('F', 51), ('R', 90), ('F', 12), ('E', 5), ('L', 90), ('S', 3), ('E', 3), ('S', 3), ('L', 180), ('F', 66), ('L', 180), ('N', 3), ('F', 26), ('W', 4), ('E', 2), ('N', 4), ('F', 90), ('S', 4), ('R', 90), ('W', 4), ('F', 79), ('R', 90), ('F', 38), ('W', 3), ('F', 10), ('R', 90), ('W', 1), ('L', 180), ('F', 34), ('E', 5), ('N', 4), ('F', 30), ('S', 4), ('W', 1), ('L', 180), ('N', 2), ('W', 1), ('F', 76), ('S', 5), ('L', 270), ('N', 5), ('W', 1), ('L', 90), ('F', 4), ('N', 1), ('R', 90), ('F', 86), ('N', 1), ('L', 90), ('N', 1), ('F', 75), ('S', 4), ('F', 85), ('N', 3), ('L', 270), ('N', 5), ('F', 85), ('S', 4), ('F', 84), ('R', 180), ('W', 2), ('F', 10), ('R', 90), ('F', 72), ('L', 90), ('F', 90), ('W', 4), ('L', 90), ('F', 94), ('R', 90), ('E', 4), ('R', 90), ('S', 2), ('L', 90), ('W', 3), ('F', 89), ('W', 3), ('S', 2), ('R', 90), ('E', 1), ('S', 1), ('E', 5), ('N', 1), ('F', 77), ('L', 90), ('N', 2), ('F', 52), ('S', 1), ('W', 1), ('N', 5), ('R', 90), ('S', 2), ('L', 90), ('F', 97), ('N', 1), ('F', 54), ('L', 90), ('F', 3), ('S', 2), ('W', 5), ('F', 71), ('W', 2), ('F', 86), ('E', 5), ('N', 1), ('F', 32), ('R', 270), ('F', 1), ('E', 4), ('F', 18), ('R', 180), ('R', 90), ('E', 1), ('S', 5), ('S', 3), ('W', 2), ('F', 75), ('W', 4), ('N', 1), ('F', 3), ('E', 1), ('F', 46), ('R', 90), ('N', 4), ('W', 5), ('L', 90), ('F', 76), ('W', 2), ('F', 62), ('N', 2), ('F', 29), ('E', 2), ('N', 4), ('F', 60), ('L', 90), ('N', 2), ('L', 90), ('F', 31), ('R', 270), ('F', 97), ('S', 4), ('F', 75), ('L', 90), ('S', 4), ('F', 51), ('L', 90), ('W', 5), ('L', 90), ('F', 53), ('R', 270), ('N', 1), ('L', 90), ('E', 3), ('R', 90), ('W', 1), ('F', 44), ('N', 1), ('F', 97), ('R', 90), ('N', 2), ('W', 4), ('F', 27), ('L', 90), ('F', 91), ('E', 1), ('S', 5), ('R', 180), ('W', 5), ('N', 2), ('L', 90), ('E', 2), ('N', 5), ('F', 34), ('F', 26), ('R', 90), ('N', 2), ('E', 4), ('S', 5), ('F', 58), ('W', 1), ('F', 3), ('N', 5), ('E', 3), ('S', 2), ('W', 4), ('N', 2), ('W', 5), ('F', 19), ('L', 180), ('W', 4), ('F', 68), ('L', 90), ('N', 5), ('R', 90), ('F', 65), ('S', 4), ('R', 180), ('S', 4), ('L', 90), ('F', 59), ('R', 90), ('E', 3), ('R', 90), ('F', 44), ('L', 90), ('E', 5), ('F', 19), ('W', 5), ('N', 4), ('F', 10), ('N', 4), ('L', 90), ('S', 4), ('L', 90), ('W', 3), ('F', 75), ('R', 180), ('E', 5), ('F', 97), ('E', 3), ('F', 63), ('S', 3), ('F', 53), ('W', 2), ('F', 53), ('N', 1), ('L', 90), ('F', 14), ('S', 3), ('E', 5), ('L', 90), ('N', 5), ('F', 28), ('L', 90), ('F', 3), ('L', 90), ('S', 2), ('F', 52), ('S', 2), ('F', 99), ('S', 5), ('W', 2), ('L', 90), ('S', 1), ('W', 5), ('L', 90), ('S', 1), ('F', 11), ('R', 90), ('W', 4), ('R', 90), ('F', 11), ('N', 3), ('W', 3), ('N', 5), ('F', 39), ('W', 1), ('F', 50), ('N', 2), ('L', 90), ('W', 4), ('F', 88), ('S', 5), ('W', 4), ('R', 270), ('W', 4), ('F', 55), ('R', 90), ('E', 3), ('R', 180), ('S', 1), ('E', 3), ('F', 100), ('E', 3), ('F', 38), ('N', 3), ('F', 28), ('E', 5), ('R', 90), ('F', 94), ('R', 180), ('F', 95), ('R', 90), ('W', 4), ('R', 180), ('F', 40), ('N', 4), ('R', 90), ('S', 5), ('F', 69), ('E', 2), ('F', 2), ('N', 5), ('W', 2), ('F', 16), ('S', 2), ('F', 71), ('W', 2), ('N', 3), ('L', 90), ('F', 36), ('W', 1), ('F', 90), ('N', 5), ('R', 90), ('F', 93), ('E', 2), ('F', 23), ('N', 1), ('L', 90), ('F', 22), ('R', 90), ('L', 90), ('N', 4), ('L', 180), ('F', 7), ('L', 90), ('W', 2), ('F', 29), ('N', 2), ('L', 90), ('E', 4), ('R', 90), ('N', 5), ('F', 13), ('R', 180), ('F', 87), ('L', 90), ('S', 1), ('L', 90), ('E', 2), ('R', 90), ('F', 19), ('S', 4), ('F', 100), ('L', 270), ('W', 1), ('L', 180), ('F', 87), ('N', 1), ('F', 100), ('R', 90), ('S', 3), ('L', 90), ('W', 1), ('N', 1), ('L', 90), ('W', 2), ('F', 98), ('L', 180), ('S', 1), ('W', 4), ('S', 5), ('F', 45), ('S', 4), ('L', 90), ('E', 1), ('S', 4), ('F', 31), ('E', 1), ('S', 1), ('E', 2), ('R', 90), ('S', 5), ('L', 90), ('F', 12), ('R', 180), ('W', 1), ('L', 90), ('N', 1), ('L', 90), ('F', 23), ('E', 4), ('S', 2), ('L', 90), ('E', 5), ('S', 4), ('F', 21), ('N', 3), ('R', 90), ('W', 4), ('E', 5), ('F', 32), ('S', 1), ('E', 2), ('L', 90), ('F', 45), ('L', 90), ('W', 3), ('L', 180), ('F', 100), ('S', 5), ('F', 88), ('S', 5), ('F', 29), ('E', 1), ('L', 180), ('F', 12), ('S', 5), ('F', 52), ('N', 2), ('F', 31), ('R', 90), ('E', 1), ('L', 90), ('F', 64), ('W', 3), ('L', 90), ('N', 1), ('R', 90), ('F', 60), ('E', 2), ('F', 4), ('S', 1), ('F', 97), ('F', 62), ('L', 180), ('F', 66), ('R', 90), ('E', 1), ('S', 5), ('R', 90), ('S', 3), ('F', 96), ('W', 1), ('N', 2), ('F', 95), ('R', 90), ('E', 3), ('R', 90), ('E', 2), ('S', 2), ('E', 4), ('F', 42), ('S', 4), ('E', 4), ('L', 90), ('E', 1), ('F', 73), ('L', 90), ('N', 3), ('L', 90), ('F', 82), ('S', 3), ('R', 270), ('S', 5), ('W', 1), ('R', 90), ('W', 2), ('S', 1), ('S', 3), ('L', 90), ('F', 74), ('S', 3), ('F', 13), ('R', 180), ('F', 32), ('E', 2), ('S', 2), ('F', 93), ('N', 1), ('R', 270), ('F', 4), ('E', 5), ('F', 63), ('W', 2), ('L', 180), ('F', 26), ('E', 3), ('N', 5), ('R', 90), ('N', 3), ('L', 270), ('F', 22), ('N', 1), ('W', 5), ('F', 29), ('S', 5), ('R', 90), ('S', 1), ('F', 3), ('N', 4), ('R', 90), ('E', 3), ('R', 90), ('N', 2), ('L', 90), ('N', 3), ('F', 42), ('W', 4), ('F', 37), ('L', 90), ('F', 15), ('W', 3), ('N', 5), ('F', 25), ('E', 2), ('F', 33), ('E', 2), ('S', 1), ('L', 90), ('F', 55), ('E', 4), ('L', 90), ('W', 1), ('N', 1), ('F', 30), ('E', 2), ('R', 90), ('E', 2), ('F', 80), ('L', 90), ('W', 2), ('S', 1), ('F', 9), ('L', 270), ('W', 2), ('F', 82), ('L', 90), ('F', 94), ('N', 5), ('F', 16), ('W', 5), ('F', 74), ('R', 180), ('N', 3), ('F', 58), ('W', 5), ('F', 95), ('R', 270), ('S', 4), ('F', 55), ('L', 90), ('N', 1), ('L', 180), ('F', 85), ('N', 2), ('R', 90), ('E', 1), ('L', 90), ('F', 57), ('S', 2), ('L', 90), ('F', 31), ('L', 180), ('S', 3), ('L', 90), ('F', 58), ('N', 3), ('L', 270), ('N', 3), ('R', 270), ('F', 15), ('L', 180), ('N', 4), ('L', 90), ('N', 5), ('R', 180), ('E', 1), ('S', 4), ('F', 11), ('L', 90), ('E', 5), ('N', 4), ('E', 3), ('L', 90), ('E', 4), ('F', 71), ('R', 90), ('S', 2), ('E', 3), ('L', 90), ('S', 3), ('F', 90), ('W', 4), ('F', 8), ('R', 180), ('N', 3), ('W', 4), ('S', 4), ('F', 58), ('N', 4), ('E', 1), ('L', 180), ('S', 4), ('W', 1), ('R', 180), ('F', 47), ('S', 1), ('L', 90), ('R', 90), ('N', 1), ('E', 1), ('N', 4), ('R', 180), ('N', 2), ('E', 1), ('R', 90), ('E', 3), ('L', 90), ('F', 67), ('N', 3), ('F', 51), ('N', 1), ('F', 41), ('L', 180), ('R', 90), ('F', 5), ('E', 2), ('S', 5), ('W', 1), ('F', 51), ('R', 180), ('N', 1), ('E', 1), ('F', 91), ('R', 90), ('N', 2), ('L', 90), ('F', 66), ('L', 90), ('S', 3), ('L', 90), ('F', 52), ('E', 2), ('S', 1), ('F', 66), ('R', 180), ('F', 18), ('W', 5), ('L', 90), ('W', 1), ('F', 88), ('S', 1), ('R', 180), ('F', 92), ('L', 90), ('S', 5), ('F', 19), ('L', 90), ('E', 3), ('S', 3), ('E', 3), ('N', 5), ('W', 3), ('F', 8), ('E', 2), ('S', 4), ('F', 3)]\n",
            "760\n"
          ],
          "name": "stdout"
        }
      ]
    },
    {
      "cell_type": "markdown",
      "metadata": {
        "id": "kvBU0VIIghlU"
      },
      "source": [
        "**Part 1**"
      ]
    },
    {
      "cell_type": "code",
      "metadata": {
        "id": "RKkGxnQ7Yb7L"
      },
      "source": [
        "dir_pos = {'N' : 90, 'W' : 180, 'S': 270, 'E': 0}\r\n",
        "dir_pos_reverse = {90 : 'N', 180 : 'W', 270 : 'S', 0 : 'E'}\r\n",
        "\r\n",
        "def rotate(initial, dir, deg):\r\n",
        "  new_degree = 0\r\n",
        "  if(dir == 'L'):\r\n",
        "    new_degree = (dir_pos[initial] + deg) % 360\r\n",
        "  elif(dir == 'R'):\r\n",
        "    new_degree = (dir_pos[initial] - deg) % 360\r\n",
        "\r\n",
        "  new_degree = int(new_degree)\r\n",
        "  return dir_pos_reverse[new_degree]\r\n"
      ],
      "execution_count": 2,
      "outputs": []
    },
    {
      "cell_type": "code",
      "metadata": {
        "colab": {
          "base_uri": "https://localhost:8080/"
        },
        "id": "hOo4vj7-Ul9S",
        "outputId": "2dafe335-c16d-4561-b039-9967003b56c2"
      },
      "source": [
        "action_values =  inputs_day_12\r\n",
        "\r\n",
        "ship_position = [0, 0]\r\n",
        "ship_direction = 'E'\r\n",
        "for action, value in action_values:\r\n",
        "  #print(action, value)\r\n",
        "\r\n",
        "  if(action == 'N'): ship_position[1] += value\r\n",
        "  elif(action == 'S'): ship_position[1] -= value\r\n",
        "  elif(action == 'E'): ship_position[0] -= value\r\n",
        "  elif(action == 'W'): ship_position[0] += value\r\n",
        "  elif(action == 'L'): ship_direction = rotate(ship_direction, 'L', value) \r\n",
        "  elif(action == 'R'): ship_direction = rotate(ship_direction, 'R', value) \r\n",
        "\r\n",
        "  elif(action == 'F'):\r\n",
        "    if(ship_direction == 'N'): ship_position[1] += value\r\n",
        "    if(ship_direction == 'S'): ship_position[1] -= value\r\n",
        "    if(ship_direction == 'E'): ship_position[0] -= value\r\n",
        "    if(ship_direction == 'W'): ship_position[0] += value\r\n",
        "\r\n",
        "print(\"Ship's final position: \", ship_position)\r\n",
        "manhattan_distance = abs(ship_position[0]) + abs(ship_position[1])\r\n",
        "print('Manhattan Distance: ', manhattan_distance)"
      ],
      "execution_count": 3,
      "outputs": [
        {
          "output_type": "stream",
          "text": [
            "Ship's final position:  [-403, -187]\n",
            "Manhattan Distance:  590\n"
          ],
          "name": "stdout"
        }
      ]
    },
    {
      "cell_type": "markdown",
      "metadata": {
        "id": "-0gDou7rcGBt"
      },
      "source": [
        "**Part 2**"
      ]
    },
    {
      "cell_type": "code",
      "metadata": {
        "id": "n6FLVvIHZE3e"
      },
      "source": [
        "# Resource: https://www.khanacademy.org/math/geometry/hs-geo-transformations/hs-geo-rotations/a/rotating-shapes\r\n",
        "\r\n",
        "# Rotate a point around the origin by specified degree element of +/- (90, 180, 270)\r\n",
        "def rotate(point, degrees):\r\n",
        "  x, y = point\r\n",
        "  if(degrees == 90 or degrees == -270): new_point = (y, -x)\r\n",
        "  elif(degrees == 180 or degrees == -180): new_point = (-x, -y)\r\n",
        "  elif(degrees == -90 or degrees == 270): new_point = (-y, x)\r\n",
        "  else:\r\n",
        "    raise Exception('Function only accepts +/- (90, 180, 270) degrees')\r\n",
        "  return new_point\r\n"
      ],
      "execution_count": 4,
      "outputs": []
    },
    {
      "cell_type": "code",
      "metadata": {
        "colab": {
          "base_uri": "https://localhost:8080/"
        },
        "id": "v-Fy0ET5cGJb",
        "outputId": "6fa4fe29-0e3a-4730-8bc4-1e803245a657"
      },
      "source": [
        "action_values =  inputs_day_12\r\n",
        "\r\n",
        "ship_position = [0, 0]\r\n",
        "waypoint_relative_position = [-10, 1]\r\n",
        "\r\n",
        "for action, value in action_values:\r\n",
        "  #print(action, value)\r\n",
        "\r\n",
        "  if(action == 'N'): waypoint_relative_position[1] += value\r\n",
        "  elif(action == 'S'): waypoint_relative_position[1] -= value\r\n",
        "  elif(action == 'E'): waypoint_relative_position[0] -= value\r\n",
        "  elif(action == 'W'): waypoint_relative_position[0] += value\r\n",
        "\r\n",
        "  elif(action == 'L'):\r\n",
        "    x, y = rotate(waypoint_relative_position, value)\r\n",
        "    waypoint_relative_position[0] = x\r\n",
        "    waypoint_relative_position[1] = y\r\n",
        "\r\n",
        "  elif(action == 'R'):\r\n",
        "    x, y = rotate(waypoint_relative_position, -value)\r\n",
        "    waypoint_relative_position[0] = x\r\n",
        "    waypoint_relative_position[1] = y\r\n",
        "\r\n",
        "  elif(action == 'F'):\r\n",
        "    ship_position[0] += waypoint_relative_position[0] * value\r\n",
        "    ship_position[1] += waypoint_relative_position[1] * value\r\n",
        "\r\n",
        "  #print('waypoint_relative_position', waypoint_relative_position)\r\n",
        "  #print('ship_position', ship_position)\r\n",
        "\r\n",
        "print(\"Ship's final position: \", ship_position)\r\n",
        "manhattan_distance = abs(ship_position[0]) + abs(ship_position[1])\r\n",
        "print('Manhattan Distance: ', manhattan_distance)\r\n"
      ],
      "execution_count": 5,
      "outputs": [
        {
          "output_type": "stream",
          "text": [
            "Ship's final position:  [29191, 12822]\n",
            "Manhattan Distance:  42013\n"
          ],
          "name": "stdout"
        }
      ]
    },
    {
      "cell_type": "code",
      "metadata": {
        "id": "He7NJPJLivMu"
      },
      "source": [
        ""
      ],
      "execution_count": 5,
      "outputs": []
    }
  ]
}