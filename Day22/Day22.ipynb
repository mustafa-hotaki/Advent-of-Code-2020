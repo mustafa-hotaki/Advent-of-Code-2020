{
  "nbformat": 4,
  "nbformat_minor": 0,
  "metadata": {
    "colab": {
      "name": "Day22.ipynb",
      "provenance": [],
      "collapsed_sections": [],
      "toc_visible": true
    },
    "kernelspec": {
      "name": "python3",
      "display_name": "Python 3"
    }
  },
  "cells": [
    {
      "cell_type": "markdown",
      "metadata": {
        "id": "7X7jvMnCMH5q"
      },
      "source": [
        "# Advent of Code 2020 - Day 22"
      ]
    },
    {
      "cell_type": "code",
      "metadata": {
        "id": "HYC96h1JMHpz"
      },
      "source": [
        "data = ''\r\n",
        "with open(\"inputs_day_22.txt\", \"r\") as f:\r\n",
        "  for line in f:\r\n",
        "    data += line\r\n",
        "#print(data)"
      ],
      "execution_count": 1,
      "outputs": []
    },
    {
      "cell_type": "code",
      "metadata": {
        "colab": {
          "base_uri": "https://localhost:8080/"
        },
        "id": "11CjsLF6yd82",
        "outputId": "e709a4ef-f848-492e-cb8b-817ba0cc612a"
      },
      "source": [
        "data.split('\\n\\n')"
      ],
      "execution_count": 2,
      "outputs": [
        {
          "output_type": "execute_result",
          "data": {
            "text/plain": [
              "['Player 1:\\n17\\n19\\n30\\n45\\n25\\n48\\n8\\n6\\n39\\n36\\n28\\n5\\n47\\n26\\n46\\n20\\n18\\n13\\n7\\n49\\n34\\n23\\n43\\n22\\n4',\n",
              " 'Player 2:\\n44\\n10\\n27\\n9\\n14\\n15\\n24\\n16\\n3\\n33\\n21\\n29\\n11\\n38\\n1\\n31\\n50\\n41\\n40\\n32\\n42\\n35\\n37\\n2\\n12']"
            ]
          },
          "metadata": {
            "tags": []
          },
          "execution_count": 2
        }
      ]
    },
    {
      "cell_type": "code",
      "metadata": {
        "colab": {
          "base_uri": "https://localhost:8080/"
        },
        "id": "pMgSGXwO08HB",
        "outputId": "349725b3-445c-418c-b9cf-5dba6ab2451b"
      },
      "source": [
        "player_1_cards = data.split('\\n\\n')[0]\r\n",
        "player_1_cards = player_1_cards[player_1_cards.find(':') +2:].split('\\n')\r\n",
        "player_1_cards = [int(c) for c in player_1_cards]\r\n",
        "player_2_cards = data.split('\\n\\n')[1]\r\n",
        "player_2_cards = player_2_cards[player_2_cards.find(':') +2:].split('\\n')\r\n",
        "player_2_cards = [int(c) for c in player_2_cards]\r\n",
        "print(player_1_cards)\r\n",
        "print(player_2_cards)\r\n"
      ],
      "execution_count": 3,
      "outputs": [
        {
          "output_type": "stream",
          "text": [
            "[17, 19, 30, 45, 25, 48, 8, 6, 39, 36, 28, 5, 47, 26, 46, 20, 18, 13, 7, 49, 34, 23, 43, 22, 4]\n",
            "[44, 10, 27, 9, 14, 15, 24, 16, 3, 33, 21, 29, 11, 38, 1, 31, 50, 41, 40, 32, 42, 35, 37, 2, 12]\n"
          ],
          "name": "stdout"
        }
      ]
    },
    {
      "cell_type": "markdown",
      "metadata": {
        "id": "vrIcHWTJ3xRI"
      },
      "source": [
        "## Part 1"
      ]
    },
    {
      "cell_type": "code",
      "metadata": {
        "colab": {
          "base_uri": "https://localhost:8080/"
        },
        "id": "kFgnehRK1Bvp",
        "outputId": "8d6c033c-e298-491e-95a3-e451d74fd29e"
      },
      "source": [
        "def play_game(player_1_cards, player_2_cards):\r\n",
        "\r\n",
        "  while(True):\r\n",
        "    # Grab top cards\r\n",
        "    p1_top = player_1_cards[0]\r\n",
        "    p2_top = player_2_cards[0]\r\n",
        "\r\n",
        "    # Remove top card\r\n",
        "    player_1_cards = player_1_cards[1:]\r\n",
        "    player_2_cards = player_2_cards[1:]\r\n",
        "\r\n",
        "    if(p1_top > p2_top):\r\n",
        "      player_1_cards += [p1_top, p2_top]\r\n",
        "\r\n",
        "    elif(p2_top > p1_top):\r\n",
        "      player_2_cards += [p2_top, p1_top]\r\n",
        "\r\n",
        "    if(player_1_cards == []):\r\n",
        "      return player_2_cards\r\n",
        "\r\n",
        "    elif(player_2_cards == []):\r\n",
        "      return player_1_cards\r\n",
        "\r\n",
        "winner = play_game(player_1_cards, player_2_cards)\r\n",
        "nums = [i + 1 for i in range(len(winner))][::-1]\r\n",
        "res = sum([a * b for a, b in zip(winner, nums)])\r\n",
        "res"
      ],
      "execution_count": 4,
      "outputs": [
        {
          "output_type": "execute_result",
          "data": {
            "text/plain": [
              "33393"
            ]
          },
          "metadata": {
            "tags": []
          },
          "execution_count": 4
        }
      ]
    },
    {
      "cell_type": "markdown",
      "metadata": {
        "id": "W6zYYyNd3tig"
      },
      "source": [
        "## Part 2"
      ]
    },
    {
      "cell_type": "code",
      "metadata": {
        "colab": {
          "base_uri": "https://localhost:8080/"
        },
        "id": "KdrvJyAx3ttW",
        "outputId": "65de958d-c66d-4f9d-b507-b332403fc05a"
      },
      "source": [
        "import copy\r\n",
        "\r\n",
        "def play_game(player_1_cards, player_2_cards):\r\n",
        "\r\n",
        "  game_counter = 1\r\n",
        "  round_counter = 1\r\n",
        "  rounds_decks = []\r\n",
        "  \r\n",
        "  while(True):\r\n",
        "    deck_1 = tuple(player_1_cards)\r\n",
        "    deck_2 = tuple(player_2_cards)\r\n",
        "    deck_pairs = tuple([deck_1, deck_2])\r\n",
        "\r\n",
        "    if deck_pairs in rounds_decks:\r\n",
        "      return True, player_1_cards, game_counter\r\n",
        "    else:\r\n",
        "      rounds_decks.append(deck_pairs)\r\n",
        "\r\n",
        "    # Grab top cards\r\n",
        "    p1_top = player_1_cards[0]\r\n",
        "    p2_top = player_2_cards[0]\r\n",
        "\r\n",
        "    # Remove top card\r\n",
        "    player_1_cards = player_1_cards[1:]\r\n",
        "    player_2_cards = player_2_cards[1:]\r\n",
        "\r\n",
        "    if(len(player_1_cards) >= p1_top and len(player_2_cards) >= p2_top):\r\n",
        "      subgame = play_game(player_1_cards[ : p1_top], player_2_cards[ : p2_top])\r\n",
        "      player_1_wins = subgame[0]\r\n",
        "      \r\n",
        "      if(player_1_wins):\r\n",
        "        player_1_cards += [p1_top, p2_top]\r\n",
        "      else:\r\n",
        "        player_2_cards += [p2_top, p1_top]\r\n",
        "\r\n",
        "    else:\r\n",
        "      if p1_top > p2_top:\r\n",
        "        player_1_cards += [p1_top, p2_top]\r\n",
        "\r\n",
        "      elif(p2_top > p1_top):\r\n",
        "        player_2_cards += [p2_top, p1_top]\r\n",
        "\r\n",
        "    if player_1_cards == []:\r\n",
        "      return False, player_2_cards, game_counter\r\n",
        "\r\n",
        "    elif player_2_cards == []:\r\n",
        "      return True, player_1_cards, game_counter\r\n",
        "\r\n",
        "    round_counter += 1\r\n",
        "\r\n",
        "winner = play_game(player_1_cards, player_2_cards)[1]\r\n",
        "nums = [i + 1 for i in range(len(winner))][::-1]\r\n",
        "res = sum([a * b for a, b in zip(winner, nums)])\r\n",
        "res"
      ],
      "execution_count": 5,
      "outputs": [
        {
          "output_type": "execute_result",
          "data": {
            "text/plain": [
              "31963"
            ]
          },
          "metadata": {
            "tags": []
          },
          "execution_count": 5
        }
      ]
    }
  ]
}