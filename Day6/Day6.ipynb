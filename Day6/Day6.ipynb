{
  "nbformat": 4,
  "nbformat_minor": 0,
  "metadata": {
    "colab": {
      "name": "Day6.ipynb",
      "provenance": []
    },
    "kernelspec": {
      "name": "python3",
      "display_name": "Python 3"
    }
  },
  "cells": [
    {
      "cell_type": "markdown",
      "metadata": {
        "id": "W79HecUOP-EZ"
      },
      "source": [
        "# Advent of Code 2020 - Day 6"
      ]
    },
    {
      "cell_type": "code",
      "metadata": {
        "id": "5cugAKCoP-K-"
      },
      "source": [
        "data = ''\r\n",
        "with open(\"inputs_day_6.txt\", \"r\") as f:\r\n",
        "  for line in f:\r\n",
        "    data += line"
      ],
      "execution_count": 1,
      "outputs": []
    },
    {
      "cell_type": "markdown",
      "metadata": {
        "id": "q94dQN3bQ1Gs"
      },
      "source": [
        "## Part 1"
      ]
    },
    {
      "cell_type": "code",
      "metadata": {
        "colab": {
          "base_uri": "https://localhost:8080/"
        },
        "id": "whJ1ewPbQ1Pz",
        "outputId": "6596f0ce-8a1e-4c9c-f1d9-c01f2896eb1b"
      },
      "source": [
        "group_inputs = data.split(\"\\n\\n\")\r\n",
        "sum_all = 0\r\n",
        "for group_input in group_inputs:\r\n",
        "  user_answers = group_input.split('\\n')\r\n",
        "  characters = []\r\n",
        "  for answer in user_answers:\r\n",
        "    for char in answer:\r\n",
        "      characters.append(char)\r\n",
        "\r\n",
        "  characters_unique = set(characters)\r\n",
        "  sum_all += len(characters_unique)\r\n",
        "\r\n",
        "sum_all"
      ],
      "execution_count": 5,
      "outputs": [
        {
          "output_type": "execute_result",
          "data": {
            "text/plain": [
              "6387"
            ]
          },
          "metadata": {
            "tags": []
          },
          "execution_count": 5
        }
      ]
    },
    {
      "cell_type": "markdown",
      "metadata": {
        "id": "G3k-RsCDRLbg"
      },
      "source": [
        "## Part 2"
      ]
    },
    {
      "cell_type": "code",
      "metadata": {
        "colab": {
          "base_uri": "https://localhost:8080/"
        },
        "id": "iKFJw5g4Q55D",
        "outputId": "e4019d1f-1897-4b8c-c2de-76fb8daef684"
      },
      "source": [
        "group_inputs = data.split(\"\\n\\n\")\r\n",
        "sum_all = 0\r\n",
        "for group_input in group_inputs:\r\n",
        "  user_answers = group_input.split('\\n')\r\n",
        "\r\n",
        "  user_answers_characters = []\r\n",
        "  for user_answer in user_answers:\r\n",
        "    user_answers_characters.append([char for char in user_answer])\r\n",
        "\r\n",
        "  common = set.intersection(*[set(x) for x in user_answers_characters])\r\n",
        "  sum_all += len(common)\r\n",
        "\r\n",
        "sum_all"
      ],
      "execution_count": 6,
      "outputs": [
        {
          "output_type": "execute_result",
          "data": {
            "text/plain": [
              "3039"
            ]
          },
          "metadata": {
            "tags": []
          },
          "execution_count": 6
        }
      ]
    },
    {
      "cell_type": "code",
      "metadata": {
        "id": "UXYJLVxYRNPA"
      },
      "source": [
        ""
      ],
      "execution_count": 3,
      "outputs": []
    }
  ]
}