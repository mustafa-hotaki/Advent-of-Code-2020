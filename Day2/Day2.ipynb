{
  "nbformat": 4,
  "nbformat_minor": 0,
  "metadata": {
    "colab": {
      "name": "Day2.ipynb",
      "provenance": [],
      "collapsed_sections": [],
      "toc_visible": true
    },
    "kernelspec": {
      "name": "python3",
      "display_name": "Python 3"
    }
  },
  "cells": [
    {
      "cell_type": "markdown",
      "metadata": {
        "id": "w9cLd2XBu0aD"
      },
      "source": [
        "# Advent of Code - 2020 - Day 2\r\n",
        "\r\n"
      ]
    },
    {
      "cell_type": "code",
      "metadata": {
        "colab": {
          "base_uri": "https://localhost:8080/"
        },
        "id": "Sw2EHA83u2VH",
        "outputId": "629ee2fc-5174-411e-f361-2269cc928f83"
      },
      "source": [
        "data = []\r\n",
        "with open(\"inputs_day_2.txt\", \"r\") as f:\r\n",
        "  for x in f:\r\n",
        "    data.append(x)\r\n",
        "print('First 2 data points:', data[:2])\r\n",
        "print('Number of data points:', len(data))"
      ],
      "execution_count": 1,
      "outputs": [
        {
          "output_type": "stream",
          "text": [
            "First 2 data points: ['15-19 k: kkkkkkkkkkkkzkkkkkkk\\n', '1-11 s: sbssswsqsssssrlss\\n']\n",
            "Number of data points: 1000\n"
          ],
          "name": "stdout"
        }
      ]
    },
    {
      "cell_type": "markdown",
      "metadata": {
        "id": "JfpiOA0BvpO9"
      },
      "source": [
        "Parsing the input in a good data structure makes our job much easier."
      ]
    },
    {
      "cell_type": "code",
      "metadata": {
        "colab": {
          "base_uri": "https://localhost:8080/"
        },
        "id": "98VKS8nBvMy8",
        "outputId": "b5ff3950-f95e-4bbc-a6f5-09e81673934d"
      },
      "source": [
        "# Parse\r\n",
        "parsed_data = []\r\n",
        "for x in data:\r\n",
        "  row_list = x.split(\" \")\r\n",
        "  first_number = row_list[0].split(\"-\")[0]\r\n",
        "  second_number = row_list[0].split(\"-\")[1]\r\n",
        "  letter = row_list[1][:-1]\r\n",
        "  string = row_list[2].strip()\r\n",
        "\r\n",
        "  row_dictionary = {}\r\n",
        "  row_dictionary['first_number'] = int(first_number)\r\n",
        "  row_dictionary['second_number'] = int(second_number)\r\n",
        "  row_dictionary['letter'] = letter\r\n",
        "  row_dictionary['string'] = string\r\n",
        "\r\n",
        "  parsed_data.append(row_dictionary)\r\n",
        "\r\n",
        "print('Example data point:', parsed_data[0])\r\n",
        "print('Number of data points:',len(parsed_data))"
      ],
      "execution_count": 2,
      "outputs": [
        {
          "output_type": "stream",
          "text": [
            "Example data point: {'first_number': 15, 'second_number': 19, 'letter': 'k', 'string': 'kkkkkkkkkkkkzkkkkkkk'}\n",
            "Number of data points: 1000\n"
          ],
          "name": "stdout"
        }
      ]
    },
    {
      "cell_type": "markdown",
      "metadata": {
        "id": "0M_4-rgSv0l6"
      },
      "source": [
        "## Part 1"
      ]
    },
    {
      "cell_type": "code",
      "metadata": {
        "colab": {
          "base_uri": "https://localhost:8080/"
        },
        "id": "yOeJdGWAv47O",
        "outputId": "4dbcfe08-dba3-4dd7-d3e4-687f7324b846"
      },
      "source": [
        "import time\r\n",
        "\r\n",
        "start_time = time.time()\r\n",
        "\r\n",
        "valid_counter = 0\r\n",
        "for row_dictionary in parsed_data:\r\n",
        "  count_actual = row_dictionary['string'].count(row_dictionary['letter'])\r\n",
        "  if(count_actual >= row_dictionary['first_number'] and count_actual <= row_dictionary['second_number']):\r\n",
        "    valid_counter += 1\r\n",
        "\r\n",
        "print(\"Number of valid passwords according to policy:\", valid_counter)\r\n",
        "\r\n",
        "print(\"\\nExecution completed in {} seconds.\".format(time.time() - start_time))"
      ],
      "execution_count": 3,
      "outputs": [
        {
          "output_type": "stream",
          "text": [
            "Number of valid passwords according to policy: 655\n",
            "\n",
            "Execution completed in 0.0007596015930175781 seconds.\n"
          ],
          "name": "stdout"
        }
      ]
    },
    {
      "cell_type": "markdown",
      "metadata": {
        "id": "nEsQiShywVjI"
      },
      "source": [
        "## Part 2"
      ]
    },
    {
      "cell_type": "code",
      "metadata": {
        "colab": {
          "base_uri": "https://localhost:8080/"
        },
        "id": "LQgERSLBwVyb",
        "outputId": "8897a2ff-01a6-4302-fdd5-3e0b409cd738"
      },
      "source": [
        "import time\r\n",
        "\r\n",
        "start_time = time.time()\r\n",
        "\r\n",
        "valid_counter = 0\r\n",
        "for row_dictionary in parsed_data:\r\n",
        "  password = row_dictionary['string']\r\n",
        "  first_number = row_dictionary['first_number']\r\n",
        "  second_number = row_dictionary['second_number']\r\n",
        "  letter = row_dictionary['letter']\r\n",
        "  \r\n",
        "  if((password[first_number - 1] == letter) != (password[second_number - 1] == letter)):\r\n",
        "    valid_counter += 1\r\n",
        "\r\n",
        "print(\"Number of valid passwords according to policy:\", valid_counter)\r\n",
        "\r\n",
        "print(\"\\nExecution completed in {} seconds.\".format(time.time() - start_time))"
      ],
      "execution_count": 4,
      "outputs": [
        {
          "output_type": "stream",
          "text": [
            "Number of valid passwords according to policy: 673\n",
            "\n",
            "Execution completed in 0.004027366638183594 seconds.\n"
          ],
          "name": "stdout"
        }
      ]
    },
    {
      "cell_type": "code",
      "metadata": {
        "id": "K01KQj1Lw9Wq"
      },
      "source": [
        ""
      ],
      "execution_count": 4,
      "outputs": []
    }
  ]
}