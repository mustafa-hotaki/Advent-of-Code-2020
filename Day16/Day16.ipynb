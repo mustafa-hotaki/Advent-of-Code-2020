{
  "nbformat": 4,
  "nbformat_minor": 0,
  "metadata": {
    "colab": {
      "name": "Day16.ipynb",
      "provenance": [],
      "collapsed_sections": [],
      "toc_visible": true
    },
    "kernelspec": {
      "name": "python3",
      "display_name": "Python 3"
    }
  },
  "cells": [
    {
      "cell_type": "markdown",
      "metadata": {
        "id": "0HmMW2Q0QTY-"
      },
      "source": [
        "# Advent of Code - 2020 - Day 16\r\n"
      ]
    },
    {
      "cell_type": "code",
      "metadata": {
        "id": "YvCPTDkFQVlk"
      },
      "source": [
        "# Read data as one large string\r\n",
        "data = ''\r\n",
        "with open(\"inputs_day_16.txt\", \"r\") as f:\r\n",
        "  data = ''.join(f.readlines())"
      ],
      "execution_count": 1,
      "outputs": []
    },
    {
      "cell_type": "code",
      "metadata": {
        "colab": {
          "base_uri": "https://localhost:8080/"
        },
        "id": "vxWjfTJOQpZm",
        "outputId": "d593078c-84c1-4a0a-d884-c6ca25720637"
      },
      "source": [
        "# Parse\r\n",
        "data_groups = data.split('\\n\\n')\r\n",
        "\r\n",
        "# Capture field rules in a dictionary\r\n",
        "field_rules_raw = data_groups[0].split('\\n')\r\n",
        "field_rules = {}\r\n",
        "for rule in field_rules_raw:\r\n",
        "  rule_name = rule[:rule.find(':')]\r\n",
        "  ranges = rule[rule.find(':') + 2:].split(' ')\r\n",
        "  range_1 = [int(val) for val in ranges[0].split('-')]\r\n",
        "  range_2 = [int(val) for val in ranges[2].split('-')]\r\n",
        "  field_rules[rule_name] = [range_1, range_2]\r\n",
        "  \r\n",
        "field_rules"
      ],
      "execution_count": 2,
      "outputs": [
        {
          "output_type": "execute_result",
          "data": {
            "text/plain": [
              "{'arrival location': [[35, 336], [358, 960]],\n",
              " 'arrival platform': [[25, 632], [639, 970]],\n",
              " 'arrival station': [[47, 442], [449, 955]],\n",
              " 'arrival track': [[34, 461], [472, 967]],\n",
              " 'class': [[41, 211], [217, 959]],\n",
              " 'departure date': [[48, 572], [588, 965]],\n",
              " 'departure location': [[44, 401], [415, 965]],\n",
              " 'departure platform': [[29, 477], [484, 963]],\n",
              " 'departure station': [[44, 221], [243, 953]],\n",
              " 'departure time': [[48, 702], [719, 955]],\n",
              " 'departure track': [[43, 110], [126, 951]],\n",
              " 'duration': [[29, 500], [519, 969]],\n",
              " 'price': [[39, 423], [440, 969]],\n",
              " 'route': [[50, 264], [282, 958]],\n",
              " 'row': [[50, 907], [920, 972]],\n",
              " 'seat': [[27, 294], [315, 954]],\n",
              " 'train': [[29, 813], [827, 962]],\n",
              " 'type': [[45, 531], [546, 956]],\n",
              " 'wagon': [[29, 283], [292, 957]],\n",
              " 'zone': [[45, 518], [525, 974]]}"
            ]
          },
          "metadata": {
            "tags": []
          },
          "execution_count": 2
        }
      ]
    },
    {
      "cell_type": "code",
      "metadata": {
        "colab": {
          "base_uri": "https://localhost:8080/"
        },
        "id": "nO8uSiyCmOcy",
        "outputId": "a5014815-4e41-42d9-b13a-cce39e39313d"
      },
      "source": [
        "# Capture my ticket in a list\r\n",
        "my_ticket_raw = data_groups[1]\r\n",
        "my_ticket = [int(val) for val in my_ticket_raw[my_ticket_raw.find('\\n') + 1:].split(',')]\r\n",
        "print(my_ticket)"
      ],
      "execution_count": 3,
      "outputs": [
        {
          "output_type": "stream",
          "text": [
            "[89, 139, 79, 151, 97, 67, 71, 53, 59, 149, 127, 131, 103, 109, 137, 73, 101, 83, 61, 107]\n"
          ],
          "name": "stdout"
        }
      ]
    },
    {
      "cell_type": "code",
      "metadata": {
        "colab": {
          "base_uri": "https://localhost:8080/"
        },
        "id": "n2LJbDcKmQsZ",
        "outputId": "23577c36-cf8d-4a21-b7bf-abe445b66dcf"
      },
      "source": [
        "# Capture nearby tickets as a list of lists\r\n",
        "nearby_tickets_raw = data_groups[2]\r\n",
        "nearby_tickets = nearby_tickets_raw[nearby_tickets_raw.find('\\n') + 1:].split('\\n')\r\n",
        "nearby_tickets = [[int(val) for val in ticket.split(',')] for ticket in nearby_tickets]\r\n",
        "\r\n",
        "print(nearby_tickets[:2])"
      ],
      "execution_count": 4,
      "outputs": [
        {
          "output_type": "stream",
          "text": [
            "[[749, 494, 864, 530, 921, 599, 370, 550, 323, 202, 821, 99, 783, 496, 90, 828, 65, 605, 725, 745], [729, 731, 400, 774, 600, 84, 645, 661, 730, 486, 582, 870, 207, 640, 844, 567, 326, 592, 390, 664]]\n"
          ],
          "name": "stdout"
        }
      ]
    },
    {
      "cell_type": "markdown",
      "metadata": {
        "id": "E9sSjClFR10e"
      },
      "source": [
        "## Part 1"
      ]
    },
    {
      "cell_type": "code",
      "metadata": {
        "id": "maLaJmrMSFG1"
      },
      "source": [
        "# Applies rule (list of two ranges)\r\n",
        "# A range is a list of two numbers\r\n",
        "# To a number\r\n",
        "# Return true if passed\r\n",
        "def apply_rule_to_number(number, rule):\r\n",
        "  return ((number in range(rule[0][0], rule[0][1] + 1)) or (number in range(rule[1][0], rule[1][1] + 1)))\r\n"
      ],
      "execution_count": 5,
      "outputs": []
    },
    {
      "cell_type": "code",
      "metadata": {
        "id": "8TwP2EhmRK-L"
      },
      "source": [
        "# Apply a set of rules to a ticket\r\n",
        "# Return all numbers that make that ticket invalid \r\n",
        "# (in practice, there is only one number wrong with invalid tickets)\r\n",
        "\r\n",
        "def get_ticket_errors(ticket, rules):\r\n",
        "\r\n",
        "  # For each number in ticket, it keeps track of how many rules it failed\r\n",
        "  rule_failures_counts = [0] * len(ticket)\r\n",
        "\r\n",
        "  for rule in rules:\r\n",
        "    for i, ticket_number in enumerate(ticket):\r\n",
        "      rule_failures_counts[i] += 1 - int(apply_rule_to_number(ticket_number, rule))\r\n",
        "\r\n",
        "  errors = []\r\n",
        "  for i, rule_failures_count in enumerate(rule_failures_counts):\r\n",
        "    if(rule_failures_count == len(rules)): # failed all rules\r\n",
        "      errors.append(ticket[i])\r\n",
        "\r\n",
        "  return errors\r\n"
      ],
      "execution_count": 6,
      "outputs": []
    },
    {
      "cell_type": "code",
      "metadata": {
        "colab": {
          "base_uri": "https://localhost:8080/"
        },
        "id": "1J28tj1hRkpG",
        "outputId": "14c5deff-d911-4430-a7d5-2a39c29eb751"
      },
      "source": [
        "invalid_tickets_indices = []\r\n",
        "probelmatic_values_total = []\r\n",
        "for i, nearby_ticket in enumerate(nearby_tickets):\r\n",
        "  probelmatic_values = get_ticket_errors(nearby_ticket, list(field_rules.values()))\r\n",
        "  for probelmatic_value in probelmatic_values:\r\n",
        "    probelmatic_values_total.append(probelmatic_value)\r\n",
        "  if(len(probelmatic_values) > 0):\r\n",
        "    invalid_tickets_indices.append(i)\r\n",
        "\r\n",
        "\r\n",
        "ticket_scanning_error_rate = sum(probelmatic_values_total)\r\n",
        "print('Number of Invalid tickets indexes:', len(invalid_tickets_indices))\r\n",
        "print('Ticket scanning errors:', probelmatic_values_total)\r\n",
        "print('Ticket scanning error rate:', ticket_scanning_error_rate)\r\n"
      ],
      "execution_count": 7,
      "outputs": [
        {
          "output_type": "stream",
          "text": [
            "Number of Invalid tickets indexes: 51\n",
            "Ticket scanning errors: [986, 999, 977, 5, 982, 979, 985, 983, 992, 995, 994, 2, 987, 978, 8, 982, 986, 5, 19, 976, 12, 12, 16, 17, 4, 985, 18, 990, 13, 975, 23, 20, 22, 13, 996, 18, 17, 13, 986, 986, 13, 4, 992, 996, 992, 8, 983, 978, 987, 5, 997]\n",
            "Ticket scanning error rate: 27911\n"
          ],
          "name": "stdout"
        }
      ]
    },
    {
      "cell_type": "markdown",
      "metadata": {
        "id": "Hs0vzzpNWCoR"
      },
      "source": [
        "## Part 2\r\n",
        "\r\n",
        "I will not use Pandas for the logic, as I am hoping to do the actual logic with native Python and the Python Standard Library. However, Pandas allows for neat visualization of the ticket columns."
      ]
    },
    {
      "cell_type": "code",
      "metadata": {
        "colab": {
          "base_uri": "https://localhost:8080/",
          "height": 402
        },
        "id": "ueHOtjf3WaTg",
        "outputId": "ac00e34a-3794-462c-e017-9e809516b7a9"
      },
      "source": [
        "import pandas as pd  \r\n",
        "valid_tickets = [nearby_tickets[i] for i, nearby_ticket in enumerate(nearby_tickets) if i not in invalid_tickets_indices]\r\n",
        "df = pd.DataFrame(valid_tickets)  \r\n",
        "df"
      ],
      "execution_count": 8,
      "outputs": [
        {
          "output_type": "execute_result",
          "data": {
            "text/html": [
              "<div>\n",
              "<style scoped>\n",
              "    .dataframe tbody tr th:only-of-type {\n",
              "        vertical-align: middle;\n",
              "    }\n",
              "\n",
              "    .dataframe tbody tr th {\n",
              "        vertical-align: top;\n",
              "    }\n",
              "\n",
              "    .dataframe thead th {\n",
              "        text-align: right;\n",
              "    }\n",
              "</style>\n",
              "<table border=\"1\" class=\"dataframe\">\n",
              "  <thead>\n",
              "    <tr style=\"text-align: right;\">\n",
              "      <th></th>\n",
              "      <th>0</th>\n",
              "      <th>1</th>\n",
              "      <th>2</th>\n",
              "      <th>3</th>\n",
              "      <th>4</th>\n",
              "      <th>5</th>\n",
              "      <th>6</th>\n",
              "      <th>7</th>\n",
              "      <th>8</th>\n",
              "      <th>9</th>\n",
              "      <th>10</th>\n",
              "      <th>11</th>\n",
              "      <th>12</th>\n",
              "      <th>13</th>\n",
              "      <th>14</th>\n",
              "      <th>15</th>\n",
              "      <th>16</th>\n",
              "      <th>17</th>\n",
              "      <th>18</th>\n",
              "      <th>19</th>\n",
              "    </tr>\n",
              "  </thead>\n",
              "  <tbody>\n",
              "    <tr>\n",
              "      <th>0</th>\n",
              "      <td>749</td>\n",
              "      <td>494</td>\n",
              "      <td>864</td>\n",
              "      <td>530</td>\n",
              "      <td>921</td>\n",
              "      <td>599</td>\n",
              "      <td>370</td>\n",
              "      <td>550</td>\n",
              "      <td>323</td>\n",
              "      <td>202</td>\n",
              "      <td>821</td>\n",
              "      <td>99</td>\n",
              "      <td>783</td>\n",
              "      <td>496</td>\n",
              "      <td>90</td>\n",
              "      <td>828</td>\n",
              "      <td>65</td>\n",
              "      <td>605</td>\n",
              "      <td>725</td>\n",
              "      <td>745</td>\n",
              "    </tr>\n",
              "    <tr>\n",
              "      <th>1</th>\n",
              "      <td>729</td>\n",
              "      <td>731</td>\n",
              "      <td>400</td>\n",
              "      <td>774</td>\n",
              "      <td>600</td>\n",
              "      <td>84</td>\n",
              "      <td>645</td>\n",
              "      <td>661</td>\n",
              "      <td>730</td>\n",
              "      <td>486</td>\n",
              "      <td>582</td>\n",
              "      <td>870</td>\n",
              "      <td>207</td>\n",
              "      <td>640</td>\n",
              "      <td>844</td>\n",
              "      <td>567</td>\n",
              "      <td>326</td>\n",
              "      <td>592</td>\n",
              "      <td>390</td>\n",
              "      <td>664</td>\n",
              "    </tr>\n",
              "    <tr>\n",
              "      <th>2</th>\n",
              "      <td>658</td>\n",
              "      <td>564</td>\n",
              "      <td>639</td>\n",
              "      <td>901</td>\n",
              "      <td>754</td>\n",
              "      <td>589</td>\n",
              "      <td>352</td>\n",
              "      <td>373</td>\n",
              "      <td>102</td>\n",
              "      <td>677</td>\n",
              "      <td>54</td>\n",
              "      <td>949</td>\n",
              "      <td>596</td>\n",
              "      <td>316</td>\n",
              "      <td>93</td>\n",
              "      <td>648</td>\n",
              "      <td>109</td>\n",
              "      <td>676</td>\n",
              "      <td>499</td>\n",
              "      <td>416</td>\n",
              "    </tr>\n",
              "    <tr>\n",
              "      <th>3</th>\n",
              "      <td>203</td>\n",
              "      <td>527</td>\n",
              "      <td>234</td>\n",
              "      <td>99</td>\n",
              "      <td>933</td>\n",
              "      <td>695</td>\n",
              "      <td>771</td>\n",
              "      <td>142</td>\n",
              "      <td>864</td>\n",
              "      <td>702</td>\n",
              "      <td>875</td>\n",
              "      <td>758</td>\n",
              "      <td>876</td>\n",
              "      <td>359</td>\n",
              "      <td>741</td>\n",
              "      <td>605</td>\n",
              "      <td>668</td>\n",
              "      <td>52</td>\n",
              "      <td>376</td>\n",
              "      <td>886</td>\n",
              "    </tr>\n",
              "    <tr>\n",
              "      <th>4</th>\n",
              "      <td>872</td>\n",
              "      <td>457</td>\n",
              "      <td>109</td>\n",
              "      <td>217</td>\n",
              "      <td>162</td>\n",
              "      <td>786</td>\n",
              "      <td>805</td>\n",
              "      <td>788</td>\n",
              "      <td>168</td>\n",
              "      <td>684</td>\n",
              "      <td>937</td>\n",
              "      <td>672</td>\n",
              "      <td>828</td>\n",
              "      <td>632</td>\n",
              "      <td>943</td>\n",
              "      <td>108</td>\n",
              "      <td>336</td>\n",
              "      <td>769</td>\n",
              "      <td>804</td>\n",
              "      <td>911</td>\n",
              "    </tr>\n",
              "    <tr>\n",
              "      <th>...</th>\n",
              "      <td>...</td>\n",
              "      <td>...</td>\n",
              "      <td>...</td>\n",
              "      <td>...</td>\n",
              "      <td>...</td>\n",
              "      <td>...</td>\n",
              "      <td>...</td>\n",
              "      <td>...</td>\n",
              "      <td>...</td>\n",
              "      <td>...</td>\n",
              "      <td>...</td>\n",
              "      <td>...</td>\n",
              "      <td>...</td>\n",
              "      <td>...</td>\n",
              "      <td>...</td>\n",
              "      <td>...</td>\n",
              "      <td>...</td>\n",
              "      <td>...</td>\n",
              "      <td>...</td>\n",
              "      <td>...</td>\n",
              "    </tr>\n",
              "    <tr>\n",
              "      <th>185</th>\n",
              "      <td>379</td>\n",
              "      <td>877</td>\n",
              "      <td>218</td>\n",
              "      <td>361</td>\n",
              "      <td>809</td>\n",
              "      <td>904</td>\n",
              "      <td>745</td>\n",
              "      <td>804</td>\n",
              "      <td>109</td>\n",
              "      <td>840</td>\n",
              "      <td>283</td>\n",
              "      <td>149</td>\n",
              "      <td>792</td>\n",
              "      <td>366</td>\n",
              "      <td>83</td>\n",
              "      <td>60</td>\n",
              "      <td>443</td>\n",
              "      <td>210</td>\n",
              "      <td>843</td>\n",
              "      <td>62</td>\n",
              "    </tr>\n",
              "    <tr>\n",
              "      <th>186</th>\n",
              "      <td>186</td>\n",
              "      <td>383</td>\n",
              "      <td>399</td>\n",
              "      <td>130</td>\n",
              "      <td>937</td>\n",
              "      <td>188</td>\n",
              "      <td>180</td>\n",
              "      <td>162</td>\n",
              "      <td>527</td>\n",
              "      <td>942</td>\n",
              "      <td>252</td>\n",
              "      <td>321</td>\n",
              "      <td>146</td>\n",
              "      <td>631</td>\n",
              "      <td>565</td>\n",
              "      <td>869</td>\n",
              "      <td>288</td>\n",
              "      <td>611</td>\n",
              "      <td>359</td>\n",
              "      <td>700</td>\n",
              "    </tr>\n",
              "    <tr>\n",
              "      <th>187</th>\n",
              "      <td>927</td>\n",
              "      <td>549</td>\n",
              "      <td>186</td>\n",
              "      <td>889</td>\n",
              "      <td>172</td>\n",
              "      <td>928</td>\n",
              "      <td>691</td>\n",
              "      <td>568</td>\n",
              "      <td>321</td>\n",
              "      <td>657</td>\n",
              "      <td>890</td>\n",
              "      <td>294</td>\n",
              "      <td>610</td>\n",
              "      <td>644</td>\n",
              "      <td>679</td>\n",
              "      <td>532</td>\n",
              "      <td>263</td>\n",
              "      <td>874</td>\n",
              "      <td>726</td>\n",
              "      <td>132</td>\n",
              "    </tr>\n",
              "    <tr>\n",
              "      <th>188</th>\n",
              "      <td>548</td>\n",
              "      <td>722</td>\n",
              "      <td>526</td>\n",
              "      <td>649</td>\n",
              "      <td>376</td>\n",
              "      <td>949</td>\n",
              "      <td>459</td>\n",
              "      <td>305</td>\n",
              "      <td>187</td>\n",
              "      <td>834</td>\n",
              "      <td>668</td>\n",
              "      <td>372</td>\n",
              "      <td>398</td>\n",
              "      <td>696</td>\n",
              "      <td>610</td>\n",
              "      <td>93</td>\n",
              "      <td>476</td>\n",
              "      <td>473</td>\n",
              "      <td>777</td>\n",
              "      <td>756</td>\n",
              "    </tr>\n",
              "    <tr>\n",
              "      <th>189</th>\n",
              "      <td>162</td>\n",
              "      <td>324</td>\n",
              "      <td>143</td>\n",
              "      <td>474</td>\n",
              "      <td>648</td>\n",
              "      <td>631</td>\n",
              "      <td>487</td>\n",
              "      <td>223</td>\n",
              "      <td>252</td>\n",
              "      <td>201</td>\n",
              "      <td>358</td>\n",
              "      <td>378</td>\n",
              "      <td>333</td>\n",
              "      <td>905</td>\n",
              "      <td>70</td>\n",
              "      <td>316</td>\n",
              "      <td>787</td>\n",
              "      <td>666</td>\n",
              "      <td>159</td>\n",
              "      <td>929</td>\n",
              "    </tr>\n",
              "  </tbody>\n",
              "</table>\n",
              "<p>190 rows × 20 columns</p>\n",
              "</div>"
            ],
            "text/plain": [
              "      0    1    2    3    4    5    6   ...   13   14   15   16   17   18   19\n",
              "0    749  494  864  530  921  599  370  ...  496   90  828   65  605  725  745\n",
              "1    729  731  400  774  600   84  645  ...  640  844  567  326  592  390  664\n",
              "2    658  564  639  901  754  589  352  ...  316   93  648  109  676  499  416\n",
              "3    203  527  234   99  933  695  771  ...  359  741  605  668   52  376  886\n",
              "4    872  457  109  217  162  786  805  ...  632  943  108  336  769  804  911\n",
              "..   ...  ...  ...  ...  ...  ...  ...  ...  ...  ...  ...  ...  ...  ...  ...\n",
              "185  379  877  218  361  809  904  745  ...  366   83   60  443  210  843   62\n",
              "186  186  383  399  130  937  188  180  ...  631  565  869  288  611  359  700\n",
              "187  927  549  186  889  172  928  691  ...  644  679  532  263  874  726  132\n",
              "188  548  722  526  649  376  949  459  ...  696  610   93  476  473  777  756\n",
              "189  162  324  143  474  648  631  487  ...  905   70  316  787  666  159  929\n",
              "\n",
              "[190 rows x 20 columns]"
            ]
          },
          "metadata": {
            "tags": []
          },
          "execution_count": 8
        }
      ]
    },
    {
      "cell_type": "code",
      "metadata": {
        "colab": {
          "base_uri": "https://localhost:8080/"
        },
        "id": "UX9cBFbdXFS8",
        "outputId": "d2a88d36-399d-47a8-feb5-07a85fa27864"
      },
      "source": [
        "# Each item is a list of rules that are not broken by the elements of the corresponding column\r\n",
        "rules_adhered_to_by_columns = {i : [] for i in range(df.shape[1])}\r\n",
        "\r\n",
        "for i in range(len(valid_tickets[0])): # for number of columns\r\n",
        "  column = [valid_tickets[j][i] for j in range(len(valid_tickets))] # grab the column\r\n",
        "  for rule_key in field_rules.keys():\r\n",
        "    rule_applies_counter = 0\r\n",
        "    for column_element in column:\r\n",
        "      if(apply_rule_to_number(column_element, field_rules[rule_key])):\r\n",
        "        rule_applies_counter += 1\r\n",
        "\r\n",
        "    if(rule_applies_counter == len(column)):\r\n",
        "      rules_adhered_to_by_columns[i].append(rule_key)\r\n",
        "\r\n",
        "for key in rules_adhered_to_by_columns:\r\n",
        "    print(key, rules_adhered_to_by_columns[key])"
      ],
      "execution_count": 9,
      "outputs": [
        {
          "output_type": "stream",
          "text": [
            "0 ['departure location', 'departure station', 'departure platform', 'departure track', 'departure date', 'departure time', 'arrival station', 'arrival platform', 'arrival track', 'class', 'duration', 'seat', 'wagon', 'zone']\n",
            "1 ['departure location', 'departure station', 'departure platform', 'departure track', 'departure date', 'departure time', 'arrival location', 'arrival station', 'arrival platform', 'arrival track', 'class', 'duration', 'price', 'route', 'row', 'seat', 'train', 'type', 'wagon', 'zone']\n",
            "2 ['arrival platform', 'arrival track', 'class', 'duration', 'seat', 'wagon', 'zone']\n",
            "3 ['departure location', 'departure station', 'departure platform', 'departure track', 'departure date', 'departure time', 'arrival location', 'arrival station', 'arrival platform', 'arrival track', 'class', 'duration', 'route', 'seat', 'train', 'type', 'wagon', 'zone']\n",
            "4 ['departure location', 'departure station', 'departure platform', 'departure track', 'departure date', 'departure time', 'arrival station', 'arrival platform', 'arrival track', 'class', 'duration', 'route', 'seat', 'train', 'type', 'wagon', 'zone']\n",
            "5 ['departure location', 'departure station', 'departure platform', 'departure track', 'departure date', 'departure time', 'arrival station', 'arrival platform', 'arrival track', 'class', 'duration', 'route', 'seat', 'wagon', 'zone']\n",
            "6 ['departure location', 'departure station', 'departure platform', 'departure track', 'departure date', 'departure time', 'arrival platform', 'arrival track', 'class', 'duration', 'seat', 'wagon', 'zone']\n",
            "7 ['zone']\n",
            "8 ['arrival track', 'class', 'zone']\n",
            "9 ['arrival track', 'class', 'duration', 'seat', 'zone']\n",
            "10 ['departure location', 'departure station', 'departure platform', 'departure track', 'arrival platform', 'arrival track', 'class', 'duration', 'seat', 'wagon', 'zone']\n",
            "11 ['departure location', 'departure station', 'departure platform', 'departure track', 'departure time', 'arrival platform', 'arrival track', 'class', 'duration', 'seat', 'wagon', 'zone']\n",
            "12 ['departure station', 'departure platform', 'departure track', 'arrival platform', 'arrival track', 'class', 'duration', 'seat', 'wagon', 'zone']\n",
            "13 ['arrival platform', 'arrival track', 'class', 'duration', 'seat', 'zone']\n",
            "14 ['departure location', 'departure station', 'departure platform', 'departure track', 'departure date', 'departure time', 'arrival location', 'arrival station', 'arrival platform', 'arrival track', 'class', 'duration', 'price', 'route', 'seat', 'train', 'type', 'wagon', 'zone']\n",
            "15 ['departure track', 'arrival platform', 'arrival track', 'class', 'duration', 'seat', 'wagon', 'zone']\n",
            "16 ['arrival track', 'class', 'duration', 'zone']\n",
            "17 ['departure station', 'departure track', 'arrival platform', 'arrival track', 'class', 'duration', 'seat', 'wagon', 'zone']\n",
            "18 ['class', 'zone']\n",
            "19 ['departure location', 'departure station', 'departure platform', 'departure track', 'departure date', 'departure time', 'arrival station', 'arrival platform', 'arrival track', 'class', 'duration', 'route', 'seat', 'train', 'wagon', 'zone']\n"
          ],
          "name": "stdout"
        }
      ]
    },
    {
      "cell_type": "markdown",
      "metadata": {
        "id": "nG5K3krfY7ba"
      },
      "source": [
        "As we can see, each column may have multiple rules it complies with. We need to process this such that each coumn is asscoiated with a single rule. We can do this by starting with columns that only comply with a single rule. This means that it cannot apply to any other column, and so we remove its association with other column. This should lead to additional columns that will only have a single rule. We can repeat this process until all columns are associated with a single rule. This is not very efficient, but it will do for this problem."
      ]
    },
    {
      "cell_type": "code",
      "metadata": {
        "colab": {
          "base_uri": "https://localhost:8080/"
        },
        "id": "6tcCIYsPY2AQ",
        "outputId": "f065cff1-0d54-4eb7-b1b0-33f0deeabfa9"
      },
      "source": [
        "already_removed = []\r\n",
        "\r\n",
        "while(True):\r\n",
        "\r\n",
        "  for i in rules_adhered_to_by_columns.keys():\r\n",
        "    if(len(rules_adhered_to_by_columns[i]) == 1):\r\n",
        "      rule = rules_adhered_to_by_columns[i][0]\r\n",
        "      if(rule not in already_removed):\r\n",
        "        already_removed.append(rule)\r\n",
        "        for j in rules_adhered_to_by_columns.keys():\r\n",
        "          if(len(rules_adhered_to_by_columns[j]) >= 2):\r\n",
        "            if(rule in rules_adhered_to_by_columns[j]):\r\n",
        "              rules_adhered_to_by_columns[j].remove(rule)\r\n",
        "\r\n",
        "  counter = 0\r\n",
        "  for key in rules_adhered_to_by_columns.keys():\r\n",
        "    if(len(rules_adhered_to_by_columns[key]) == 1):\r\n",
        "      counter += 1\r\n",
        "\r\n",
        "  if(counter == len(field_rules)):\r\n",
        "    break\r\n",
        "\r\n",
        "for key in rules_adhered_to_by_columns:\r\n",
        "    print(key, rules_adhered_to_by_columns[key])"
      ],
      "execution_count": 10,
      "outputs": [
        {
          "output_type": "stream",
          "text": [
            "0 ['arrival station']\n",
            "1 ['row']\n",
            "2 ['wagon']\n",
            "3 ['arrival location']\n",
            "4 ['type']\n",
            "5 ['route']\n",
            "6 ['departure date']\n",
            "7 ['zone']\n",
            "8 ['arrival track']\n",
            "9 ['seat']\n",
            "10 ['departure location']\n",
            "11 ['departure time']\n",
            "12 ['departure platform']\n",
            "13 ['arrival platform']\n",
            "14 ['price']\n",
            "15 ['departure track']\n",
            "16 ['duration']\n",
            "17 ['departure station']\n",
            "18 ['class']\n",
            "19 ['train']\n"
          ],
          "name": "stdout"
        }
      ]
    },
    {
      "cell_type": "code",
      "metadata": {
        "colab": {
          "base_uri": "https://localhost:8080/"
        },
        "id": "BMWvg8RMbxw7",
        "outputId": "287795db-634c-4c90-8cb2-f0ba4b5e9cfd"
      },
      "source": [
        "indexes = []\r\n",
        "for i, key in enumerate(rules_adhered_to_by_columns.keys()):\r\n",
        "  if(rules_adhered_to_by_columns[key][0][:9] == 'departure'):\r\n",
        "    indexes.append(i)\r\n",
        "    \r\n",
        "prod = 1\r\n",
        "for i, n in enumerate(my_ticket):\r\n",
        "  if(i in indexes):\r\n",
        "    prod *= n\r\n",
        "prod"
      ],
      "execution_count": 11,
      "outputs": [
        {
          "output_type": "execute_result",
          "data": {
            "text/plain": [
              "737176602479"
            ]
          },
          "metadata": {
            "tags": []
          },
          "execution_count": 11
        }
      ]
    },
    {
      "cell_type": "code",
      "metadata": {
        "id": "ypQFs3zBlLSm"
      },
      "source": [
        ""
      ],
      "execution_count": 11,
      "outputs": []
    }
  ]
}