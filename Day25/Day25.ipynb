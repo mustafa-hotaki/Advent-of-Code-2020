{
  "nbformat": 4,
  "nbformat_minor": 0,
  "metadata": {
    "colab": {
      "name": "Day25.ipynb",
      "provenance": [],
      "toc_visible": true
    },
    "kernelspec": {
      "name": "python3",
      "display_name": "Python 3"
    }
  },
  "cells": [
    {
      "cell_type": "markdown",
      "metadata": {
        "id": "dl_m_hlC_4Y0"
      },
      "source": [
        "# Advent of Code 2020 - Day 25"
      ]
    },
    {
      "cell_type": "code",
      "metadata": {
        "colab": {
          "base_uri": "https://localhost:8080/"
        },
        "id": "uQfnN0q5_3wo",
        "outputId": "5242ab25-8106-4079-955c-17a42407da48"
      },
      "source": [
        "data = []\r\n",
        "with open('inputs_day_25.txt', 'r') as f:\r\n",
        "  for line in f:\r\n",
        "    data.append(line.strip())\r\n",
        "\r\n",
        "data"
      ],
      "execution_count": 1,
      "outputs": [
        {
          "output_type": "execute_result",
          "data": {
            "text/plain": [
              "['6929599', '2448427']"
            ]
          },
          "metadata": {
            "tags": []
          },
          "execution_count": 1
        }
      ]
    },
    {
      "cell_type": "code",
      "metadata": {
        "id": "hq0qLCa0QTfe"
      },
      "source": [
        "card_public_key = int(data[0])\r\n",
        "door_public_key = int(data[1])"
      ],
      "execution_count": 2,
      "outputs": []
    },
    {
      "cell_type": "code",
      "metadata": {
        "colab": {
          "base_uri": "https://localhost:8080/"
        },
        "id": "RlrDd8n3R4qc",
        "outputId": "36bf2ddd-2c6b-462b-dfb5-88727ea8f55e"
      },
      "source": [
        "subject_number = 7\r\n",
        "\r\n",
        "value = 1\r\n",
        "\r\n",
        "counter = 0\r\n",
        "while(True):\r\n",
        "  value = value * subject_number\r\n",
        "  value = value % 20201227\r\n",
        "  #print(counter, value)\r\n",
        "\r\n",
        "  counter += 1\r\n",
        "\r\n",
        "  if(value == card_public_key):\r\n",
        "    break\r\n",
        "\r\n",
        "card_loop_size = counter\r\n",
        "card_loop_size"
      ],
      "execution_count": 3,
      "outputs": [
        {
          "output_type": "execute_result",
          "data": {
            "text/plain": [
              "15210194"
            ]
          },
          "metadata": {
            "tags": []
          },
          "execution_count": 3
        }
      ]
    },
    {
      "cell_type": "code",
      "metadata": {
        "colab": {
          "base_uri": "https://localhost:8080/"
        },
        "id": "iAP7bQtpTE2N",
        "outputId": "1bf1bbad-4977-4250-f8d8-cc2a69fa1e74"
      },
      "source": [
        "subject_number = 7\r\n",
        "\r\n",
        "value = 1\r\n",
        "\r\n",
        "counter = 0\r\n",
        "while(True):\r\n",
        "  value = value * subject_number\r\n",
        "  value = value % 20201227\r\n",
        "  #print(counter, value)\r\n",
        "\r\n",
        "  counter += 1\r\n",
        "\r\n",
        "  if(value == door_public_key):\r\n",
        "    break\r\n",
        "\r\n",
        "door_loop_size = counter\r\n",
        "door_loop_size"
      ],
      "execution_count": 4,
      "outputs": [
        {
          "output_type": "execute_result",
          "data": {
            "text/plain": [
              "8652834"
            ]
          },
          "metadata": {
            "tags": []
          },
          "execution_count": 4
        }
      ]
    },
    {
      "cell_type": "code",
      "metadata": {
        "colab": {
          "base_uri": "https://localhost:8080/"
        },
        "id": "kLQUXorBUCgI",
        "outputId": "bb45b402-41e7-4fa9-b883-ab13168bfebb"
      },
      "source": [
        "subject_number = door_public_key\r\n",
        "value = 1\r\n",
        "for i in range(card_loop_size):\r\n",
        "  value = value * subject_number\r\n",
        "  value = value % 20201227\r\n",
        "\r\n",
        "value\r\n"
      ],
      "execution_count": 5,
      "outputs": [
        {
          "output_type": "execute_result",
          "data": {
            "text/plain": [
              "16933668"
            ]
          },
          "metadata": {
            "tags": []
          },
          "execution_count": 5
        }
      ]
    }
  ]
}