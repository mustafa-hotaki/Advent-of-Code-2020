{
  "nbformat": 4,
  "nbformat_minor": 0,
  "metadata": {
    "colab": {
      "name": "Day 14.ipynb",
      "provenance": [],
      "collapsed_sections": []
    },
    "kernelspec": {
      "name": "python3",
      "display_name": "Python 3"
    }
  },
  "cells": [
    {
      "cell_type": "markdown",
      "metadata": {
        "id": "lYnwWldW8sTX"
      },
      "source": [
        "# Advent of Code - 2020 - Day 14"
      ]
    },
    {
      "cell_type": "code",
      "metadata": {
        "colab": {
          "base_uri": "https://localhost:8080/"
        },
        "id": "WpnAumK58s0F",
        "outputId": "acf9f777-89d9-4615-87ca-7ab60fd5847d"
      },
      "source": [
        "data = []\r\n",
        "with open(\"inputs_day_14.txt\", \"r\") as f:\r\n",
        "  for line in f:\r\n",
        "    line_formatted = line.strip()\r\n",
        "    #print(laine_formatted)\r\n",
        "    data.append(line_formatted)\r\n",
        "\r\n",
        "print(len(data))"
      ],
      "execution_count": 1,
      "outputs": [
        {
          "output_type": "stream",
          "text": [
            "580\n"
          ],
          "name": "stdout"
        }
      ]
    },
    {
      "cell_type": "code",
      "metadata": {
        "id": "s9RgCa_5gBxp"
      },
      "source": [
        "# Parse\r\n",
        "parsed_data = []\r\n",
        "for dp in data:\r\n",
        "  if(dp[:4] == 'mask'):\r\n",
        "    mask = (dp[dp.index('=') + 1 :]).strip()\r\n",
        "    parsed_data.append(('mask', mask))\r\n",
        "  else: # mem\r\n",
        "    address = int(dp[4:dp.index(']')])\r\n",
        "    value = int(dp[dp.index('=') + 1 :])\r\n",
        "    parsed_data.append(('mem', address, value))\r\n"
      ],
      "execution_count": 2,
      "outputs": []
    },
    {
      "cell_type": "markdown",
      "metadata": {
        "id": "3RpSmXZu8ZDg"
      },
      "source": [
        "## Part 1"
      ]
    },
    {
      "cell_type": "code",
      "metadata": {
        "id": "fss0ZARErnew"
      },
      "source": [
        "# Apply bitmask to decimal value and return a decimal\r\n",
        "def apply_mask_to_value(mask, value):\r\n",
        "  binary = bin(value)[2:]\r\n",
        "  binary_full_width = [bit for bit in ('0' * (36 - len(binary)) + binary)]\r\n",
        "\r\n",
        "  for i, bit in enumerate(mask):\r\n",
        "    if(bit != 'X'):\r\n",
        "      binary_full_width[i] = mask[i]\r\n",
        "\r\n",
        "  return int(''.join(binary_full_width), 2)"
      ],
      "execution_count": 3,
      "outputs": []
    },
    {
      "cell_type": "code",
      "metadata": {
        "colab": {
          "base_uri": "https://localhost:8080/"
        },
        "id": "XPyrZq8NoRU4",
        "outputId": "fea91e62-703f-4477-9e2b-8a6ea7a35af1"
      },
      "source": [
        "memory = {}\r\n",
        "\r\n",
        "current_mask = ['X'] * 36 # Default mask: does nothing\r\n",
        "for program_counter, instr in enumerate(parsed_data):\r\n",
        "  if(instr[0] == 'mask'):\r\n",
        "    current_mask = instr[1]\r\n",
        "\r\n",
        "  else: # if mem\r\n",
        "    value_after_mask = apply_mask_to_value(current_mask, instr[2])\r\n",
        "    memory[instr[1]] = value_after_mask\r\n",
        "\r\n",
        "mem_dump = list(memory.values())\r\n",
        "print(sum(mem_dump))"
      ],
      "execution_count": 4,
      "outputs": [
        {
          "output_type": "stream",
          "text": [
            "7477696999511\n"
          ],
          "name": "stdout"
        }
      ]
    },
    {
      "cell_type": "markdown",
      "metadata": {
        "id": "lTL3TS0ZwoHF"
      },
      "source": [
        "## Part 2"
      ]
    },
    {
      "cell_type": "code",
      "metadata": {
        "colab": {
          "base_uri": "https://localhost:8080/"
        },
        "id": "nk6q5Cb_woQ6",
        "outputId": "a20d85b0-8a2f-403c-a15c-b261c317e67a"
      },
      "source": [
        "import itertools\r\n",
        "import copy\r\n",
        "\r\n",
        "# Apply bitmask to decimal address and return a list of addresses\r\n",
        "def apply_mask_to_address(mask, address):\r\n",
        "  binary = bin(address)[2:]\r\n",
        "  binary_full_width = [bit for bit in ('0' * (36 - len(binary)) + binary)]\r\n",
        "\r\n",
        "  for i, bit in enumerate(mask):\r\n",
        "    if(bit == '1' or bit == 'X'):\r\n",
        "      binary_full_width[i] = bit\r\n",
        "\r\n",
        "  num_floating = binary_full_width.count('X')\r\n",
        "\r\n",
        "  \r\n",
        "  # Generate all num_floating-bit numbers\r\n",
        "  lst = list(itertools.product([0, 1], repeat=num_floating)) \r\n",
        "\r\n",
        "  addresses = []\r\n",
        "  for pattern in lst:\r\n",
        "    address = [bit for bit in binary_full_width] # Copy\r\n",
        "    k = 0\r\n",
        "    for i, bit in enumerate(address):\r\n",
        "      if(address[i] == 'X'):\r\n",
        "        address[i] = str(pattern[k])\r\n",
        "        k += 1\r\n",
        "    addresses.append(int(''.join(address), 2))\r\n",
        "   \r\n",
        "  return addresses\r\n",
        "\r\n",
        "mask = '00000000000000000000000000000000X0XX'\r\n",
        "address = 26\r\n",
        "apply_mask_to_address(mask, address)\r\n"
      ],
      "execution_count": 5,
      "outputs": [
        {
          "output_type": "execute_result",
          "data": {
            "text/plain": [
              "[16, 17, 18, 19, 24, 25, 26, 27]"
            ]
          },
          "metadata": {
            "tags": []
          },
          "execution_count": 5
        }
      ]
    },
    {
      "cell_type": "code",
      "metadata": {
        "colab": {
          "base_uri": "https://localhost:8080/"
        },
        "id": "O6-4Hl8owxBv",
        "outputId": "ea5ec14e-997f-4cc4-894a-418558c7f83b"
      },
      "source": [
        "memory = {}\r\n",
        "\r\n",
        "current_mask = ['0'] * 36 # Default mask: does nothing\r\n",
        "for program_counter, instr in enumerate(parsed_data):\r\n",
        "  if(instr[0] == 'mask'):\r\n",
        "    current_mask = instr[1]\r\n",
        "\r\n",
        "  else: # if mem\r\n",
        "    addresses = apply_mask_to_address(current_mask, instr[1])\r\n",
        "    for address in addresses:\r\n",
        "      memory[address] = instr[2]\r\n",
        "\r\n",
        "mem_dump = list(memory.values())\r\n",
        "sum(mem_dump)"
      ],
      "execution_count": 6,
      "outputs": [
        {
          "output_type": "execute_result",
          "data": {
            "text/plain": [
              "3687727854171"
            ]
          },
          "metadata": {
            "tags": []
          },
          "execution_count": 6
        }
      ]
    },
    {
      "cell_type": "code",
      "metadata": {
        "id": "xZ5-64eW-dCN"
      },
      "source": [
        ""
      ],
      "execution_count": 6,
      "outputs": []
    }
  ]
}