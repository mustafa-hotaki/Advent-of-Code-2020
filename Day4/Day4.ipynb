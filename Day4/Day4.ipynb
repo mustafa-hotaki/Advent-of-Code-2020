{
  "nbformat": 4,
  "nbformat_minor": 0,
  "metadata": {
    "colab": {
      "name": "Day4.ipynb",
      "provenance": [],
      "collapsed_sections": []
    },
    "kernelspec": {
      "name": "python3",
      "display_name": "Python 3"
    }
  },
  "cells": [
    {
      "cell_type": "markdown",
      "metadata": {
        "id": "w8zDeNd-1-UO"
      },
      "source": [
        "# Advent of Code - 2020 - Day 4"
      ]
    },
    {
      "cell_type": "code",
      "metadata": {
        "colab": {
          "base_uri": "https://localhost:8080/"
        },
        "id": "qVpKpMDZ2AY0",
        "outputId": "d51bfe6c-02fc-4bd8-ecb7-cc26ecb184d6"
      },
      "source": [
        "# Read input as one large string\r\n",
        "data = ''\r\n",
        "with open(\"inputs_day_4.txt\", \"r\") as f:\r\n",
        "  data = ''.join(f.readlines())"
      ],
      "execution_count": null,
      "outputs": [
        {
          "output_type": "stream",
          "text": [
            "\n"
          ],
          "name": "stdout"
        }
      ]
    },
    {
      "cell_type": "code",
      "metadata": {
        "colab": {
          "base_uri": "https://localhost:8080/"
        },
        "id": "wc4dUSRP3CTn",
        "outputId": "5aa2363b-e115-43d9-fcb3-df07c1af2faa"
      },
      "source": [
        "# Parse\r\n",
        "passports_raw = data.split('\\n\\n')\r\n",
        "passports = []\r\n",
        "for passport_raw in passports_raw:\r\n",
        "  passport = {}\r\n",
        "  passport_lines = passport_raw.split('\\n')\r\n",
        "  for passport_line in passport_lines:\r\n",
        "    fields = passport_line.split(' ')\r\n",
        "    for field in fields:\r\n",
        "      key = field.split(\":\")[0]\r\n",
        "      value = field.split(\":\")[1]\r\n",
        "      passport[key] = value\r\n",
        "  passports.append(passport)\r\n",
        "\r\n",
        "print('Example data point:', passports[0])\r\n",
        "print('Number of data points:', len(passports))"
      ],
      "execution_count": null,
      "outputs": [
        {
          "output_type": "stream",
          "text": [
            "Example data point: {'byr': '2010', 'pid': '#1bb4d8', 'eyr': '2021', 'hgt': '186cm', 'iyr': '2020', 'ecl': 'grt'}\n",
            "Number of data points: 279\n"
          ],
          "name": "stdout"
        }
      ]
    },
    {
      "cell_type": "markdown",
      "metadata": {
        "id": "1jGQgV8K3P81"
      },
      "source": [
        "## Part 1\r\n",
        "\r\n",
        "\r\n"
      ]
    },
    {
      "cell_type": "code",
      "metadata": {
        "colab": {
          "base_uri": "https://localhost:8080/"
        },
        "id": "J3lRrCzM3Tuv",
        "outputId": "fb6ce63f-92ed-4e7d-f39a-1f7a37cb5e79"
      },
      "source": [
        "import time\r\n",
        "\r\n",
        "start_time = time.time()\r\n",
        "\r\n",
        "valid_passport_counter = 0\r\n",
        "for passport in passports:\r\n",
        "  if(len(passport) == 8): # assume no repeating keys\r\n",
        "    valid_passport_counter += 1\r\n",
        "  elif(len(passport) == 7 and (not ('cid' in passport.keys()))): # assume the others are right\r\n",
        "    valid_passport_counter += 1\r\n",
        "\r\n",
        "end_time = time.time()\r\n",
        "\r\n",
        "print(\"Number of valid passports according to rules:\", valid_passport_counter)\r\n",
        "print(\"\\nExecution completed in {} seconds.\".format(end_time - start_time))"
      ],
      "execution_count": null,
      "outputs": [
        {
          "output_type": "stream",
          "text": [
            "Number of valid passports according to rules: 213\n",
            "\n",
            "Execution completed in 0.0001785755157470703 seconds.\n"
          ],
          "name": "stdout"
        }
      ]
    },
    {
      "cell_type": "markdown",
      "metadata": {
        "id": "H_AMcCzO3TMX"
      },
      "source": [
        "## Part 2\r\n",
        "\r\n",
        "Part 2 is currently a mess. Need to clean up first."
      ]
    },
    {
      "cell_type": "code",
      "metadata": {
        "id": "rZXHmcaE3rh0"
      },
      "source": [
        ""
      ],
      "execution_count": null,
      "outputs": []
    }
  ]
}