{
  "nbformat": 4,
  "nbformat_minor": 0,
  "metadata": {
    "colab": {
      "name": "Day3.ipynb",
      "provenance": [],
      "collapsed_sections": [],
      "toc_visible": true
    },
    "kernelspec": {
      "name": "python3",
      "display_name": "Python 3"
    }
  },
  "cells": [
    {
      "cell_type": "markdown",
      "metadata": {
        "id": "8ZIl9zg4yKqH"
      },
      "source": [
        "# Advent of Code - 2020 - Day 3\r\n"
      ]
    },
    {
      "cell_type": "code",
      "metadata": {
        "colab": {
          "base_uri": "https://localhost:8080/"
        },
        "id": "CNk1X1CEyKWr",
        "outputId": "962d6c6e-fee8-4c40-e95b-0ebf790f6326"
      },
      "source": [
        "data = []\r\n",
        "with open(\"inputs_day_3.txt\", \"r\") as f:\r\n",
        "  for line in f:\r\n",
        "    data.append(line.strip())\r\n",
        "print('First 2 data points:', data[:2])\r\n",
        "print('Number of data points:', len(data))"
      ],
      "execution_count": null,
      "outputs": [
        {
          "output_type": "stream",
          "text": [
            "First 2 data points: ['...............#...#..#...#....', '...#....##.....##...######..#..']\n",
            "Number of data points: 323\n"
          ],
          "name": "stdout"
        }
      ]
    },
    {
      "cell_type": "markdown",
      "metadata": {
        "id": "zMYkp_s-z9AI"
      },
      "source": [
        "## Part 1"
      ]
    },
    {
      "cell_type": "code",
      "metadata": {
        "id": "eqkARxKKz8oR"
      },
      "source": [
        "def tree_counter(trees_list, right, down):\r\n",
        "  tree_counter = 0\r\n",
        "  for i in range(0, len(trees_list), down):\r\n",
        "    line = trees_list[i]\r\n",
        "    index_true = int(i/down) * right # int(i/down) counts the number of iterations\r\n",
        "    index_wrapped = index_true % len(line)\r\n",
        "\r\n",
        "    #print(line, index_true, index_wrapped, line[index_wrapped])\r\n",
        "    if(line[index_wrapped] == '#'):\r\n",
        "      tree_counter += 1\r\n",
        "\r\n",
        "  return tree_counter"
      ],
      "execution_count": null,
      "outputs": []
    },
    {
      "cell_type": "code",
      "metadata": {
        "colab": {
          "base_uri": "https://localhost:8080/"
        },
        "id": "NCCd1flxyQJw",
        "outputId": "0efd4ba9-481e-41be-f439-1732613ac5a8"
      },
      "source": [
        "import time\r\n",
        "\r\n",
        "start_time = time.time()\r\n",
        "\r\n",
        "number_trees = tree_counter(data, 3, 1)\r\n",
        "\r\n",
        "end_time = time.time()\r\n",
        "\r\n",
        "print(\"Number of trees\", number_trees)\r\n",
        "print(\"\\nExecution completed in {} seconds.\".format(end_time - start_time))"
      ],
      "execution_count": null,
      "outputs": [
        {
          "output_type": "stream",
          "text": [
            "Number of trees 232\n",
            "\n",
            "Execution completed in 0.0004260540008544922 seconds.\n"
          ],
          "name": "stdout"
        }
      ]
    },
    {
      "cell_type": "markdown",
      "metadata": {
        "id": "8G0ZHw7oyjdW"
      },
      "source": [
        "## Part 2"
      ]
    },
    {
      "cell_type": "code",
      "metadata": {
        "colab": {
          "base_uri": "https://localhost:8080/"
        },
        "id": "ahaVIL_4yjli",
        "outputId": "564c8b80-2081-4173-cc49-f1e0f626641a"
      },
      "source": [
        "import time\r\n",
        "from functools import reduce\r\n",
        "\r\n",
        "start_time = time.time()\r\n",
        "\r\n",
        "list_of_trees = [tree_counter(data, 1, 1), \r\n",
        "         tree_counter(data, 3, 1), \r\n",
        "         tree_counter(data, 5, 1), \r\n",
        "         tree_counter(data, 7, 1),\r\n",
        "         tree_counter(data, 1, 2)]\r\n",
        "\r\n",
        "end_time = time.time()\r\n",
        "\r\n",
        "print(\"List of trees for slopes:\", list_of_trees)\r\n",
        "print(\"Product of number of trees\", reduce((lambda x, y: x * y), list_of_trees))\r\n",
        "\r\n",
        "print(\"\\nExecution completed in {} seconds.\".format(end_time - start_time))"
      ],
      "execution_count": null,
      "outputs": [
        {
          "output_type": "stream",
          "text": [
            "List of trees for slopes: [86, 232, 90, 71, 31]\n",
            "Product of number of trees 3952291680\n",
            "\n",
            "Execution completed in 0.000518798828125 seconds.\n"
          ],
          "name": "stdout"
        }
      ]
    }
  ]
}